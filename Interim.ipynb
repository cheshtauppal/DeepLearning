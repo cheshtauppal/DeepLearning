{
 "cells": [
  {
   "cell_type": "code",
   "execution_count": 1,
   "id": "ce6fa751",
   "metadata": {},
   "outputs": [
    {
     "name": "stdout",
     "output_type": "stream",
     "text": [
      "Requirement already satisfied: numpy in /Applications/miniconda3/lib/python3.10/site-packages (1.23.5)\r\n"
     ]
    }
   ],
   "source": [
    "!pip install numpy"
   ]
  },
  {
   "cell_type": "code",
   "execution_count": 2,
   "id": "ef869553",
   "metadata": {},
   "outputs": [
    {
     "name": "stdout",
     "output_type": "stream",
     "text": [
      "Requirement already satisfied: pandas in /Applications/miniconda3/lib/python3.10/site-packages (2.0.0)\n",
      "Requirement already satisfied: pytz>=2020.1 in /Applications/miniconda3/lib/python3.10/site-packages (from pandas) (2023.3)\n",
      "Requirement already satisfied: numpy>=1.21.0 in /Applications/miniconda3/lib/python3.10/site-packages (from pandas) (1.23.5)\n",
      "Requirement already satisfied: tzdata>=2022.1 in /Applications/miniconda3/lib/python3.10/site-packages (from pandas) (2023.3)\n",
      "Requirement already satisfied: python-dateutil>=2.8.2 in /Applications/miniconda3/lib/python3.10/site-packages (from pandas) (2.8.2)\n",
      "Requirement already satisfied: six>=1.5 in /Applications/miniconda3/lib/python3.10/site-packages (from python-dateutil>=2.8.2->pandas) (1.15.0)\n"
     ]
    }
   ],
   "source": [
    "!pip install pandas"
   ]
  },
  {
   "cell_type": "code",
   "execution_count": 3,
   "id": "ac6a3b69",
   "metadata": {},
   "outputs": [
    {
     "name": "stdout",
     "output_type": "stream",
     "text": [
      "Requirement already satisfied: matplotlib in /Applications/miniconda3/lib/python3.10/site-packages (3.7.1)\n",
      "Requirement already satisfied: pillow>=6.2.0 in /Applications/miniconda3/lib/python3.10/site-packages (from matplotlib) (9.5.0)\n",
      "Requirement already satisfied: cycler>=0.10 in /Applications/miniconda3/lib/python3.10/site-packages (from matplotlib) (0.11.0)\n",
      "Requirement already satisfied: fonttools>=4.22.0 in /Applications/miniconda3/lib/python3.10/site-packages (from matplotlib) (4.39.3)\n",
      "Requirement already satisfied: packaging>=20.0 in /Applications/miniconda3/lib/python3.10/site-packages (from matplotlib) (23.0)\n",
      "Requirement already satisfied: pyparsing>=2.3.1 in /Applications/miniconda3/lib/python3.10/site-packages (from matplotlib) (3.0.9)\n",
      "Requirement already satisfied: contourpy>=1.0.1 in /Applications/miniconda3/lib/python3.10/site-packages (from matplotlib) (1.0.7)\n",
      "Requirement already satisfied: python-dateutil>=2.7 in /Applications/miniconda3/lib/python3.10/site-packages (from matplotlib) (2.8.2)\n",
      "Requirement already satisfied: numpy>=1.20 in /Applications/miniconda3/lib/python3.10/site-packages (from matplotlib) (1.23.5)\n",
      "Requirement already satisfied: kiwisolver>=1.0.1 in /Applications/miniconda3/lib/python3.10/site-packages (from matplotlib) (1.4.4)\n",
      "Requirement already satisfied: six>=1.5 in /Applications/miniconda3/lib/python3.10/site-packages (from python-dateutil>=2.7->matplotlib) (1.15.0)\n"
     ]
    }
   ],
   "source": [
    "!pip install matplotlib"
   ]
  },
  {
   "cell_type": "code",
   "execution_count": 4,
   "id": "96b3c4ec",
   "metadata": {},
   "outputs": [
    {
     "name": "stdout",
     "output_type": "stream",
     "text": [
      "Requirement already satisfied: pyod in /Applications/miniconda3/lib/python3.10/site-packages (1.1.2)\n",
      "Requirement already satisfied: six in /Applications/miniconda3/lib/python3.10/site-packages (from pyod) (1.15.0)\n",
      "Requirement already satisfied: numba>=0.51 in /Applications/miniconda3/lib/python3.10/site-packages (from pyod) (0.58.1)\n",
      "Requirement already satisfied: scikit-learn>=0.22.0 in /Applications/miniconda3/lib/python3.10/site-packages (from pyod) (1.2.2)\n",
      "Requirement already satisfied: numpy>=1.19 in /Applications/miniconda3/lib/python3.10/site-packages (from pyod) (1.23.5)\n",
      "Requirement already satisfied: joblib in /Applications/miniconda3/lib/python3.10/site-packages (from pyod) (1.2.0)\n",
      "Requirement already satisfied: scipy>=1.5.1 in /Applications/miniconda3/lib/python3.10/site-packages (from pyod) (1.10.1)\n",
      "Requirement already satisfied: matplotlib in /Applications/miniconda3/lib/python3.10/site-packages (from pyod) (3.7.1)\n",
      "Requirement already satisfied: llvmlite<0.42,>=0.41.0dev0 in /Applications/miniconda3/lib/python3.10/site-packages (from numba>=0.51->pyod) (0.41.1)\n",
      "Requirement already satisfied: threadpoolctl>=2.0.0 in /Applications/miniconda3/lib/python3.10/site-packages (from scikit-learn>=0.22.0->pyod) (3.1.0)\n",
      "Requirement already satisfied: packaging>=20.0 in /Applications/miniconda3/lib/python3.10/site-packages (from matplotlib->pyod) (23.0)\n",
      "Requirement already satisfied: kiwisolver>=1.0.1 in /Applications/miniconda3/lib/python3.10/site-packages (from matplotlib->pyod) (1.4.4)\n",
      "Requirement already satisfied: cycler>=0.10 in /Applications/miniconda3/lib/python3.10/site-packages (from matplotlib->pyod) (0.11.0)\n",
      "Requirement already satisfied: pillow>=6.2.0 in /Applications/miniconda3/lib/python3.10/site-packages (from matplotlib->pyod) (9.5.0)\n",
      "Requirement already satisfied: python-dateutil>=2.7 in /Applications/miniconda3/lib/python3.10/site-packages (from matplotlib->pyod) (2.8.2)\n",
      "Requirement already satisfied: fonttools>=4.22.0 in /Applications/miniconda3/lib/python3.10/site-packages (from matplotlib->pyod) (4.39.3)\n",
      "Requirement already satisfied: pyparsing>=2.3.1 in /Applications/miniconda3/lib/python3.10/site-packages (from matplotlib->pyod) (3.0.9)\n",
      "Requirement already satisfied: contourpy>=1.0.1 in /Applications/miniconda3/lib/python3.10/site-packages (from matplotlib->pyod) (1.0.7)\n"
     ]
    }
   ],
   "source": [
    "!pip install pyod"
   ]
  },
  {
   "cell_type": "code",
   "execution_count": 5,
   "id": "06579119",
   "metadata": {
    "scrolled": true
   },
   "outputs": [
    {
     "name": "stdout",
     "output_type": "stream",
     "text": [
      "Requirement already satisfied: seaborn in /Applications/miniconda3/lib/python3.10/site-packages (0.13.1)\n",
      "Requirement already satisfied: matplotlib!=3.6.1,>=3.4 in /Applications/miniconda3/lib/python3.10/site-packages (from seaborn) (3.7.1)\n",
      "Requirement already satisfied: pandas>=1.2 in /Applications/miniconda3/lib/python3.10/site-packages (from seaborn) (2.0.0)\n",
      "Requirement already satisfied: numpy!=1.24.0,>=1.20 in /Applications/miniconda3/lib/python3.10/site-packages (from seaborn) (1.23.5)\n",
      "Requirement already satisfied: kiwisolver>=1.0.1 in /Applications/miniconda3/lib/python3.10/site-packages (from matplotlib!=3.6.1,>=3.4->seaborn) (1.4.4)\n",
      "Requirement already satisfied: packaging>=20.0 in /Applications/miniconda3/lib/python3.10/site-packages (from matplotlib!=3.6.1,>=3.4->seaborn) (23.0)\n",
      "Requirement already satisfied: pillow>=6.2.0 in /Applications/miniconda3/lib/python3.10/site-packages (from matplotlib!=3.6.1,>=3.4->seaborn) (9.5.0)\n",
      "Requirement already satisfied: python-dateutil>=2.7 in /Applications/miniconda3/lib/python3.10/site-packages (from matplotlib!=3.6.1,>=3.4->seaborn) (2.8.2)\n",
      "Requirement already satisfied: fonttools>=4.22.0 in /Applications/miniconda3/lib/python3.10/site-packages (from matplotlib!=3.6.1,>=3.4->seaborn) (4.39.3)\n",
      "Requirement already satisfied: contourpy>=1.0.1 in /Applications/miniconda3/lib/python3.10/site-packages (from matplotlib!=3.6.1,>=3.4->seaborn) (1.0.7)\n",
      "Requirement already satisfied: pyparsing>=2.3.1 in /Applications/miniconda3/lib/python3.10/site-packages (from matplotlib!=3.6.1,>=3.4->seaborn) (3.0.9)\n",
      "Requirement already satisfied: cycler>=0.10 in /Applications/miniconda3/lib/python3.10/site-packages (from matplotlib!=3.6.1,>=3.4->seaborn) (0.11.0)\n",
      "Requirement already satisfied: pytz>=2020.1 in /Applications/miniconda3/lib/python3.10/site-packages (from pandas>=1.2->seaborn) (2023.3)\n",
      "Requirement already satisfied: tzdata>=2022.1 in /Applications/miniconda3/lib/python3.10/site-packages (from pandas>=1.2->seaborn) (2023.3)\n",
      "Requirement already satisfied: six>=1.5 in /Applications/miniconda3/lib/python3.10/site-packages (from python-dateutil>=2.7->matplotlib!=3.6.1,>=3.4->seaborn) (1.15.0)\n"
     ]
    }
   ],
   "source": [
    "!pip install seaborn"
   ]
  },
  {
   "cell_type": "code",
   "execution_count": 6,
   "id": "0fe036af",
   "metadata": {
    "scrolled": true
   },
   "outputs": [
    {
     "name": "stdout",
     "output_type": "stream",
     "text": [
      "Requirement already satisfied: catboost in /Applications/miniconda3/envs/colab/lib/python3.10/site-packages (1.2.3)\n",
      "Requirement already satisfied: plotly in /Applications/miniconda3/envs/colab/lib/python3.10/site-packages (from catboost) (5.19.0)\n",
      "Requirement already satisfied: six in /Applications/miniconda3/envs/colab/lib/python3.10/site-packages (from catboost) (1.16.0)\n",
      "Requirement already satisfied: matplotlib in /Applications/miniconda3/envs/colab/lib/python3.10/site-packages (from catboost) (3.8.0)\n",
      "Requirement already satisfied: graphviz in /Applications/miniconda3/envs/colab/lib/python3.10/site-packages (from catboost) (0.20.1)\n",
      "Requirement already satisfied: pandas>=0.24 in /Applications/miniconda3/envs/colab/lib/python3.10/site-packages (from catboost) (2.1.4)\n",
      "Requirement already satisfied: scipy in /Applications/miniconda3/envs/colab/lib/python3.10/site-packages (from catboost) (1.11.4)\n",
      "Requirement already satisfied: numpy>=1.16.0 in /Applications/miniconda3/envs/colab/lib/python3.10/site-packages (from catboost) (1.26.3)\n",
      "Requirement already satisfied: python-dateutil>=2.8.2 in /Applications/miniconda3/envs/colab/lib/python3.10/site-packages (from pandas>=0.24->catboost) (2.8.2)\n",
      "Requirement already satisfied: pytz>=2020.1 in /Applications/miniconda3/envs/colab/lib/python3.10/site-packages (from pandas>=0.24->catboost) (2023.3.post1)\n",
      "Requirement already satisfied: tzdata>=2022.1 in /Applications/miniconda3/envs/colab/lib/python3.10/site-packages (from pandas>=0.24->catboost) (2023.3)\n",
      "Requirement already satisfied: pillow>=6.2.0 in /Applications/miniconda3/envs/colab/lib/python3.10/site-packages (from matplotlib->catboost) (10.0.1)\n",
      "Requirement already satisfied: cycler>=0.10 in /Applications/miniconda3/envs/colab/lib/python3.10/site-packages (from matplotlib->catboost) (0.11.0)\n",
      "Requirement already satisfied: contourpy>=1.0.1 in /Applications/miniconda3/envs/colab/lib/python3.10/site-packages (from matplotlib->catboost) (1.2.0)\n",
      "Requirement already satisfied: fonttools>=4.22.0 in /Applications/miniconda3/envs/colab/lib/python3.10/site-packages (from matplotlib->catboost) (4.25.0)\n",
      "Requirement already satisfied: packaging>=20.0 in /Applications/miniconda3/envs/colab/lib/python3.10/site-packages (from matplotlib->catboost) (23.1)\n",
      "Requirement already satisfied: pyparsing>=2.3.1 in /Applications/miniconda3/envs/colab/lib/python3.10/site-packages (from matplotlib->catboost) (3.0.9)\n",
      "Requirement already satisfied: kiwisolver>=1.0.1 in /Applications/miniconda3/envs/colab/lib/python3.10/site-packages (from matplotlib->catboost) (1.4.4)\n",
      "Requirement already satisfied: tenacity>=6.2.0 in /Applications/miniconda3/envs/colab/lib/python3.10/site-packages (from plotly->catboost) (8.2.3)\n",
      "Note: you may need to restart the kernel to use updated packages.\n"
     ]
    }
   ],
   "source": [
    "pip install catboost"
   ]
  },
  {
   "cell_type": "code",
   "execution_count": 7,
   "id": "7549a896",
   "metadata": {},
   "outputs": [
    {
     "name": "stdout",
     "output_type": "stream",
     "text": [
      "Requirement already satisfied: scikit-learn in /Applications/miniconda3/lib/python3.10/site-packages (1.2.2)\r\n",
      "Requirement already satisfied: threadpoolctl>=2.0.0 in /Applications/miniconda3/lib/python3.10/site-packages (from scikit-learn) (3.1.0)\r\n",
      "Requirement already satisfied: joblib>=1.1.1 in /Applications/miniconda3/lib/python3.10/site-packages (from scikit-learn) (1.2.0)\r\n",
      "Requirement already satisfied: scipy>=1.3.2 in /Applications/miniconda3/lib/python3.10/site-packages (from scikit-learn) (1.10.1)\r\n",
      "Requirement already satisfied: numpy>=1.17.3 in /Applications/miniconda3/lib/python3.10/site-packages (from scikit-learn) (1.23.5)\r\n"
     ]
    }
   ],
   "source": [
    "!pip install scikit-learn"
   ]
  },
  {
   "cell_type": "code",
   "execution_count": 8,
   "id": "bbffb1ff",
   "metadata": {},
   "outputs": [
    {
     "name": "stdout",
     "output_type": "stream",
     "text": [
      "Requirement already satisfied: imblearn in /Applications/miniconda3/lib/python3.10/site-packages (0.0)\r\n",
      "Requirement already satisfied: imbalanced-learn in /Applications/miniconda3/lib/python3.10/site-packages (from imblearn) (0.12.0)\r\n",
      "Requirement already satisfied: numpy>=1.17.3 in /Applications/miniconda3/lib/python3.10/site-packages (from imbalanced-learn->imblearn) (1.23.5)\r\n",
      "Requirement already satisfied: scipy>=1.5.0 in /Applications/miniconda3/lib/python3.10/site-packages (from imbalanced-learn->imblearn) (1.10.1)\r\n",
      "Requirement already satisfied: joblib>=1.1.1 in /Applications/miniconda3/lib/python3.10/site-packages (from imbalanced-learn->imblearn) (1.2.0)\r\n",
      "Requirement already satisfied: threadpoolctl>=2.0.0 in /Applications/miniconda3/lib/python3.10/site-packages (from imbalanced-learn->imblearn) (3.1.0)\r\n",
      "Requirement already satisfied: scikit-learn>=1.0.2 in /Applications/miniconda3/lib/python3.10/site-packages (from imbalanced-learn->imblearn) (1.2.2)\r\n"
     ]
    }
   ],
   "source": [
    "!pip install imblearn"
   ]
  },
  {
   "cell_type": "code",
   "execution_count": 9,
   "id": "95193da6",
   "metadata": {},
   "outputs": [
    {
     "name": "stdout",
     "output_type": "stream",
     "text": [
      "Requirement already satisfied: statsmodels in /Applications/miniconda3/lib/python3.10/site-packages (0.14.1)\n",
      "Requirement already satisfied: packaging>=21.3 in /Applications/miniconda3/lib/python3.10/site-packages (from statsmodels) (23.0)\n",
      "Requirement already satisfied: scipy!=1.9.2,>=1.4 in /Applications/miniconda3/lib/python3.10/site-packages (from statsmodels) (1.10.1)\n",
      "Requirement already satisfied: numpy<2,>=1.18 in /Applications/miniconda3/lib/python3.10/site-packages (from statsmodels) (1.23.5)\n",
      "Requirement already satisfied: patsy>=0.5.4 in /Applications/miniconda3/lib/python3.10/site-packages (from statsmodels) (0.5.6)\n",
      "Requirement already satisfied: pandas!=2.1.0,>=1.0 in /Applications/miniconda3/lib/python3.10/site-packages (from statsmodels) (2.0.0)\n",
      "Requirement already satisfied: tzdata>=2022.1 in /Applications/miniconda3/lib/python3.10/site-packages (from pandas!=2.1.0,>=1.0->statsmodels) (2023.3)\n",
      "Requirement already satisfied: python-dateutil>=2.8.2 in /Applications/miniconda3/lib/python3.10/site-packages (from pandas!=2.1.0,>=1.0->statsmodels) (2.8.2)\n",
      "Requirement already satisfied: pytz>=2020.1 in /Applications/miniconda3/lib/python3.10/site-packages (from pandas!=2.1.0,>=1.0->statsmodels) (2023.3)\n",
      "Requirement already satisfied: six in /Applications/miniconda3/lib/python3.10/site-packages (from patsy>=0.5.4->statsmodels) (1.15.0)\n"
     ]
    }
   ],
   "source": [
    "!pip install statsmodels"
   ]
  },
  {
   "cell_type": "code",
   "execution_count": 10,
   "id": "8ddc1237",
   "metadata": {
    "scrolled": false
   },
   "outputs": [
    {
     "name": "stdout",
     "output_type": "stream",
     "text": [
      "Requirement already satisfied: tensorflow in /Applications/miniconda3/lib/python3.10/site-packages (2.15.0)\n",
      "Requirement already satisfied: tensorflow-macos==2.15.0 in /Applications/miniconda3/lib/python3.10/site-packages (from tensorflow) (2.15.0)\n",
      "Requirement already satisfied: setuptools in /Applications/miniconda3/lib/python3.10/site-packages (from tensorflow-macos==2.15.0->tensorflow) (65.6.3)\n",
      "Requirement already satisfied: tensorboard<2.16,>=2.15 in /Applications/miniconda3/lib/python3.10/site-packages (from tensorflow-macos==2.15.0->tensorflow) (2.15.2)\n",
      "Requirement already satisfied: gast!=0.5.0,!=0.5.1,!=0.5.2,>=0.2.1 in /Applications/miniconda3/lib/python3.10/site-packages (from tensorflow-macos==2.15.0->tensorflow) (0.4.0)\n",
      "Requirement already satisfied: astunparse>=1.6.0 in /Applications/miniconda3/lib/python3.10/site-packages (from tensorflow-macos==2.15.0->tensorflow) (1.6.3)\n",
      "Requirement already satisfied: grpcio<2.0,>=1.24.3 in /Applications/miniconda3/lib/python3.10/site-packages (from tensorflow-macos==2.15.0->tensorflow) (1.53.0)\n",
      "Requirement already satisfied: six>=1.12.0 in /Applications/miniconda3/lib/python3.10/site-packages (from tensorflow-macos==2.15.0->tensorflow) (1.15.0)\n",
      "Requirement already satisfied: typing-extensions>=3.6.6 in /Applications/miniconda3/lib/python3.10/site-packages (from tensorflow-macos==2.15.0->tensorflow) (4.5.0)\n",
      "Requirement already satisfied: protobuf!=4.21.0,!=4.21.1,!=4.21.2,!=4.21.3,!=4.21.4,!=4.21.5,<5.0.0dev,>=3.20.3 in /Applications/miniconda3/lib/python3.10/site-packages (from tensorflow-macos==2.15.0->tensorflow) (4.25.3)\n",
      "Requirement already satisfied: absl-py>=1.0.0 in /Applications/miniconda3/lib/python3.10/site-packages (from tensorflow-macos==2.15.0->tensorflow) (1.4.0)\n",
      "Requirement already satisfied: ml-dtypes~=0.2.0 in /Applications/miniconda3/lib/python3.10/site-packages (from tensorflow-macos==2.15.0->tensorflow) (0.2.0)\n",
      "Requirement already satisfied: tensorflow-estimator<2.16,>=2.15.0 in /Applications/miniconda3/lib/python3.10/site-packages (from tensorflow-macos==2.15.0->tensorflow) (2.15.0)\n",
      "Requirement already satisfied: libclang>=13.0.0 in /Applications/miniconda3/lib/python3.10/site-packages (from tensorflow-macos==2.15.0->tensorflow) (16.0.0)\n",
      "Requirement already satisfied: numpy<2.0.0,>=1.23.5 in /Applications/miniconda3/lib/python3.10/site-packages (from tensorflow-macos==2.15.0->tensorflow) (1.23.5)\n",
      "Requirement already satisfied: flatbuffers>=23.5.26 in /Applications/miniconda3/lib/python3.10/site-packages (from tensorflow-macos==2.15.0->tensorflow) (23.5.26)\n",
      "Requirement already satisfied: termcolor>=1.1.0 in /Applications/miniconda3/lib/python3.10/site-packages (from tensorflow-macos==2.15.0->tensorflow) (2.2.0)\n",
      "Requirement already satisfied: keras<2.16,>=2.15.0 in /Applications/miniconda3/lib/python3.10/site-packages (from tensorflow-macos==2.15.0->tensorflow) (2.15.0)\n",
      "Requirement already satisfied: opt-einsum>=2.3.2 in /Applications/miniconda3/lib/python3.10/site-packages (from tensorflow-macos==2.15.0->tensorflow) (3.3.0)\n",
      "Requirement already satisfied: google-pasta>=0.1.1 in /Applications/miniconda3/lib/python3.10/site-packages (from tensorflow-macos==2.15.0->tensorflow) (0.2.0)\n",
      "Requirement already satisfied: tensorflow-io-gcs-filesystem>=0.23.1 in /Applications/miniconda3/lib/python3.10/site-packages (from tensorflow-macos==2.15.0->tensorflow) (0.36.0)\n",
      "Requirement already satisfied: wrapt<1.15,>=1.11.0 in /Applications/miniconda3/lib/python3.10/site-packages (from tensorflow-macos==2.15.0->tensorflow) (1.14.1)\n",
      "Requirement already satisfied: h5py>=2.9.0 in /Applications/miniconda3/lib/python3.10/site-packages (from tensorflow-macos==2.15.0->tensorflow) (3.6.0)\n",
      "Requirement already satisfied: packaging in /Applications/miniconda3/lib/python3.10/site-packages (from tensorflow-macos==2.15.0->tensorflow) (23.0)\n",
      "Requirement already satisfied: wheel<1.0,>=0.23.0 in /Applications/miniconda3/lib/python3.10/site-packages (from astunparse>=1.6.0->tensorflow-macos==2.15.0->tensorflow) (0.37.1)\n",
      "Requirement already satisfied: werkzeug>=1.0.1 in /Applications/miniconda3/lib/python3.10/site-packages (from tensorboard<2.16,>=2.15->tensorflow-macos==2.15.0->tensorflow) (2.2.3)\n",
      "Requirement already satisfied: tensorboard-data-server<0.8.0,>=0.7.0 in /Applications/miniconda3/lib/python3.10/site-packages (from tensorboard<2.16,>=2.15->tensorflow-macos==2.15.0->tensorflow) (0.7.2)\n",
      "Requirement already satisfied: google-auth-oauthlib<2,>=0.5 in /Applications/miniconda3/lib/python3.10/site-packages (from tensorboard<2.16,>=2.15->tensorflow-macos==2.15.0->tensorflow) (1.2.0)\n",
      "Requirement already satisfied: markdown>=2.6.8 in /Applications/miniconda3/lib/python3.10/site-packages (from tensorboard<2.16,>=2.15->tensorflow-macos==2.15.0->tensorflow) (3.4.3)\n",
      "Requirement already satisfied: google-auth<3,>=1.6.3 in /Applications/miniconda3/lib/python3.10/site-packages (from tensorboard<2.16,>=2.15->tensorflow-macos==2.15.0->tensorflow) (2.17.3)\n",
      "Requirement already satisfied: requests<3,>=2.21.0 in /Applications/miniconda3/lib/python3.10/site-packages (from tensorboard<2.16,>=2.15->tensorflow-macos==2.15.0->tensorflow) (2.28.1)\n",
      "Requirement already satisfied: cachetools<6.0,>=2.0.0 in /Applications/miniconda3/lib/python3.10/site-packages (from google-auth<3,>=1.6.3->tensorboard<2.16,>=2.15->tensorflow-macos==2.15.0->tensorflow) (5.3.0)\n",
      "Requirement already satisfied: rsa<5,>=3.1.4 in /Applications/miniconda3/lib/python3.10/site-packages (from google-auth<3,>=1.6.3->tensorboard<2.16,>=2.15->tensorflow-macos==2.15.0->tensorflow) (4.9)\n",
      "Requirement already satisfied: pyasn1-modules>=0.2.1 in /Applications/miniconda3/lib/python3.10/site-packages (from google-auth<3,>=1.6.3->tensorboard<2.16,>=2.15->tensorflow-macos==2.15.0->tensorflow) (0.2.8)\n",
      "Requirement already satisfied: requests-oauthlib>=0.7.0 in /Applications/miniconda3/lib/python3.10/site-packages (from google-auth-oauthlib<2,>=0.5->tensorboard<2.16,>=2.15->tensorflow-macos==2.15.0->tensorflow) (1.3.1)\n",
      "Requirement already satisfied: charset-normalizer<3,>=2 in /Applications/miniconda3/lib/python3.10/site-packages (from requests<3,>=2.21.0->tensorboard<2.16,>=2.15->tensorflow-macos==2.15.0->tensorflow) (2.0.4)\n",
      "Requirement already satisfied: certifi>=2017.4.17 in /Applications/miniconda3/lib/python3.10/site-packages (from requests<3,>=2.21.0->tensorboard<2.16,>=2.15->tensorflow-macos==2.15.0->tensorflow) (2022.12.7)\n",
      "Requirement already satisfied: urllib3<1.27,>=1.21.1 in /Applications/miniconda3/lib/python3.10/site-packages (from requests<3,>=2.21.0->tensorboard<2.16,>=2.15->tensorflow-macos==2.15.0->tensorflow) (1.26.14)\n",
      "Requirement already satisfied: idna<4,>=2.5 in /Applications/miniconda3/lib/python3.10/site-packages (from requests<3,>=2.21.0->tensorboard<2.16,>=2.15->tensorflow-macos==2.15.0->tensorflow) (3.4)\n",
      "Requirement already satisfied: MarkupSafe>=2.1.1 in /Applications/miniconda3/lib/python3.10/site-packages (from werkzeug>=1.0.1->tensorboard<2.16,>=2.15->tensorflow-macos==2.15.0->tensorflow) (2.1.2)\n",
      "Requirement already satisfied: pyasn1<0.5.0,>=0.4.6 in /Applications/miniconda3/lib/python3.10/site-packages (from pyasn1-modules>=0.2.1->google-auth<3,>=1.6.3->tensorboard<2.16,>=2.15->tensorflow-macos==2.15.0->tensorflow) (0.4.8)\n",
      "Requirement already satisfied: oauthlib>=3.0.0 in /Applications/miniconda3/lib/python3.10/site-packages (from requests-oauthlib>=0.7.0->google-auth-oauthlib<2,>=0.5->tensorboard<2.16,>=2.15->tensorflow-macos==2.15.0->tensorflow) (3.2.2)\n"
     ]
    }
   ],
   "source": [
    "!pip install tensorflow"
   ]
  },
  {
   "cell_type": "code",
   "execution_count": null,
   "id": "fceebaba",
   "metadata": {},
   "outputs": [
    {
     "name": "stdout",
     "output_type": "stream",
     "text": [
      "Collecting lightgbm\n",
      "  Using cached lightgbm-4.3.0.tar.gz (1.7 MB)\n",
      "  Installing build dependencies ... \u001b[?25ldone\n",
      "\u001b[?25h  Getting requirements to build wheel ... \u001b[?25ldone\n",
      "\u001b[?25h  Installing backend dependencies ... \u001b[?25l|"
     ]
    }
   ],
   "source": [
    "!pip install lightgbm"
   ]
  },
  {
   "cell_type": "code",
   "execution_count": null,
   "id": "19abbe6b",
   "metadata": {},
   "outputs": [],
   "source": [
    "conda install tensorflow"
   ]
  },
  {
   "cell_type": "code",
   "execution_count": null,
   "id": "3c57360a",
   "metadata": {},
   "outputs": [],
   "source": [
    "conda install -c conda-forge imbalanced-learn"
   ]
  },
  {
   "cell_type": "code",
   "execution_count": null,
   "id": "f8818469",
   "metadata": {},
   "outputs": [],
   "source": [
    "conda install statsmodels.api"
   ]
  },
  {
   "cell_type": "code",
   "execution_count": null,
   "id": "e1d5c77f",
   "metadata": {},
   "outputs": [],
   "source": [
    "conda install imblearn "
   ]
  },
  {
   "cell_type": "code",
   "execution_count": null,
   "id": "7375bd2f",
   "metadata": {},
   "outputs": [],
   "source": [
    "conda install matplotlib"
   ]
  },
  {
   "cell_type": "code",
   "execution_count": null,
   "id": "4a88b3e9",
   "metadata": {},
   "outputs": [],
   "source": [
    "conda install sklearn"
   ]
  },
  {
   "cell_type": "code",
   "execution_count": null,
   "id": "b4833131",
   "metadata": {},
   "outputs": [],
   "source": [
    "conda install seaborn"
   ]
  },
  {
   "cell_type": "code",
   "execution_count": null,
   "id": "5a350b45",
   "metadata": {},
   "outputs": [],
   "source": [
    "conda install numpy"
   ]
  },
  {
   "cell_type": "code",
   "execution_count": null,
   "id": "e9e02663",
   "metadata": {},
   "outputs": [],
   "source": [
    "conda install pandas"
   ]
  },
  {
   "cell_type": "code",
   "execution_count": null,
   "id": "0d728701",
   "metadata": {},
   "outputs": [],
   "source": [
    "conda install pyod"
   ]
  },
  {
   "cell_type": "code",
   "execution_count": null,
   "id": "e2b7fecc",
   "metadata": {},
   "outputs": [],
   "source": [
    "conda install lightgbm"
   ]
  },
  {
   "cell_type": "code",
   "execution_count": null,
   "id": "5b8b7734",
   "metadata": {},
   "outputs": [],
   "source": [
    "import lightgbm as lgb"
   ]
  },
  {
   "cell_type": "code",
   "execution_count": null,
   "id": "35665e81",
   "metadata": {},
   "outputs": [],
   "source": [
    "import numpy as np\n",
    "import pandas as pd"
   ]
  },
  {
   "cell_type": "code",
   "execution_count": null,
   "id": "4187459e",
   "metadata": {},
   "outputs": [],
   "source": [
    "import matplotlib.pyplot as plt # graphs and plotting\n",
    "import seaborn as sns"
   ]
  },
  {
   "cell_type": "code",
   "execution_count": null,
   "id": "643a7243",
   "metadata": {},
   "outputs": [],
   "source": [
    "from xgboost import XGBClassifier"
   ]
  },
  {
   "cell_type": "code",
   "execution_count": null,
   "id": "3d7f27ea",
   "metadata": {},
   "outputs": [],
   "source": [
    "from sklearn.model_selection import train_test_split, GridSearchCV, KFold, cross_val_score\n"
   ]
  },
  {
   "cell_type": "code",
   "execution_count": null,
   "id": "90544bb8",
   "metadata": {},
   "outputs": [],
   "source": [
    "\n",
    "from sklearn.model_selection import train_test_split, GridSearchCV, cross_validate, validation_curve\n"
   ]
  },
  {
   "cell_type": "code",
   "execution_count": null,
   "id": "2b7f6ba4",
   "metadata": {},
   "outputs": [],
   "source": [
    "\n",
    "from sklearn.metrics  import confusion_matrix, classification_report, accuracy_score, f1_score, roc_auc_score, roc_curve,auc\n",
    "\n"
   ]
  },
  {
   "cell_type": "code",
   "execution_count": null,
   "id": "2487c6c0",
   "metadata": {},
   "outputs": [],
   "source": [
    "bankdata = pd.read_csv('BankChurners.csv')\n",
    "bankdata"
   ]
  },
  {
   "cell_type": "code",
   "execution_count": null,
   "id": "2e22ec59",
   "metadata": {},
   "outputs": [],
   "source": [
    "bankdata.info(verbose=True , show_counts= True)"
   ]
  },
  {
   "cell_type": "code",
   "execution_count": null,
   "id": "d43859b7",
   "metadata": {},
   "outputs": [],
   "source": [
    "bankdata.shape"
   ]
  },
  {
   "cell_type": "code",
   "execution_count": null,
   "id": "ca43b5a3",
   "metadata": {},
   "outputs": [],
   "source": [
    "bankdata.head()"
   ]
  },
  {
   "cell_type": "code",
   "execution_count": null,
   "id": "de973e6c",
   "metadata": {},
   "outputs": [],
   "source": [
    "(bankdata.isnull().sum()/bankdata.shape[0]*100)"
   ]
  },
  {
   "cell_type": "code",
   "execution_count": null,
   "id": "be1fe54c",
   "metadata": {},
   "outputs": [],
   "source": [
    "bankdata = bankdata.rename(columns = {'CLIENTNUM': 'CNo', \n",
    "                          'Attrition_Flag': 'Target',\n",
    "                          'Customer_Age' :'Age',\n",
    "                          'Gender': 'Gender', \n",
    "                          'Dependent_count': 'Depedent',\n",
    "                          'Education_Level': 'Edu', \n",
    "                          'Marital_Status': 'Marital', \n",
    "                          'Income_Category': 'Income', \n",
    "                          'Card_Category': 'CardType',\n",
    "                          'Months_on_book': 'MonthBook', \n",
    "                          'Total_Relationship_Count':'RelationshipCountProduct',                                                                                             \n",
    "                          'Months_Inactive_12_mon' :'MonthsInactive',                                                                                                              \n",
    "                          'Contacts_Count_12_mon'  :'ContactsCount',                                                                                                             \n",
    "                          'Credit_Limit':'CreditLimit',                                                                                                                          \n",
    "                          'Total_Revolving_Bal':'RevolvingBal',                                                                                                                 \n",
    "                          'Avg_Open_To_Buy':'OpenBuyAvg',                                                                                                                    \n",
    "                          'Total_Amt_Chng_Q4_Q1':'AmtChange',                                                                                                                  \n",
    "                          'Total_Trans_Amt':'Trnsactions',                                                                                                                      \n",
    "                          'Total_Trans_Ct':'CountTransaction',                                                                                                                       \n",
    "                          'Total_Ct_Chng_Q4_Q1':'TotalCountQ4',                                                                                                                  \n",
    "                          'Avg_Utilization_Ratio':'Util',                                                                                                                 \n",
    "                          'Naive_Bayes_Classifier_Attrition_Flag_Card_Category_Contacts_Count_12_mon_Dependent_count_Education_Level_Months_Inactive_12_mon_1' :'NBMI12Month1',   \n",
    "                          'Naive_Bayes_Classifier_Attrition_Flag_Card_Category_Contacts_Count_12_mon_Dependent_count_Education_Level_Months_Inactive_12_mon_2' :'NBMI12Month2'                          \n",
    "                        \n",
    "                         })\n",
    "bankdata.columns"
   ]
  },
  {
   "cell_type": "code",
   "execution_count": null,
   "id": "8c224f08",
   "metadata": {},
   "outputs": [],
   "source": [
    "bankdata.info()"
   ]
  },
  {
   "cell_type": "code",
   "execution_count": null,
   "id": "feae86c0",
   "metadata": {},
   "outputs": [],
   "source": [
    "(bankdata.isnull().sum()/bankdata.shape[0]*100)"
   ]
  },
  {
   "cell_type": "code",
   "execution_count": null,
   "id": "437743e8",
   "metadata": {},
   "outputs": [],
   "source": [
    "bankdata.duplicated().sum()"
   ]
  },
  {
   "cell_type": "code",
   "execution_count": null,
   "id": "5c28f22d",
   "metadata": {},
   "outputs": [],
   "source": [
    "bankdata.Target.value_counts(normalize=True)*100"
   ]
  },
  {
   "cell_type": "code",
   "execution_count": null,
   "id": "e196be72",
   "metadata": {},
   "outputs": [],
   "source": [
    "bankdata['age_group'] = pd.cut(bankdata['Age'], bins = [18, 30, 45, 60,100], include_lowest = True, labels = ['18-30', '30-45', '45-60','60+'])\n",
    "bankdata['age_group']"
   ]
  },
  {
   "cell_type": "code",
   "execution_count": null,
   "id": "f70007dd",
   "metadata": {},
   "outputs": [],
   "source": [
    "bankdata.select_dtypes(exclude=[np.number]).columns"
   ]
  },
  {
   "cell_type": "code",
   "execution_count": null,
   "id": "cb6f9f74",
   "metadata": {},
   "outputs": [],
   "source": [
    "bankdata.select_dtypes(exclude=[np.number])"
   ]
  },
  {
   "cell_type": "code",
   "execution_count": null,
   "id": "04ce7a7a",
   "metadata": {
    "scrolled": true
   },
   "outputs": [],
   "source": [
    "numeric_data=bankdata.select_dtypes(include=[np.number])"
   ]
  },
  {
   "cell_type": "code",
   "execution_count": null,
   "id": "3a8b1e4a",
   "metadata": {},
   "outputs": [],
   "source": [
    "numeric_data.columns"
   ]
  },
  {
   "cell_type": "code",
   "execution_count": null,
   "id": "bdd20147",
   "metadata": {},
   "outputs": [],
   "source": [
    "categorical_data = bankdata.select_dtypes(exclude=[np.number])"
   ]
  },
  {
   "cell_type": "code",
   "execution_count": null,
   "id": "372ba901",
   "metadata": {},
   "outputs": [],
   "source": [
    "categorical_data.columns"
   ]
  },
  {
   "cell_type": "code",
   "execution_count": null,
   "id": "9c791a79",
   "metadata": {},
   "outputs": [],
   "source": [
    "categorical_data.shape[1]"
   ]
  },
  {
   "cell_type": "code",
   "execution_count": null,
   "id": "2347b789",
   "metadata": {},
   "outputs": [],
   "source": [
    "numeric_data.shape[1]"
   ]
  },
  {
   "cell_type": "code",
   "execution_count": null,
   "id": "4defd172",
   "metadata": {},
   "outputs": [],
   "source": [
    "bankdata.Target.value_counts(normalize=True)"
   ]
  },
  {
   "cell_type": "code",
   "execution_count": null,
   "id": "b4eee201",
   "metadata": {},
   "outputs": [],
   "source": [
    "plt.figure(figsize=(5,5))\n",
    "plt.pie(bankdata['Target'].value_counts(),startangle=60,autopct='%.3f',labels=['Non - Attrited','Attrited'],shadow=True,colors=['c','y'])\n",
    "plt.legend(title = \"Target Type:\",loc='lower right')\n",
    "plt.title(\"Target distribution\", bbox={'facecolor':'0.8', 'pad':4})\n",
    "plt.show()"
   ]
  },
  {
   "cell_type": "code",
   "execution_count": null,
   "id": "3fee3c9e",
   "metadata": {},
   "outputs": [],
   "source": [
    "bankdata.Gender.value_counts(normalize=True)"
   ]
  },
  {
   "cell_type": "code",
   "execution_count": null,
   "id": "f37bfe7d",
   "metadata": {},
   "outputs": [],
   "source": [
    "plt.figure(figsize=(5,5))\n",
    "plt.pie(bankdata['Gender'].value_counts(),startangle=60,autopct='%.3f',labels=['Female','Male'],shadow=True,colors=['c','y'])\n",
    "plt.legend(title = \"Gender Type:\",loc='lower right')\n",
    "plt.title(\"Gender distribution\", bbox={'facecolor':'0.8', 'pad':4})\n",
    "plt.show()"
   ]
  },
  {
   "cell_type": "code",
   "execution_count": null,
   "id": "6abbf8f7",
   "metadata": {},
   "outputs": [],
   "source": [
    "bankdata.Edu.value_counts(normalize=True)"
   ]
  },
  {
   "cell_type": "code",
   "execution_count": null,
   "id": "291ebcdb",
   "metadata": {},
   "outputs": [],
   "source": [
    "plt.figure(figsize=(5,5))\n",
    "plt.pie(bankdata['Edu'].value_counts(),startangle=60,autopct='%.3f',labels=['Graduate','High School','Unknown','Uneducated','College','Post-Graduate' ,'Doctorate'],shadow=True,colors=['c','y'])\n",
    "#plt.legend(title = \"Education Type:\",loc='lower right')\n",
    "plt.title(\"Education distribution\", bbox={'facecolor':'0.8', 'pad':10})\n",
    "plt.show()"
   ]
  },
  {
   "cell_type": "code",
   "execution_count": null,
   "id": "6ba82251",
   "metadata": {},
   "outputs": [],
   "source": [
    "bankdata.Marital.value_counts(normalize=True)"
   ]
  },
  {
   "cell_type": "code",
   "execution_count": null,
   "id": "c9bef016",
   "metadata": {},
   "outputs": [],
   "source": [
    "plt.figure(figsize=(5,5))\n",
    "plt.pie(bankdata['Marital'].value_counts(),startangle=60,autopct='%.3f',labels=['Married','Single','Unknown','Divorced'],shadow=True,colors=['c','y'])\n",
    "#plt.legend(title = \"Marital Type:\",loc='lower right')\n",
    "plt.title(\"Marital distribution\", bbox={'facecolor':'0.8', 'pad':10})\n",
    "plt.show()"
   ]
  },
  {
   "cell_type": "code",
   "execution_count": null,
   "id": "ab82b0ae",
   "metadata": {},
   "outputs": [],
   "source": [
    "bankdata.Income.value_counts(normalize=True)"
   ]
  },
  {
   "cell_type": "code",
   "execution_count": null,
   "id": "fb0043bf",
   "metadata": {},
   "outputs": [],
   "source": [
    "plt.figure(figsize=(5,5))\n",
    "plt.pie(bankdata['Income'].value_counts(),startangle=60,autopct='%.3f',labels=['Less than $40K','$40K - $60K','$80K - $120K  ','$60K - $80K ','Unknown','$120K + '],shadow=True,colors=['c','y'])\n",
    "#plt.legend(title = \"Income Type:\",loc='lower right')\n",
    "plt.title(\"Income distribution\", bbox={'facecolor':'0.8', 'pad':10})\n",
    "plt.show()"
   ]
  },
  {
   "cell_type": "code",
   "execution_count": null,
   "id": "d8b606e0",
   "metadata": {},
   "outputs": [],
   "source": [
    "bankdata.CardType.value_counts(normalize=True)"
   ]
  },
  {
   "cell_type": "code",
   "execution_count": null,
   "id": "35a7e661",
   "metadata": {},
   "outputs": [],
   "source": [
    "plt.figure(figsize=(5,5))\n",
    "plt.pie(bankdata['CardType'].value_counts(),startangle=60,autopct='%.3f',labels=['Blue','Silver','Gold','Platinum'],shadow=True,colors=['c','y'])\n",
    "#plt.legend(title = \"CardType Type:\",loc='lower right')\n",
    "plt.title(\"CardType distribution\", bbox={'facecolor':'0.8', 'pad':5})\n",
    "plt.show()"
   ]
  },
  {
   "cell_type": "code",
   "execution_count": null,
   "id": "8b5171ba",
   "metadata": {
    "scrolled": true
   },
   "outputs": [],
   "source": [
    "#categorical_data"
   ]
  },
  {
   "cell_type": "code",
   "execution_count": null,
   "id": "77bb22b2",
   "metadata": {},
   "outputs": [],
   "source": [
    "#Bi- Variant analysis"
   ]
  },
  {
   "cell_type": "code",
   "execution_count": null,
   "id": "64d9d72b",
   "metadata": {},
   "outputs": [],
   "source": [
    "plt.figure(figsize=(25,15))\n",
    "sns.catplot(x=\"Gender\", hue=\"Target\", kind=\"count\",palette=\"Set3\", edgecolor=\".6\", legend=True ,data=bankdata)\n",
    "plt.title(\"Gender vs Target\")\n",
    "plt.show()"
   ]
  },
  {
   "cell_type": "code",
   "execution_count": null,
   "id": "a7269865",
   "metadata": {},
   "outputs": [],
   "source": [
    "plt.figure(figsize=(30,30))\n",
    "fig=sns.catplot(x=\"Edu\", hue=\"Target\", kind=\"count\",palette=\"Set3\", edgecolor=\".6\", legend=True ,data=bankdata)\n",
    "plt.title(\"Education vs Target\")\n",
    "plt.xticks(rotation = 45) \n",
    "plt.show()"
   ]
  },
  {
   "cell_type": "code",
   "execution_count": null,
   "id": "157700fa",
   "metadata": {},
   "outputs": [],
   "source": [
    "plt.figure(figsize=(25,15))\n",
    "sns.catplot(x=\"Marital\", hue=\"Target\", kind=\"count\",palette=\"Set3\", edgecolor=\".6\", legend=True ,data=bankdata)\n",
    "plt.title(\"Marital vs Target\")\n",
    "plt.show()"
   ]
  },
  {
   "cell_type": "code",
   "execution_count": null,
   "id": "18c604c8",
   "metadata": {},
   "outputs": [],
   "source": [
    "plt.figure(figsize=(25,30))\n",
    "sns.catplot(x=\"Income\", hue=\"Target\", kind=\"count\",palette=\"Set3\", edgecolor=\".6\", legend=True ,data=bankdata)\n",
    "plt.title(\"Income vs Target\")\n",
    "plt.xticks(rotation = 45) \n",
    "plt.show()"
   ]
  },
  {
   "cell_type": "code",
   "execution_count": null,
   "id": "ef411fa2",
   "metadata": {
    "scrolled": false
   },
   "outputs": [],
   "source": [
    "plt.figure(figsize=(25,15))\n",
    "sns.catplot(x=\"CardType\", hue=\"Target\", kind=\"count\",palette=\"Set3\", edgecolor=\".6\", legend=True ,data=bankdata)\n",
    "plt.title(\"CardType vs Target\")\n",
    "plt.show()"
   ]
  },
  {
   "cell_type": "code",
   "execution_count": null,
   "id": "7ce8d76a",
   "metadata": {},
   "outputs": [],
   "source": [
    "plt.figure(figsize=(25,15))\n",
    "sns.catplot(x=\"age_group\", hue=\"Target\", kind=\"count\",palette=\"Set3\", edgecolor=\".6\", legend=True ,data=bankdata)\n",
    "plt.title(\"age_group vs Target\")\n",
    "plt.show()"
   ]
  },
  {
   "cell_type": "code",
   "execution_count": null,
   "id": "1531bdf8",
   "metadata": {
    "scrolled": false
   },
   "outputs": [],
   "source": []
  },
  {
   "cell_type": "code",
   "execution_count": null,
   "id": "e436cd64",
   "metadata": {},
   "outputs": [],
   "source": [
    "numeric_data = bankdata.select_dtypes(include=[np.number])\n",
    "categorical_data = bankdata.select_dtypes(exclude=[np.number])"
   ]
  },
  {
   "cell_type": "code",
   "execution_count": null,
   "id": "a8ed3910",
   "metadata": {},
   "outputs": [],
   "source": [
    "numeric_data.shape"
   ]
  },
  {
   "cell_type": "code",
   "execution_count": null,
   "id": "ea3b70b5",
   "metadata": {},
   "outputs": [],
   "source": [
    "categorical_data.shape"
   ]
  },
  {
   "cell_type": "code",
   "execution_count": null,
   "id": "1ff4ab0b",
   "metadata": {
    "scrolled": true
   },
   "outputs": [],
   "source": [
    "numeric_data.describe()"
   ]
  },
  {
   "cell_type": "code",
   "execution_count": null,
   "id": "490fbc07",
   "metadata": {},
   "outputs": [],
   "source": [
    "#Outliers detection"
   ]
  },
  {
   "cell_type": "code",
   "execution_count": null,
   "id": "30471e0b",
   "metadata": {},
   "outputs": [],
   "source": [
    "bankdata['Age'].hist()"
   ]
  },
  {
   "cell_type": "code",
   "execution_count": null,
   "id": "967c10a2",
   "metadata": {},
   "outputs": [],
   "source": [
    "bankdata['age_group'].hist()"
   ]
  },
  {
   "cell_type": "code",
   "execution_count": null,
   "id": "405908be",
   "metadata": {},
   "outputs": [],
   "source": [
    "bankdata"
   ]
  },
  {
   "cell_type": "code",
   "execution_count": null,
   "id": "4ec29c7e",
   "metadata": {},
   "outputs": [],
   "source": [
    "bankdata.drop(['CNo'], axis=1)"
   ]
  },
  {
   "cell_type": "code",
   "execution_count": null,
   "id": "8156fb12",
   "metadata": {},
   "outputs": [],
   "source": [
    "#Age\n",
    "sns.boxplot(bankdata['Age'])"
   ]
  },
  {
   "cell_type": "code",
   "execution_count": null,
   "id": "ad8ea850",
   "metadata": {},
   "outputs": [],
   "source": [
    "bankdata['Age'].describe() "
   ]
  },
  {
   "cell_type": "code",
   "execution_count": null,
   "id": "0ae3366b",
   "metadata": {},
   "outputs": [],
   "source": [
    "bankdata['Age'].quantile(.99)"
   ]
  },
  {
   "cell_type": "code",
   "execution_count": null,
   "id": "6d11bd13",
   "metadata": {},
   "outputs": [],
   "source": [
    "Q1 = bankdata['Age'].quantile(0.25)\n",
    "Q3 = bankdata['Age'].quantile(0.75)\n",
    "IQR = Q3 - Q1\n",
    "IQR\n",
    "rt_whisker = Q3 + 1.5*IQR\n",
    "rt_whisker\n",
    "lt_whisker = Q1 - 1.5 * IQR\n",
    "lt_whisker\n",
    "outsIQR = bankdata[(bankdata['Age'] > rt_whisker) | (bankdata['Age'] < lt_whisker)] \n",
    "outsIQR"
   ]
  },
  {
   "cell_type": "code",
   "execution_count": null,
   "id": "a441a98c",
   "metadata": {},
   "outputs": [],
   "source": [
    "for i, data in bankdata.iterrows():\n",
    "    if data.Age > 68.5:\n",
    "        bankdata.at[i, 'Age'] = 68.5"
   ]
  },
  {
   "cell_type": "code",
   "execution_count": null,
   "id": "33bd65c7",
   "metadata": {},
   "outputs": [],
   "source": [
    "#Age needs outlier treatments\n",
    "sns.boxplot(bankdata['Age'])"
   ]
  },
  {
   "cell_type": "code",
   "execution_count": null,
   "id": "97288add",
   "metadata": {},
   "outputs": [],
   "source": [
    "sns.boxplot(bankdata['Age'])"
   ]
  },
  {
   "cell_type": "code",
   "execution_count": null,
   "id": "0227f9db",
   "metadata": {},
   "outputs": [],
   "source": [
    "#Dep\n",
    "sns.boxplot(bankdata['Depedent'])"
   ]
  },
  {
   "cell_type": "code",
   "execution_count": null,
   "id": "83fc0ada",
   "metadata": {},
   "outputs": [],
   "source": [
    "#months on book\n",
    "sns.boxplot(bankdata['MonthBook'])"
   ]
  },
  {
   "cell_type": "code",
   "execution_count": null,
   "id": "ff6e7068",
   "metadata": {},
   "outputs": [],
   "source": [
    "bankdata['MonthBook'].describe()"
   ]
  },
  {
   "cell_type": "code",
   "execution_count": null,
   "id": "1c02f924",
   "metadata": {},
   "outputs": [],
   "source": [
    "bankdata['MonthBook'].quantile(.99)"
   ]
  },
  {
   "cell_type": "code",
   "execution_count": null,
   "id": "06e71ac2",
   "metadata": {},
   "outputs": [],
   "source": [
    "#Months on Book needs treatment for outliers"
   ]
  },
  {
   "cell_type": "code",
   "execution_count": null,
   "id": "7ccc89ac",
   "metadata": {},
   "outputs": [],
   "source": [
    "Q1 = bankdata['MonthBook'].quantile(0.25)\n",
    "Q1\n",
    "Q3 = bankdata['MonthBook'].quantile(0.75)\n",
    "Q3\n",
    "IQR = Q3 - Q1\n",
    "IQR\n",
    "rt_whisker = Q3 + 1.5*IQR\n",
    "rt_whisker\n",
    "lt_whisker = Q1 - 1.5 * IQR\n",
    "lt_whisker\n",
    "outsIQR = bankdata[(bankdata['MonthBook'] > rt_whisker) | (bankdata['MonthBook'] < lt_whisker)] \n",
    "outsIQR"
   ]
  },
  {
   "cell_type": "code",
   "execution_count": null,
   "id": "3b98b332",
   "metadata": {},
   "outputs": [],
   "source": [
    "IQR\n",
    "rt_whisker"
   ]
  },
  {
   "cell_type": "code",
   "execution_count": null,
   "id": "23602bbf",
   "metadata": {},
   "outputs": [],
   "source": [
    "lt_whisker"
   ]
  },
  {
   "cell_type": "code",
   "execution_count": null,
   "id": "93671875",
   "metadata": {},
   "outputs": [],
   "source": [
    "for i, data in bankdata.iterrows():\n",
    "    if data.MonthBook < lt_whisker:\n",
    "        bankdata.at[i, 'MonthBook'] = lt_whisker\n",
    "    elif data.MonthBook > rt_whisker:\n",
    "        bankdata.at[i, 'MonthBook'] = rt_whisker"
   ]
  },
  {
   "cell_type": "code",
   "execution_count": null,
   "id": "0fb97b26",
   "metadata": {},
   "outputs": [],
   "source": [
    "sns.boxplot(bankdata.MonthBook)"
   ]
  },
  {
   "cell_type": "code",
   "execution_count": null,
   "id": "e3c6a2a0",
   "metadata": {},
   "outputs": [],
   "source": [
    "#"
   ]
  },
  {
   "cell_type": "code",
   "execution_count": null,
   "id": "f364d00b",
   "metadata": {},
   "outputs": [],
   "source": [
    "sns.boxplot(bankdata['RelationshipCountProduct'])"
   ]
  },
  {
   "cell_type": "code",
   "execution_count": null,
   "id": "9e4c54cf",
   "metadata": {},
   "outputs": [],
   "source": [
    "sns.boxplot(bankdata['MonthsInactive'])"
   ]
  },
  {
   "cell_type": "code",
   "execution_count": null,
   "id": "66957694",
   "metadata": {},
   "outputs": [],
   "source": [
    "bankdata['MonthsInactive'].describe()"
   ]
  },
  {
   "cell_type": "code",
   "execution_count": null,
   "id": "4d6a17b8",
   "metadata": {},
   "outputs": [],
   "source": [
    " bankdata['MonthsInactive'].quantile(0.95)"
   ]
  },
  {
   "cell_type": "code",
   "execution_count": null,
   "id": "b804c9b0",
   "metadata": {},
   "outputs": [],
   "source": [
    "Q1 = bankdata['MonthsInactive'].quantile(0.25)\n",
    "Q1\n",
    "Q3 = bankdata['MonthsInactive'].quantile(0.75)\n",
    "Q3\n",
    "IQR = Q3 - Q1\n",
    "IQR\n",
    "rt_whisker = Q3 + 1.5*IQR\n",
    "rt_whisker\n",
    "lt_whisker = Q1 - 1.5 * IQR\n",
    "lt_whisker\n",
    "outsIQR = bankdata[(numeric_data['MonthsInactive'] > rt_whisker) | (bankdata['MonthsInactive'] < lt_whisker)]\n",
    "outsIQR"
   ]
  },
  {
   "cell_type": "code",
   "execution_count": null,
   "id": "b0c4b8c7",
   "metadata": {},
   "outputs": [],
   "source": [
    "for i, data in bankdata.iterrows():\n",
    "    if data.MonthsInactive < lt_whisker:\n",
    "        bankdata.at[i, 'MonthsInactive'] = lt_whisker\n",
    "    elif data.MonthsInactive > rt_whisker:\n",
    "        bankdata.at[i, 'MonthsInactive'] = rt_whisker"
   ]
  },
  {
   "cell_type": "code",
   "execution_count": null,
   "id": "8eb0a495",
   "metadata": {},
   "outputs": [],
   "source": [
    "#needs treatment"
   ]
  },
  {
   "cell_type": "code",
   "execution_count": null,
   "id": "e5bf9b95",
   "metadata": {
    "scrolled": false
   },
   "outputs": [],
   "source": [
    "sns.boxplot(bankdata['MonthsInactive'])"
   ]
  },
  {
   "cell_type": "code",
   "execution_count": null,
   "id": "6a2ae5b8",
   "metadata": {},
   "outputs": [],
   "source": [
    "sns.boxplot(bankdata['ContactsCount'])"
   ]
  },
  {
   "cell_type": "code",
   "execution_count": null,
   "id": "f73d8b82",
   "metadata": {},
   "outputs": [],
   "source": [
    "Q1 = bankdata['ContactsCount'].quantile(0.25)\n",
    "Q1\n",
    "Q3 = bankdata['ContactsCount'].quantile(0.75)\n",
    "Q3\n",
    "IQR = Q3 - Q1\n",
    "IQR\n",
    "rt_whisker = Q3 + 1.5*IQR\n",
    "rt_whisker\n",
    "lt_whisker = Q1 - 1.5 * IQR\n",
    "lt_whisker\n",
    "outsIQR = bankdata[(bankdata['ContactsCount'] > rt_whisker) | (bankdata['ContactsCount'] < lt_whisker)]\n",
    "outsIQR"
   ]
  },
  {
   "cell_type": "code",
   "execution_count": null,
   "id": "f5916824",
   "metadata": {},
   "outputs": [],
   "source": [
    "for i, data in bankdata.iterrows():\n",
    "    if data.ContactsCount < lt_whisker:\n",
    "        bankdata.at[i, 'ContactsCount'] = lt_whisker\n",
    "    elif data.ContactsCount > rt_whisker:\n",
    "        bankdata.at[i, 'ContactsCount'] = rt_whisker"
   ]
  },
  {
   "cell_type": "code",
   "execution_count": null,
   "id": "4dae6a0a",
   "metadata": {
    "scrolled": true
   },
   "outputs": [],
   "source": [
    "sns.boxplot(numeric_data['ContactsCount'])"
   ]
  },
  {
   "cell_type": "code",
   "execution_count": null,
   "id": "78d55705",
   "metadata": {},
   "outputs": [],
   "source": [
    "#needs treatment"
   ]
  },
  {
   "cell_type": "code",
   "execution_count": null,
   "id": "0aae2f46",
   "metadata": {},
   "outputs": [],
   "source": [
    "sns.boxplot(bankdata['CreditLimit'])"
   ]
  },
  {
   "cell_type": "code",
   "execution_count": null,
   "id": "b078ba72",
   "metadata": {},
   "outputs": [],
   "source": [
    "Q1 = bankdata['CreditLimit'].quantile(0.25)\n",
    "Q1\n",
    "Q3 = bankdata['CreditLimit'].quantile(0.75)\n",
    "Q3\n",
    "IQR = Q3 - Q1\n",
    "IQR\n",
    "rt_whisker = Q3 + 1.5*IQR\n",
    "rt_whisker\n",
    "lt_whisker = Q1 - 1.5 * IQR\n",
    "lt_whisker\n",
    "outsIQR = bankdata[(bankdata['CreditLimit'] > rt_whisker) | (bankdata['CreditLimit'] < lt_whisker)]\n",
    "outsIQR"
   ]
  },
  {
   "cell_type": "code",
   "execution_count": null,
   "id": "4c24e032",
   "metadata": {},
   "outputs": [],
   "source": [
    "for i, data in bankdata.iterrows():\n",
    "    if data.CreditLimit < lt_whisker:\n",
    "        bankdata.at[i, 'CreditLimit'] = lt_whisker\n",
    "    elif data.CreditLimit > rt_whisker:\n",
    "        bankdata.at[i, 'CreditLimit'] = rt_whisker"
   ]
  },
  {
   "cell_type": "code",
   "execution_count": null,
   "id": "28da3be5",
   "metadata": {},
   "outputs": [],
   "source": [
    "sns.boxplot(bankdata['CreditLimit'])"
   ]
  },
  {
   "cell_type": "code",
   "execution_count": null,
   "id": "ee5a8335",
   "metadata": {},
   "outputs": [],
   "source": [
    "sns.boxplot(bankdata['RevolvingBal'])"
   ]
  },
  {
   "cell_type": "code",
   "execution_count": null,
   "id": "91cb92be",
   "metadata": {},
   "outputs": [],
   "source": [
    "sns.boxplot(bankdata['OpenBuyAvg'])"
   ]
  },
  {
   "cell_type": "code",
   "execution_count": null,
   "id": "cb3a6f74",
   "metadata": {},
   "outputs": [],
   "source": [
    "Q1 = bankdata['OpenBuyAvg'].quantile(0.25)\n",
    "Q1\n",
    "Q3 = bankdata['OpenBuyAvg'].quantile(0.75)\n",
    "Q3\n",
    "IQR = Q3 - Q1\n",
    "IQR\n",
    "rt_whisker = Q3 + 1.5*IQR\n",
    "rt_whisker\n",
    "lt_whisker = Q1 - 1.5 * IQR\n",
    "lt_whisker\n",
    "outsIQR = bankdata[(bankdata['OpenBuyAvg'] > rt_whisker) | (bankdata['OpenBuyAvg'] < lt_whisker)]\n",
    "outsIQR"
   ]
  },
  {
   "cell_type": "code",
   "execution_count": null,
   "id": "befe1725",
   "metadata": {},
   "outputs": [],
   "source": [
    "for i, data in bankdata.iterrows():\n",
    "    if data.OpenBuyAvg < lt_whisker:\n",
    "        bankdata.at[i, 'OpenBuyAvg'] = lt_whisker\n",
    "    elif data.OpenBuyAvg > rt_whisker:\n",
    "        bankdata.at[i, 'OpenBuyAvg'] = rt_whisker"
   ]
  },
  {
   "cell_type": "code",
   "execution_count": null,
   "id": "8c5468ad",
   "metadata": {},
   "outputs": [],
   "source": [
    "sns.boxplot(bankdata['AmtChange'])"
   ]
  },
  {
   "cell_type": "code",
   "execution_count": null,
   "id": "cc017e26",
   "metadata": {},
   "outputs": [],
   "source": [
    "Q1 = bankdata['AmtChange'].quantile(0.25)\n",
    "Q1\n",
    "Q3 = bankdata['AmtChange'].quantile(0.75)\n",
    "Q3\n",
    "IQR = Q3 - Q1\n",
    "IQR\n",
    "rt_whisker = Q3 + 1.5*IQR\n",
    "rt_whisker\n",
    "lt_whisker = Q1 - 1.5 * IQR\n",
    "lt_whisker\n",
    "outsIQR = bankdata[(bankdata['AmtChange'] > rt_whisker) | (bankdata['AmtChange'] < lt_whisker)]\n",
    "outsIQR"
   ]
  },
  {
   "cell_type": "code",
   "execution_count": null,
   "id": "e053c067",
   "metadata": {},
   "outputs": [],
   "source": [
    "for i, data in numeric_data.iterrows():\n",
    "    if data.AmtChange < lt_whisker:\n",
    "        bankdata.at[i, 'AmtChange'] = lt_whisker\n",
    "    elif data.AmtChange > rt_whisker:\n",
    "        bankdata.at[i, 'AmtChange'] = rt_whisker"
   ]
  },
  {
   "cell_type": "code",
   "execution_count": null,
   "id": "75f7edea",
   "metadata": {},
   "outputs": [],
   "source": [
    "sns.boxplot(bankdata['AmtChange'])"
   ]
  },
  {
   "cell_type": "code",
   "execution_count": null,
   "id": "c6dbf6c4",
   "metadata": {},
   "outputs": [],
   "source": [
    "sns.boxplot(bankdata['AmtChange'])"
   ]
  },
  {
   "cell_type": "code",
   "execution_count": null,
   "id": "a224a149",
   "metadata": {},
   "outputs": [],
   "source": [
    "sns.boxplot(bankdata['Trnsactions'])"
   ]
  },
  {
   "cell_type": "code",
   "execution_count": null,
   "id": "642debf1",
   "metadata": {},
   "outputs": [],
   "source": [
    "Q1 = bankdata['Trnsactions'].quantile(0.25)\n",
    "Q1\n",
    "Q3 = bankdata['Trnsactions'].quantile(0.75)\n",
    "Q3\n",
    "IQR = Q3 - Q1\n",
    "IQR\n",
    "rt_whisker = Q3 + 1.5*IQR\n",
    "rt_whisker\n",
    "lt_whisker = Q1 - 1.5 * IQR\n",
    "lt_whisker\n",
    "outsIQR = bankdata[(bankdata['Trnsactions'] > rt_whisker) | (bankdata['Trnsactions'] < lt_whisker)]\n",
    "outsIQR\n",
    "for i, data in bankdata.iterrows():\n",
    "    if data.Trnsactions < lt_whisker:\n",
    "        bankdata.at[i, 'Trnsactions'] = lt_whisker\n",
    "    elif data.Trnsactions > rt_whisker:\n",
    "        bankdata.at[i, 'Trnsactions'] = rt_whisker"
   ]
  },
  {
   "cell_type": "code",
   "execution_count": null,
   "id": "104ef2fd",
   "metadata": {},
   "outputs": [],
   "source": [
    "sns.boxplot(bankdata['CountTransaction'])"
   ]
  },
  {
   "cell_type": "code",
   "execution_count": null,
   "id": "d64f28f9",
   "metadata": {},
   "outputs": [],
   "source": [
    "Q1 = bankdata['CountTransaction'].quantile(0.25)\n",
    "Q1\n",
    "Q3 = bankdata['CountTransaction'].quantile(0.75)\n",
    "Q3\n",
    "IQR = Q3 - Q1\n",
    "IQR\n",
    "rt_whisker = Q3 + 1.5*IQR\n",
    "rt_whisker\n",
    "lt_whisker = Q1 - 1.5 * IQR\n",
    "lt_whisker\n",
    "outsIQR = bankdata[(bankdata['CountTransaction'] > rt_whisker) | (bankdata['CountTransaction'] < lt_whisker)]\n",
    "outsIQR\n",
    "for i, data in bankdata.iterrows():\n",
    "    if data.CountTransaction < lt_whisker:\n",
    "        bankdata.at[i, 'CountTransaction'] = lt_whisker\n",
    "    elif data.CountTransaction > rt_whisker:\n",
    "        bankdata.at[i, 'CountTransaction'] = rt_whisker"
   ]
  },
  {
   "cell_type": "code",
   "execution_count": null,
   "id": "98b807c3",
   "metadata": {},
   "outputs": [],
   "source": [
    "sns.boxplot(bankdata['CountTransaction'])"
   ]
  },
  {
   "cell_type": "code",
   "execution_count": null,
   "id": "6f44630f",
   "metadata": {},
   "outputs": [],
   "source": [
    "sns.boxplot(bankdata['TotalCountQ4'])"
   ]
  },
  {
   "cell_type": "code",
   "execution_count": null,
   "id": "15611448",
   "metadata": {},
   "outputs": [],
   "source": [
    "Q1 = bankdata['TotalCountQ4'].quantile(0.25)\n",
    "Q1\n",
    "Q3 = bankdata['TotalCountQ4'].quantile(0.75)\n",
    "Q3\n",
    "IQR = Q3 - Q1\n",
    "IQR\n",
    "rt_whisker = Q3 + 1.5*IQR\n",
    "rt_whisker\n",
    "lt_whisker = Q1 - 1.5 * IQR\n",
    "lt_whisker\n",
    "outsIQR = bankdata[(bankdata['TotalCountQ4'] > rt_whisker) | (bankdata['TotalCountQ4'] < lt_whisker)]\n",
    "outsIQR\n",
    "for i, data in bankdata.iterrows():\n",
    "    if data.TotalCountQ4 < lt_whisker:\n",
    "        bankdata.at[i, 'TotalCountQ4'] = lt_whisker\n",
    "    elif data.TotalCountQ4 > rt_whisker:\n",
    "        bankdata.at[i, 'TotalCountQ4'] = rt_whisker"
   ]
  },
  {
   "cell_type": "code",
   "execution_count": null,
   "id": "97871dc8",
   "metadata": {},
   "outputs": [],
   "source": [
    "sns.boxplot(bankdata['Util'])"
   ]
  },
  {
   "cell_type": "code",
   "execution_count": null,
   "id": "a340137b",
   "metadata": {},
   "outputs": [],
   "source": [
    "sns.boxplot(bankdata['NBMI12Month1'])"
   ]
  },
  {
   "cell_type": "code",
   "execution_count": null,
   "id": "13fe47c6",
   "metadata": {},
   "outputs": [],
   "source": [
    "sns.boxplot(bankdata['NBMI12Month2'])"
   ]
  },
  {
   "cell_type": "code",
   "execution_count": null,
   "id": "d61a4f66",
   "metadata": {},
   "outputs": [],
   "source": [
    "bankdata.Target.value_counts(normalize=True)"
   ]
  },
  {
   "cell_type": "code",
   "execution_count": null,
   "id": "f1eb9ed3",
   "metadata": {},
   "outputs": [],
   "source": [
    "bankdata.columns"
   ]
  },
  {
   "cell_type": "code",
   "execution_count": null,
   "id": "d1f48909",
   "metadata": {},
   "outputs": [],
   "source": [
    "numeric_data = bankdata.select_dtypes(include=[np.number])\n",
    "categorical_data = bankdata.select_dtypes(exclude=[np.number])"
   ]
  },
  {
   "cell_type": "code",
   "execution_count": null,
   "id": "0dd111c4",
   "metadata": {},
   "outputs": [],
   "source": [
    "#banksdata"
   ]
  },
  {
   "cell_type": "code",
   "execution_count": null,
   "id": "68cc1d55",
   "metadata": {},
   "outputs": [],
   "source": [
    "#one hot endcoing , then correlation mapiing"
   ]
  },
  {
   "cell_type": "code",
   "execution_count": null,
   "id": "f3a52b30",
   "metadata": {},
   "outputs": [],
   "source": [
    "#For Categorical values \n",
    "#Nominal: Gender, Marital, Target\n",
    "#Ordinal: Education, Income, Card , age group"
   ]
  },
  {
   "cell_type": "code",
   "execution_count": null,
   "id": "0b81ea90",
   "metadata": {},
   "outputs": [],
   "source": [
    "from sklearn.preprocessing import OneHotEncoder"
   ]
  },
  {
   "cell_type": "code",
   "execution_count": null,
   "id": "85ac7277",
   "metadata": {},
   "outputs": [],
   "source": [
    "# We can say only Gender has effect on the attritions"
   ]
  },
  {
   "cell_type": "code",
   "execution_count": null,
   "id": "908fe753",
   "metadata": {},
   "outputs": [],
   "source": [
    "#categorical_data_new=categorical_data_new.drop(['Edu', 'Marital', 'Income', 'CardType','age_group'],axis=1)"
   ]
  },
  {
   "cell_type": "code",
   "execution_count": null,
   "id": "6d9bb51a",
   "metadata": {},
   "outputs": [],
   "source": [
    "categorical_data.columns"
   ]
  },
  {
   "cell_type": "code",
   "execution_count": null,
   "id": "f5e5dac5",
   "metadata": {},
   "outputs": [],
   "source": [
    "#one_hot_encoded_data = pd.get_dummies(categorical_data, columns = ['Target', 'Gender']) \n",
    "#print(one_hot_encoded_data)"
   ]
  },
  {
   "cell_type": "code",
   "execution_count": null,
   "id": "65826cd8",
   "metadata": {},
   "outputs": [],
   "source": [
    "#bankdata = pd.get_dummies(bankdata, columns = ['Target', 'Gender']) \n",
    "#print(bankdata)"
   ]
  },
  {
   "cell_type": "code",
   "execution_count": null,
   "id": "f34d1b02",
   "metadata": {},
   "outputs": [],
   "source": [
    "#bankdata['Target_Attrited Customer']= bankdata['Target_Attrited Customer'].astype(int)"
   ]
  },
  {
   "cell_type": "code",
   "execution_count": null,
   "id": "695b7802",
   "metadata": {},
   "outputs": [],
   "source": [
    "#bankdata['Target_Existing Customer']=bankdata['Target_Existing Customer'].astype(int)"
   ]
  },
  {
   "cell_type": "code",
   "execution_count": null,
   "id": "dbc97bd2",
   "metadata": {},
   "outputs": [],
   "source": [
    "#bankdata['Gender_F']=bankdata['Gender_F'].astype(int)"
   ]
  },
  {
   "cell_type": "code",
   "execution_count": null,
   "id": "355eb646",
   "metadata": {},
   "outputs": [],
   "source": [
    "#bankdata['Gender_M']=bankdata['Gender_M'].astype(int)"
   ]
  },
  {
   "cell_type": "code",
   "execution_count": null,
   "id": "1ad1cecf",
   "metadata": {},
   "outputs": [],
   "source": [
    "categorical_data.Target.value_counts(normalize=True)"
   ]
  },
  {
   "cell_type": "code",
   "execution_count": null,
   "id": "76d356c4",
   "metadata": {},
   "outputs": [],
   "source": [
    "categorical_data['Target'].shape"
   ]
  },
  {
   "cell_type": "code",
   "execution_count": null,
   "id": "7690092e",
   "metadata": {},
   "outputs": [],
   "source": [
    "categorical_data['Gender'].shape"
   ]
  },
  {
   "cell_type": "code",
   "execution_count": null,
   "id": "f57adfb8",
   "metadata": {},
   "outputs": [],
   "source": [
    "categorical_data['Target'] = categorical_data['Target'].astype('category') \n",
    "categorical_data['Gender'] = categorical_data['Gender'].astype('category') \n",
    "\n",
    "#Assigning numerical values and storing it in another columns \n",
    "categorical_data['Target_new'] = categorical_data['Target'].cat.codes \n",
    "categorical_data['Gen_new'] = categorical_data['Gender'].cat.codes \n",
    "  \n",
    "#Create an instance of One-hot-encoder \n",
    "enc = OneHotEncoder() \n",
    "\n",
    "# Passing encoded columns \n",
    "#categorical_data[['Target_new','Gen_new']] = enc.fit_transform(categorical_data[['Target','Gender']])  \n",
    "enc_data = pd.DataFrame(enc.fit_transform(categorical_data[['Target_new','Gen_new']]).toarray())  \n",
    "# Merge with main \n",
    "categorical_data_new = categorical_data.join(enc_data) \n",
    "  \n",
    "print(categorical_data_new)"
   ]
  },
  {
   "cell_type": "code",
   "execution_count": null,
   "id": "1b60a0a7",
   "metadata": {},
   "outputs": [],
   "source": [
    "categorical_data_new.columns"
   ]
  },
  {
   "cell_type": "code",
   "execution_count": null,
   "id": "f09ff7c0",
   "metadata": {},
   "outputs": [],
   "source": [
    "categorical_data_new.head()"
   ]
  },
  {
   "cell_type": "code",
   "execution_count": null,
   "id": "9051d3d5",
   "metadata": {},
   "outputs": [],
   "source": [
    "from sklearn.preprocessing import OrdinalEncoder"
   ]
  },
  {
   "cell_type": "code",
   "execution_count": null,
   "id": "613d9901",
   "metadata": {},
   "outputs": [],
   "source": [
    "categorical_data_new.head()"
   ]
  },
  {
   "cell_type": "code",
   "execution_count": null,
   "id": "b1b98ce7",
   "metadata": {},
   "outputs": [],
   "source": [
    "categorical_data_new=categorical_data_new.drop(['Target','Gender'],axis=1)"
   ]
  },
  {
   "cell_type": "code",
   "execution_count": null,
   "id": "5425799d",
   "metadata": {},
   "outputs": [],
   "source": [
    "categorical_data_new.head()"
   ]
  },
  {
   "cell_type": "code",
   "execution_count": null,
   "id": "464160a9",
   "metadata": {},
   "outputs": [],
   "source": [
    "enc = OrdinalEncoder()\n",
    "categorical_data_new[['Edu','Marital','Income','CardType','age_group']] = enc.fit_transform(categorical_data_new[['Edu','Marital','Income','CardType','age_group']])"
   ]
  },
  {
   "cell_type": "code",
   "execution_count": null,
   "id": "38b96a9c",
   "metadata": {},
   "outputs": [],
   "source": [
    "categorical_data_new.head()"
   ]
  },
  {
   "cell_type": "code",
   "execution_count": null,
   "id": "fd2b3b0f",
   "metadata": {},
   "outputs": [],
   "source": [
    "categorical_data_new.dtypes"
   ]
  },
  {
   "cell_type": "code",
   "execution_count": null,
   "id": "7f6d6027",
   "metadata": {},
   "outputs": [],
   "source": [
    "#categorical_data_new=categorical_data_new.drop([0,1,2,3],axis=1)"
   ]
  },
  {
   "cell_type": "code",
   "execution_count": null,
   "id": "120fff05",
   "metadata": {},
   "outputs": [],
   "source": [
    "categorical_data_new"
   ]
  },
  {
   "cell_type": "code",
   "execution_count": null,
   "id": "024ccb0e",
   "metadata": {},
   "outputs": [],
   "source": [
    "#Wil go with chi squared test"
   ]
  },
  {
   "cell_type": "code",
   "execution_count": null,
   "id": "41db7afa",
   "metadata": {},
   "outputs": [],
   "source": [
    "from sklearn.feature_selection import SelectKBest, chi2, f_classif"
   ]
  },
  {
   "cell_type": "code",
   "execution_count": null,
   "id": "ba598702",
   "metadata": {
    "scrolled": false
   },
   "outputs": [],
   "source": [
    "categorical_data_new.columns"
   ]
  },
  {
   "cell_type": "code",
   "execution_count": null,
   "id": "12ec57e6",
   "metadata": {},
   "outputs": [],
   "source": [
    "y=categorical_data_new['Target_new']"
   ]
  },
  {
   "cell_type": "code",
   "execution_count": null,
   "id": "4440144d",
   "metadata": {
    "scrolled": true
   },
   "outputs": [],
   "source": [
    "chi_sel = chi2(categorical_data_new[['Edu', 'Marital', 'Income', 'CardType','age_group','Gen_new']], y)\n",
    "chi_sel\n",
    "chi_stats = chi_sel[0]\n",
    "p_values = chi_sel[1]\n",
    "d = {'chi_stats': list(chi_stats), 'p_values': list(p_values)}\n",
    "cp = pd.DataFrame(data = d, index = ['Edu', 'Marital', 'Income', 'CardType','age_group','Gen_new'])\n",
    "cp = cp.sort_values(by = 'p_values', ascending = True)\n",
    "cp"
   ]
  },
  {
   "cell_type": "code",
   "execution_count": null,
   "id": "fdef1aba",
   "metadata": {},
   "outputs": [],
   "source": [
    "categorical_data_new.head()"
   ]
  },
  {
   "cell_type": "code",
   "execution_count": null,
   "id": "7870d0c9",
   "metadata": {
    "scrolled": true
   },
   "outputs": [],
   "source": [
    "#plt.figure(figsize = (12, 12))\n",
    "#sns.heatmap(categorical_data_new.corr(), cmap = 'YlGnBu',fmt='.2f',annot_kws={'size':15}, annot = True)\n",
    "#plt.show()"
   ]
  },
  {
   "cell_type": "code",
   "execution_count": null,
   "id": "9613b9de",
   "metadata": {},
   "outputs": [],
   "source": [
    "#categorical_data_new['Age'] = categorical_data_new['Age'].astype(str).str.strip('+').astype(int)\n",
    "#categorical_data_new  = categorical_data_new.join(pd.get_dummies(pd.cut(categorical_data_new['Age'],\n",
    " #                          bins=(0,18,30,45,60,np.inf), \n",
    "  #                         labels=['Under 18','19_to_30','30_to_45','46_to_60','Over 60'])))\n",
    "#print (bankdata)"
   ]
  },
  {
   "cell_type": "code",
   "execution_count": null,
   "id": "2a19eb78",
   "metadata": {},
   "outputs": [],
   "source": [
    "#corelation_n = categorical_data_new.corr() \n",
    "\n",
    "#cor_n = corelation_n.where(np.triu(np.ones(corelation_n.shape), k=1).astype(bool))\n",
    "#cor_n = cor_n.unstack().reset_index()\n",
    "#cor_n.columns = ['Var1', 'Var2', 'Correlation']\n",
    "#cor_n.dropna(subset = ['Correlation'], inplace = True)\n",
    "#cor_n['Correlation'] = round(cor_n['Correlation'], 2)\n",
    "#cor_n['Correlation'] = abs(cor_n['Correlation'])\n",
    "#cor_n.sort_values(by = 'Correlation', ascending = False).head(30)"
   ]
  },
  {
   "cell_type": "code",
   "execution_count": null,
   "id": "0e92eda4",
   "metadata": {},
   "outputs": [],
   "source": [
    "numeric_data.head()"
   ]
  },
  {
   "cell_type": "code",
   "execution_count": null,
   "id": "187716ea",
   "metadata": {},
   "outputs": [],
   "source": [
    "#minmax scalar"
   ]
  },
  {
   "cell_type": "code",
   "execution_count": null,
   "id": "059d9c57",
   "metadata": {},
   "outputs": [],
   "source": [
    "#Bankdata_new=Bankdata_new.drop(['0','1','2','3'],axis=1)"
   ]
  },
  {
   "cell_type": "code",
   "execution_count": null,
   "id": "da6372e5",
   "metadata": {},
   "outputs": [],
   "source": [
    "from sklearn.preprocessing import MinMaxScaler"
   ]
  },
  {
   "cell_type": "code",
   "execution_count": null,
   "id": "56c06587",
   "metadata": {},
   "outputs": [],
   "source": [
    "scaler = MinMaxScaler()"
   ]
  },
  {
   "cell_type": "code",
   "execution_count": null,
   "id": "1aa2d11e",
   "metadata": {},
   "outputs": [],
   "source": [
    "numeric_data_scaled = pd.DataFrame(scaler.fit_transform(numeric_data.values), columns=numeric_data.columns, index=numeric_data.index)"
   ]
  },
  {
   "cell_type": "code",
   "execution_count": null,
   "id": "97ff090f",
   "metadata": {},
   "outputs": [],
   "source": [
    "numeric_data_scaled"
   ]
  },
  {
   "cell_type": "code",
   "execution_count": null,
   "id": "50fb3109",
   "metadata": {},
   "outputs": [],
   "source": [
    "categorical_data_new\n",
    "categorical_data_new_scaled = pd.DataFrame(scaler.fit_transform(categorical_data_new.values), columns=categorical_data_new.columns, index=categorical_data_new.index)"
   ]
  },
  {
   "cell_type": "code",
   "execution_count": null,
   "id": "e3970b8e",
   "metadata": {},
   "outputs": [],
   "source": [
    "categorical_data_new_scaled"
   ]
  },
  {
   "cell_type": "code",
   "execution_count": null,
   "id": "1e17750f",
   "metadata": {},
   "outputs": [],
   "source": [
    "#numerical data as well"
   ]
  },
  {
   "cell_type": "code",
   "execution_count": null,
   "id": "38822895",
   "metadata": {},
   "outputs": [],
   "source": [
    "numeric_data.shape"
   ]
  },
  {
   "cell_type": "code",
   "execution_count": null,
   "id": "b3139057",
   "metadata": {},
   "outputs": [],
   "source": [
    "Bankdata_new_scaled = pd.concat([numeric_data_scaled, categorical_data_new_scaled], axis=1)\n",
    "Bankdata_new_scaled"
   ]
  },
  {
   "cell_type": "code",
   "execution_count": null,
   "id": "9eb658ae",
   "metadata": {},
   "outputs": [],
   "source": [
    "Bankdata_new_scaled=Bankdata_new_scaled.drop(['CNo'], axis=1)"
   ]
  },
  {
   "cell_type": "code",
   "execution_count": null,
   "id": "6995ae2d",
   "metadata": {},
   "outputs": [],
   "source": [
    "Bankdata_new_scaled"
   ]
  },
  {
   "cell_type": "code",
   "execution_count": null,
   "id": "fdb8e4fa",
   "metadata": {},
   "outputs": [],
   "source": [
    "Bankdata_new_scaled.shape"
   ]
  },
  {
   "cell_type": "code",
   "execution_count": null,
   "id": "f457388a",
   "metadata": {},
   "outputs": [],
   "source": [
    "Bankdata_new_scaled.columns"
   ]
  },
  {
   "cell_type": "code",
   "execution_count": null,
   "id": "e47da32a",
   "metadata": {
    "scrolled": true
   },
   "outputs": [],
   "source": [
    "Bankdata_new_scaled.corr()"
   ]
  },
  {
   "cell_type": "code",
   "execution_count": null,
   "id": "ced6831b",
   "metadata": {},
   "outputs": [],
   "source": [
    "corelation_n_all = Bankdata_new_scaled.corr() \n",
    "\n",
    "cor_n_a = corelation_n_all.where(np.triu(np.ones(corelation_n_all.shape), k=1).astype(bool))\n",
    "cor_n_a = cor_n_a.unstack().reset_index()\n",
    "cor_n_a.columns = ['Var1', 'Var2', 'Correlation']\n",
    "cor_n_a.dropna(subset = ['Correlation'], inplace = True)\n",
    "cor_n_a['Correlation'] = round(cor_n_a['Correlation'], 2)\n",
    "cor_n_a['Correlation'] = abs(cor_n_a['Correlation'])\n",
    "cor_n_a.sort_values(by = 'Correlation', ascending = False).head(30)"
   ]
  },
  {
   "cell_type": "code",
   "execution_count": null,
   "id": "2bcacc01",
   "metadata": {},
   "outputs": [],
   "source": [
    "Bankdata_new_scaled1=Bankdata_new_scaled.loc[:, ~Bankdata_new_scaled.columns.isin(['Target_new'])]"
   ]
  },
  {
   "cell_type": "code",
   "execution_count": null,
   "id": "729c6831",
   "metadata": {},
   "outputs": [],
   "source": [
    "Bankdata_new_scaled1.shape"
   ]
  },
  {
   "cell_type": "code",
   "execution_count": null,
   "id": "a1c3b22a",
   "metadata": {},
   "outputs": [],
   "source": [
    "Bankdata_new_scaled1.columns"
   ]
  },
  {
   "cell_type": "code",
   "execution_count": null,
   "id": "4ef5bad1",
   "metadata": {},
   "outputs": [],
   "source": [
    "cols_corr = Bankdata_new_scaled1.corr()"
   ]
  },
  {
   "cell_type": "code",
   "execution_count": null,
   "id": "56ba58ce",
   "metadata": {
    "scrolled": false
   },
   "outputs": [],
   "source": [
    "plt.figure(figsize = (20, 20))\n",
    "#sns.heatmap(Bankdata_new_scaled1.corr(), cbar=True, square= True,cmap = 'Greens',annot = True,fmt='.2f',annot_kws={'size':10})\n",
    "#sns.heatmap(conti_cols_corr, , annot=True, annot_kws={'size':15}, cmap='Greens')\n",
    "sns.heatmap(cols_corr, cbar=True, square= True, fmt='.1f', annot=True, annot_kws={'size':10}, cmap='Greens')\n",
    "plt.show()"
   ]
  },
  {
   "cell_type": "code",
   "execution_count": null,
   "id": "93bbe8ea",
   "metadata": {},
   "outputs": [],
   "source": [
    "Bankdata_new_scaled1.shape"
   ]
  },
  {
   "cell_type": "code",
   "execution_count": null,
   "id": "9151e53f",
   "metadata": {},
   "outputs": [],
   "source": [
    "corelation_n = Bankdata_new_scaled1.corr() \n",
    "\n",
    "cor_n = corelation_n.where(np.triu(np.ones(corelation_n.shape), k=1).astype(bool))\n",
    "cor_n = cor_n.unstack().reset_index()\n",
    "cor_n.columns = ['Var1', 'Var2', 'Correlation']\n",
    "cor_n.dropna(subset = ['Correlation'], inplace = True)\n",
    "cor_n['Correlation'] = round(cor_n['Correlation'], 2)\n",
    "cor_n['Correlation'] = abs(cor_n['Correlation'])\n",
    "cor_n.sort_values(by = 'Correlation', ascending = False).head(30)"
   ]
  },
  {
   "cell_type": "code",
   "execution_count": null,
   "id": "13a34ebb",
   "metadata": {},
   "outputs": [],
   "source": [
    "Bankdata_new_scaled1_1=Bankdata_new_scaled1.drop([3],axis=1)"
   ]
  },
  {
   "cell_type": "code",
   "execution_count": null,
   "id": "5017343a",
   "metadata": {},
   "outputs": [],
   "source": [
    "corelation_n = Bankdata_new_scaled1_1.corr() \n",
    "\n",
    "cor_n = corelation_n.where(np.triu(np.ones(corelation_n.shape), k=1).astype(bool))\n",
    "cor_n = cor_n.unstack().reset_index()\n",
    "cor_n.columns = ['Var1', 'Var2', 'Correlation']\n",
    "cor_n.dropna(subset = ['Correlation'], inplace = True)\n",
    "cor_n['Correlation'] = round(cor_n['Correlation'], 2)\n",
    "cor_n['Correlation'] = abs(cor_n['Correlation'])\n",
    "cor_n.sort_values(by = 'Correlation', ascending = False).head(30)"
   ]
  },
  {
   "cell_type": "code",
   "execution_count": null,
   "id": "0e07b00f",
   "metadata": {},
   "outputs": [],
   "source": [
    "Bankdata_new_scaled1_2=Bankdata_new_scaled1_1.drop([0],axis=1)"
   ]
  },
  {
   "cell_type": "code",
   "execution_count": null,
   "id": "c9c070cd",
   "metadata": {
    "scrolled": true
   },
   "outputs": [],
   "source": [
    "corelation_n = Bankdata_new_scaled1_2.corr() \n",
    "\n",
    "cor_n = corelation_n.where(np.triu(np.ones(corelation_n.shape), k=1).astype(bool))\n",
    "cor_n = cor_n.unstack().reset_index()\n",
    "cor_n.columns = ['Var1', 'Var2', 'Correlation']\n",
    "cor_n.dropna(subset = ['Correlation'], inplace = True)\n",
    "cor_n['Correlation'] = round(cor_n['Correlation'], 2)\n",
    "cor_n['Correlation'] = abs(cor_n['Correlation'])\n",
    "cor_n.sort_values(by = 'Correlation', ascending = False).head(30)"
   ]
  },
  {
   "cell_type": "code",
   "execution_count": null,
   "id": "38e50aa3",
   "metadata": {},
   "outputs": [],
   "source": [
    "Bankdata_new_scaled2=Bankdata_new_scaled1_2.drop(['NBMI12Month1'],axis=1)"
   ]
  },
  {
   "cell_type": "code",
   "execution_count": null,
   "id": "e6eceddc",
   "metadata": {},
   "outputs": [],
   "source": [
    "corelation_n = Bankdata_new_scaled2.corr() \n",
    "\n",
    "cor_n = corelation_n.where(np.triu(np.ones(corelation_n.shape), k=1).astype(bool))\n",
    "cor_n = cor_n.unstack().reset_index()\n",
    "cor_n.columns = ['Var1', 'Var2', 'Correlation']\n",
    "cor_n.dropna(subset = ['Correlation'], inplace = True)\n",
    "cor_n['Correlation'] = round(cor_n['Correlation'], 2)\n",
    "cor_n['Correlation'] = abs(cor_n['Correlation'])\n",
    "cor_n.sort_values(by = 'Correlation', ascending = False).head(30)"
   ]
  },
  {
   "cell_type": "code",
   "execution_count": null,
   "id": "3f356610",
   "metadata": {},
   "outputs": [],
   "source": [
    "Bankdata_new_scaled2_1=Bankdata_new_scaled2.drop([1],axis=1)"
   ]
  },
  {
   "cell_type": "code",
   "execution_count": null,
   "id": "fa2ed99e",
   "metadata": {},
   "outputs": [],
   "source": [
    "corelation_n = Bankdata_new_scaled2_1.corr() \n",
    "\n",
    "cor_n = corelation_n.where(np.triu(np.ones(corelation_n.shape), k=1).astype(bool))\n",
    "cor_n = cor_n.unstack().reset_index()\n",
    "cor_n.columns = ['Var1', 'Var2', 'Correlation']\n",
    "cor_n.dropna(subset = ['Correlation'], inplace = True)\n",
    "cor_n['Correlation'] = round(cor_n['Correlation'], 2)\n",
    "cor_n['Correlation'] = abs(cor_n['Correlation'])\n",
    "cor_n.sort_values(by = 'Correlation', ascending = False).head(30)"
   ]
  },
  {
   "cell_type": "code",
   "execution_count": null,
   "id": "5543324b",
   "metadata": {},
   "outputs": [],
   "source": [
    "Bankdata_new_scaled2_2=Bankdata_new_scaled2_1.drop([2],axis=1)"
   ]
  },
  {
   "cell_type": "code",
   "execution_count": null,
   "id": "6c8003f8",
   "metadata": {},
   "outputs": [],
   "source": [
    "corelation_n = Bankdata_new_scaled2_2.corr() \n",
    "\n",
    "cor_n = corelation_n.where(np.triu(np.ones(corelation_n.shape), k=1).astype(bool))\n",
    "cor_n = cor_n.unstack().reset_index()\n",
    "cor_n.columns = ['Var1', 'Var2', 'Correlation']\n",
    "cor_n.dropna(subset = ['Correlation'], inplace = True)\n",
    "cor_n['Correlation'] = round(cor_n['Correlation'], 2)\n",
    "cor_n['Correlation'] = abs(cor_n['Correlation'])\n",
    "cor_n.sort_values(by = 'Correlation', ascending = False).head(30)"
   ]
  },
  {
   "cell_type": "code",
   "execution_count": null,
   "id": "979b51f6",
   "metadata": {},
   "outputs": [],
   "source": [
    "#'OpenBuyAvg','CreditLimit','CountTransaction','Trnsactions','MonthBook','Age','Util','RevolvingBal',\n",
    "Bankdata_new_scaled3=Bankdata_new_scaled2_2.drop(['OpenBuyAvg'],axis=1)"
   ]
  },
  {
   "cell_type": "code",
   "execution_count": null,
   "id": "75ee6d23",
   "metadata": {},
   "outputs": [],
   "source": [
    "corelation_n = Bankdata_new_scaled3.corr() \n",
    "\n",
    "cor_n = corelation_n.where(np.triu(np.ones(corelation_n.shape), k=1).astype(bool))\n",
    "cor_n = cor_n.unstack().reset_index()\n",
    "cor_n.columns = ['Var1', 'Var2', 'Correlation']\n",
    "cor_n.dropna(subset = ['Correlation'], inplace = True)\n",
    "cor_n['Correlation'] = round(cor_n['Correlation'], 2)\n",
    "cor_n['Correlation'] = abs(cor_n['Correlation'])\n",
    "cor_n.sort_values(by = 'Correlation', ascending = False).head(30)"
   ]
  },
  {
   "cell_type": "code",
   "execution_count": null,
   "id": "a0f37d5e",
   "metadata": {},
   "outputs": [],
   "source": [
    "Bankdata_new_scaled4=Bankdata_new_scaled3.drop(['Age'],axis=1)"
   ]
  },
  {
   "cell_type": "code",
   "execution_count": null,
   "id": "89ff22a3",
   "metadata": {},
   "outputs": [],
   "source": [
    "corelation_n = Bankdata_new_scaled4.corr() \n",
    "\n",
    "cor_n = corelation_n.where(np.triu(np.ones(corelation_n.shape), k=1).astype(bool))\n",
    "cor_n = cor_n.unstack().reset_index()\n",
    "cor_n.columns = ['Var1', 'Var2', 'Correlation']\n",
    "cor_n.dropna(subset = ['Correlation'], inplace = True)\n",
    "cor_n['Correlation'] = round(cor_n['Correlation'], 2)\n",
    "cor_n['Correlation'] = abs(cor_n['Correlation'])\n",
    "cor_n.sort_values(by = 'Correlation', ascending = False).head(30)"
   ]
  },
  {
   "cell_type": "code",
   "execution_count": null,
   "id": "e6465a75",
   "metadata": {},
   "outputs": [],
   "source": [
    "Bankdata_new_scaled5=Bankdata_new_scaled4.drop(['CountTransaction'],axis=1)"
   ]
  },
  {
   "cell_type": "code",
   "execution_count": null,
   "id": "624bb1b3",
   "metadata": {},
   "outputs": [],
   "source": [
    "corelation_n = Bankdata_new_scaled5.corr() \n",
    "\n",
    "cor_n = corelation_n.where(np.triu(np.ones(corelation_n.shape), k=1).astype(bool))\n",
    "cor_n = cor_n.unstack().reset_index()\n",
    "cor_n.columns = ['Var1', 'Var2', 'Correlation']\n",
    "cor_n.dropna(subset = ['Correlation'], inplace = True)\n",
    "cor_n['Correlation'] = round(cor_n['Correlation'], 2)\n",
    "cor_n['Correlation'] = abs(cor_n['Correlation'])\n",
    "cor_n.sort_values(by = 'Correlation', ascending = False).head(30)"
   ]
  },
  {
   "cell_type": "code",
   "execution_count": null,
   "id": "a73becd9",
   "metadata": {},
   "outputs": [],
   "source": [
    "Bankdata_new_scaled6=Bankdata_new_scaled5.drop(['MonthBook'],axis=1)"
   ]
  },
  {
   "cell_type": "code",
   "execution_count": null,
   "id": "6e80014d",
   "metadata": {},
   "outputs": [],
   "source": [
    "corelation_n = Bankdata_new_scaled6.corr() \n",
    "\n",
    "cor_n = corelation_n.where(np.triu(np.ones(corelation_n.shape), k=1).astype(bool))\n",
    "cor_n = cor_n.unstack().reset_index()\n",
    "cor_n.columns = ['Var1', 'Var2', 'Correlation']\n",
    "cor_n.dropna(subset = ['Correlation'], inplace = True)\n",
    "cor_n['Correlation'] = round(cor_n['Correlation'], 2)\n",
    "cor_n['Correlation'] = abs(cor_n['Correlation'])\n",
    "cor_n.sort_values(by = 'Correlation', ascending = False).head(30)"
   ]
  },
  {
   "cell_type": "code",
   "execution_count": null,
   "id": "21c16ed9",
   "metadata": {},
   "outputs": [],
   "source": [
    "Bankdata_new_scaled7=Bankdata_new_scaled6.drop(['Util'],axis=1)"
   ]
  },
  {
   "cell_type": "code",
   "execution_count": null,
   "id": "132c1074",
   "metadata": {},
   "outputs": [],
   "source": [
    "corelation_n = Bankdata_new_scaled7.corr() \n",
    "\n",
    "cor_n = corelation_n.where(np.triu(np.ones(corelation_n.shape), k=1).astype(bool))\n",
    "cor_n = cor_n.unstack().reset_index()\n",
    "cor_n.columns = ['Var1', 'Var2', 'Correlation']\n",
    "cor_n.dropna(subset = ['Correlation'], inplace = True)\n",
    "cor_n['Correlation'] = round(cor_n['Correlation'], 2)\n",
    "cor_n['Correlation'] = abs(cor_n['Correlation'])\n",
    "cor_n.sort_values(by = 'Correlation', ascending = False).head(20)"
   ]
  },
  {
   "cell_type": "code",
   "execution_count": null,
   "id": "10cc21fb",
   "metadata": {},
   "outputs": [],
   "source": [
    "Bankdata_new_scaled8=Bankdata_new_scaled7.drop(['Income'],axis=1)"
   ]
  },
  {
   "cell_type": "code",
   "execution_count": null,
   "id": "2d370147",
   "metadata": {},
   "outputs": [],
   "source": [
    "corelation_n = Bankdata_new_scaled8.corr() \n",
    "\n",
    "cor_n = corelation_n.where(np.triu(np.ones(corelation_n.shape), k=1).astype(bool))\n",
    "cor_n = cor_n.unstack().reset_index()\n",
    "cor_n.columns = ['Var1', 'Var2', 'Correlation']\n",
    "cor_n.dropna(subset = ['Correlation'], inplace = True)\n",
    "cor_n['Correlation'] = round(cor_n['Correlation'], 2)\n",
    "cor_n['Correlation'] = abs(cor_n['Correlation'])\n",
    "cor_n.sort_values(by = 'Correlation', ascending = False).head(20)"
   ]
  },
  {
   "cell_type": "code",
   "execution_count": null,
   "id": "596a67db",
   "metadata": {},
   "outputs": [],
   "source": [
    "Bankdata_new_scaled9=Bankdata_new_scaled8.drop(['CreditLimit'],axis=1)"
   ]
  },
  {
   "cell_type": "code",
   "execution_count": null,
   "id": "54de335c",
   "metadata": {},
   "outputs": [],
   "source": [
    "corelation_n = Bankdata_new_scaled9.corr() \n",
    "\n",
    "cor_n = corelation_n.where(np.triu(np.ones(corelation_n.shape), k=1).astype(bool))\n",
    "cor_n = cor_n.unstack().reset_index()\n",
    "cor_n.columns = ['Var1', 'Var2', 'Correlation']\n",
    "cor_n.dropna(subset = ['Correlation'], inplace = True)\n",
    "cor_n['Correlation'] = round(cor_n['Correlation'], 2)\n",
    "cor_n['Correlation'] = abs(cor_n['Correlation'])\n",
    "cor_n.sort_values(by = 'Correlation', ascending = False).head(20)"
   ]
  },
  {
   "cell_type": "code",
   "execution_count": null,
   "id": "5dcae1f1",
   "metadata": {},
   "outputs": [],
   "source": [
    "Bankdata_new_scaled10=Bankdata_new_scaled9.drop(['TotalCountQ4'],axis=1)"
   ]
  },
  {
   "cell_type": "code",
   "execution_count": null,
   "id": "eb62329a",
   "metadata": {},
   "outputs": [],
   "source": [
    "corelation_n = Bankdata_new_scaled10.corr() \n",
    "\n",
    "cor_n = corelation_n.where(np.triu(np.ones(corelation_n.shape), k=1).astype(bool))\n",
    "cor_n = cor_n.unstack().reset_index()\n",
    "cor_n.columns = ['Var1', 'Var2', 'Correlation']\n",
    "cor_n.dropna(subset = ['Correlation'], inplace = True)\n",
    "cor_n['Correlation'] = round(cor_n['Correlation'], 2)\n",
    "cor_n['Correlation'] = abs(cor_n['Correlation'])\n",
    "cor_n.sort_values(by = 'Correlation', ascending = False).head(20)"
   ]
  },
  {
   "cell_type": "code",
   "execution_count": null,
   "id": "0f759c3b",
   "metadata": {},
   "outputs": [],
   "source": [
    "Bankdata_new_scaled11=Bankdata_new_scaled10.drop(['NBMI12Month2'],axis=1)"
   ]
  },
  {
   "cell_type": "code",
   "execution_count": null,
   "id": "f01af80a",
   "metadata": {},
   "outputs": [],
   "source": [
    "corelation_n = Bankdata_new_scaled11.corr() \n",
    "\n",
    "cor_n = corelation_n.where(np.triu(np.ones(corelation_n.shape), k=1).astype(bool))\n",
    "cor_n = cor_n.unstack().reset_index()\n",
    "cor_n.columns = ['Var1', 'Var2', 'Correlation']\n",
    "cor_n.dropna(subset = ['Correlation'], inplace = True)\n",
    "cor_n['Correlation'] = round(cor_n['Correlation'], 2)\n",
    "cor_n['Correlation'] = abs(cor_n['Correlation'])\n",
    "cor_n.sort_values(by = 'Correlation', ascending = False).head(20)"
   ]
  },
  {
   "cell_type": "code",
   "execution_count": null,
   "id": "9a52a4dc",
   "metadata": {},
   "outputs": [],
   "source": [
    "Bankdata_new_scaled12=Bankdata_new_scaled11.drop(['RelationshipCountProduct'],axis=1)"
   ]
  },
  {
   "cell_type": "code",
   "execution_count": null,
   "id": "8be35bca",
   "metadata": {},
   "outputs": [],
   "source": [
    "corelation_n = Bankdata_new_scaled12.corr() \n",
    "\n",
    "cor_n = corelation_n.where(np.triu(np.ones(corelation_n.shape), k=1).astype(bool))\n",
    "cor_n = cor_n.unstack().reset_index()\n",
    "cor_n.columns = ['Var1', 'Var2', 'Correlation']\n",
    "cor_n.dropna(subset = ['Correlation'], inplace = True)\n",
    "cor_n['Correlation'] = round(cor_n['Correlation'], 2)\n",
    "cor_n['Correlation'] = abs(cor_n['Correlation'])\n",
    "cor_n.sort_values(by = 'Correlation', ascending = False).head(20)"
   ]
  },
  {
   "cell_type": "code",
   "execution_count": null,
   "id": "00af0a5e",
   "metadata": {},
   "outputs": [],
   "source": [
    "Bankdata_new_scaled12.columns"
   ]
  },
  {
   "cell_type": "code",
   "execution_count": null,
   "id": "660482f1",
   "metadata": {},
   "outputs": [],
   "source": [
    "Bankdata_new_scaled12.shape"
   ]
  },
  {
   "cell_type": "code",
   "execution_count": null,
   "id": "8125c88d",
   "metadata": {},
   "outputs": [],
   "source": [
    "Bankdata_new_scaled12.corrwith(Bankdata_new_scaled['Target_new'])"
   ]
  },
  {
   "cell_type": "code",
   "execution_count": null,
   "id": "468d8205",
   "metadata": {},
   "outputs": [],
   "source": [
    "Bankdata_new_scaled_reduced=Bankdata_new_scaled12"
   ]
  },
  {
   "cell_type": "code",
   "execution_count": null,
   "id": "f084d2f4",
   "metadata": {},
   "outputs": [],
   "source": [
    "Bankdata_new_scaled_reduced"
   ]
  },
  {
   "cell_type": "code",
   "execution_count": null,
   "id": "e30a2018",
   "metadata": {},
   "outputs": [],
   "source": [
    "Bankdata_new_scaled_reduced.shape"
   ]
  },
  {
   "cell_type": "code",
   "execution_count": null,
   "id": "46f60256",
   "metadata": {},
   "outputs": [],
   "source": [
    "#####################"
   ]
  },
  {
   "cell_type": "code",
   "execution_count": null,
   "id": "c780b631",
   "metadata": {},
   "outputs": [],
   "source": [
    "Bankdata_new_scaled.head()"
   ]
  },
  {
   "cell_type": "code",
   "execution_count": null,
   "id": "2c2fbe21",
   "metadata": {},
   "outputs": [],
   "source": [
    "Bankdata_new_scaled.shape"
   ]
  },
  {
   "cell_type": "code",
   "execution_count": null,
   "id": "bcc18cc4",
   "metadata": {},
   "outputs": [],
   "source": [
    "#SMOTE"
   ]
  },
  {
   "cell_type": "code",
   "execution_count": null,
   "id": "5d30abed",
   "metadata": {},
   "outputs": [],
   "source": [
    "Bankdataset_SMT= Bankdata_new_scaled"
   ]
  },
  {
   "cell_type": "code",
   "execution_count": null,
   "id": "544b4334",
   "metadata": {},
   "outputs": [],
   "source": [
    "Bankdataset_SMT.info()"
   ]
  },
  {
   "cell_type": "code",
   "execution_count": null,
   "id": "201e69bc",
   "metadata": {},
   "outputs": [],
   "source": [
    "Bankdataset_SMT.columns"
   ]
  },
  {
   "cell_type": "code",
   "execution_count": null,
   "id": "ee1e5c7c",
   "metadata": {},
   "outputs": [],
   "source": [
    "Bankdataset_SMT.columns = Bankdataset_SMT.columns.astype(str)"
   ]
  },
  {
   "cell_type": "code",
   "execution_count": null,
   "id": "45f4b7e0",
   "metadata": {},
   "outputs": [],
   "source": [
    "Bankdataset_SMT.columns"
   ]
  },
  {
   "cell_type": "code",
   "execution_count": null,
   "id": "5be05299",
   "metadata": {},
   "outputs": [],
   "source": [
    "y_smt=Bankdataset_SMT['Target_new']"
   ]
  },
  {
   "cell_type": "code",
   "execution_count": null,
   "id": "a2766730",
   "metadata": {},
   "outputs": [],
   "source": [
    "Bankdataset_SMT_1=Bankdataset_SMT[['Age', 'Depedent', 'MonthBook', 'RelationshipCountProduct', 'MonthsInactive',\n",
    "       'ContactsCount', 'CreditLimit', 'RevolvingBal', 'OpenBuyAvg',\n",
    "       'AmtChange', 'Trnsactions', 'CountTransaction', 'TotalCountQ4', 'Util',\n",
    "       'NBMI12Month1', 'NBMI12Month2', 'Edu', 'Marital', 'Income', 'CardType',\n",
    "       'age_group', 'Gen_new']]"
   ]
  },
  {
   "cell_type": "code",
   "execution_count": null,
   "id": "3c41a7ef",
   "metadata": {},
   "outputs": [],
   "source": [
    "y.info()"
   ]
  },
  {
   "cell_type": "code",
   "execution_count": null,
   "id": "be6e63c0",
   "metadata": {},
   "outputs": [],
   "source": [
    "y.value_counts(normalize=True)"
   ]
  },
  {
   "cell_type": "code",
   "execution_count": null,
   "id": "0a36f524",
   "metadata": {},
   "outputs": [],
   "source": [
    "from imblearn.over_sampling import SMOTE\n",
    "\n",
    "sm = SMOTE(random_state = 42)\n",
    "Bankdataset_SMT_1_sm, y_sm = sm.fit_resample(Bankdataset_SMT_1, y_smt.ravel())\n",
    "  \n",
    "print('Before oversampling Bankdata_new shape: ', Bankdataset_SMT_1.shape)\n",
    "print('After OverSampling, the shape of Bankdata_new: {}'.format(Bankdataset_SMT_1.shape))\n",
    "print('After OverSampling, the shape of y: {} \\n'.format(y_sm.shape))\n",
    "  \n",
    "print(\"After OverSampling, counts of label '1': {}\".format(sum(y_sm == 1)))\n",
    "print(\"After OverSampling, counts of label '0': {}\".format(sum(y_sm == 0)))"
   ]
  },
  {
   "cell_type": "code",
   "execution_count": null,
   "id": "64986623",
   "metadata": {},
   "outputs": [],
   "source": [
    "Bankdataset_SMT_1_sm.shape"
   ]
  },
  {
   "cell_type": "code",
   "execution_count": null,
   "id": "a1ca5fca",
   "metadata": {},
   "outputs": [],
   "source": [
    "Bankdataset_SMT_1_sm.columns"
   ]
  },
  {
   "cell_type": "code",
   "execution_count": null,
   "id": "b0a95097",
   "metadata": {},
   "outputs": [],
   "source": [
    "y_sm"
   ]
  },
  {
   "cell_type": "code",
   "execution_count": null,
   "id": "bf78220b",
   "metadata": {},
   "outputs": [],
   "source": [
    "#on reduced dataset"
   ]
  },
  {
   "cell_type": "code",
   "execution_count": null,
   "id": "d6733835",
   "metadata": {},
   "outputs": [],
   "source": [
    "tar=Bankdata_new_scaled['Target_new']"
   ]
  },
  {
   "cell_type": "code",
   "execution_count": null,
   "id": "52ebff27",
   "metadata": {},
   "outputs": [],
   "source": [
    "Bankdata_new_scaled_reduced1 = Bankdata_new_scaled_reduced.assign(Target=tar)"
   ]
  },
  {
   "cell_type": "code",
   "execution_count": null,
   "id": "71309d95",
   "metadata": {},
   "outputs": [],
   "source": [
    "Bankdata_new_scaled_reduced1.shape"
   ]
  },
  {
   "cell_type": "code",
   "execution_count": null,
   "id": "4b34de76",
   "metadata": {},
   "outputs": [],
   "source": [
    "Bankdataset_SMT_2= Bankdata_new_scaled_reduced1"
   ]
  },
  {
   "cell_type": "code",
   "execution_count": null,
   "id": "5fd6dac2",
   "metadata": {},
   "outputs": [],
   "source": [
    "Bankdataset_SMT_2.columns = Bankdataset_SMT_2.columns.astype(str)"
   ]
  },
  {
   "cell_type": "code",
   "execution_count": null,
   "id": "4ff0b049",
   "metadata": {},
   "outputs": [],
   "source": [
    "y2=Bankdataset_SMT_2['Target']"
   ]
  },
  {
   "cell_type": "code",
   "execution_count": null,
   "id": "2d134cac",
   "metadata": {},
   "outputs": [],
   "source": [
    "Bankdataset_SMT_2.columns"
   ]
  },
  {
   "cell_type": "code",
   "execution_count": null,
   "id": "c2c1318b",
   "metadata": {},
   "outputs": [],
   "source": [
    "Bankdataset_SMT_3=Bankdataset_SMT_2[['Depedent', 'MonthsInactive', 'ContactsCount', 'RevolvingBal',\n",
    "       'AmtChange', 'Trnsactions', 'Edu', 'Marital', 'CardType', 'age_group',\n",
    "       'Gen_new']]"
   ]
  },
  {
   "cell_type": "code",
   "execution_count": null,
   "id": "19589990",
   "metadata": {},
   "outputs": [],
   "source": [
    "y2"
   ]
  },
  {
   "cell_type": "code",
   "execution_count": null,
   "id": "9b69b97a",
   "metadata": {},
   "outputs": [],
   "source": [
    "from imblearn.over_sampling import SMOTE\n",
    "\n",
    "sm = SMOTE(random_state = 42)\n",
    "Bankdataset_SMT_3_sm, y2_sm = sm.fit_resample(Bankdataset_SMT_3, y2.ravel())\n",
    "  \n",
    "print('Before oversampling Bankdata_new shape: ', Bankdataset_SMT_3_sm.shape)\n",
    "print('After OverSampling, the shape of Bankdata_new: {}'.format(Bankdataset_SMT_3_sm.shape))\n",
    "print('After OverSampling, the shape of y: {} \\n'.format(y2_sm.shape))\n",
    "  \n",
    "print(\"After OverSampling, counts of label '1': {}\".format(sum(y2_sm == 1)))\n",
    "print(\"After OverSampling, counts of label '0': {}\".format(sum(y2_sm == 0)))"
   ]
  },
  {
   "cell_type": "code",
   "execution_count": null,
   "id": "96c6f09e",
   "metadata": {},
   "outputs": [],
   "source": [
    "#Bankdataset_SMT_3 # y2_sm"
   ]
  },
  {
   "cell_type": "code",
   "execution_count": null,
   "id": "4fa54ae2",
   "metadata": {},
   "outputs": [],
   "source": [
    "#from imblearn.under_sampling import RandomUnderSampler\n",
    "\n",
    "#rus = RandomUnderSampler(random_state=42, replacement=True)# fit predictor and target variable\n",
    "#x_rus, y_rus = rus.fit_resample(x, y)\n",
    "\n",
    "#print('original dataset shape:', Counter(y))\n",
    "#print('Resample dataset shape', Counter(y_rus))"
   ]
  },
  {
   "cell_type": "code",
   "execution_count": null,
   "id": "8d8c2a71",
   "metadata": {},
   "outputs": [],
   "source": [
    "#train test split"
   ]
  },
  {
   "cell_type": "code",
   "execution_count": null,
   "id": "f32f8cb6",
   "metadata": {},
   "outputs": [],
   "source": [
    "#Dataset 1 -- Bankdata_new_scaled , #Bankdataset_SMT_1_sm \n",
    "\n",
    "#Dataset 2 -- Bankdata_new_scaled_reduced , #Bankdataset_SMT_3_sm\n",
    "\n"
   ]
  },
  {
   "cell_type": "code",
   "execution_count": null,
   "id": "b543430a",
   "metadata": {
    "scrolled": true
   },
   "outputs": [],
   "source": [
    "Bankdata_new_scaled.columns"
   ]
  },
  {
   "cell_type": "code",
   "execution_count": null,
   "id": "3219d472",
   "metadata": {},
   "outputs": [],
   "source": [
    "Bankdata_new_scaled.shape"
   ]
  },
  {
   "cell_type": "code",
   "execution_count": null,
   "id": "18bf10ef",
   "metadata": {},
   "outputs": [],
   "source": [
    "Bankdata_new_scaled1.columns"
   ]
  },
  {
   "cell_type": "code",
   "execution_count": null,
   "id": "5b034f02",
   "metadata": {},
   "outputs": [],
   "source": [
    "Bankdata_new_scaled1=Bankdata_new_scaled"
   ]
  },
  {
   "cell_type": "code",
   "execution_count": null,
   "id": "6f80e486",
   "metadata": {},
   "outputs": [],
   "source": [
    "Bankdata_new_scaled1.shape"
   ]
  },
  {
   "cell_type": "code",
   "execution_count": null,
   "id": "9e2ba469",
   "metadata": {},
   "outputs": [],
   "source": [
    "X_scaled=Bankdata_new_scaled.drop(columns=['Target_new'])"
   ]
  },
  {
   "cell_type": "code",
   "execution_count": null,
   "id": "a9d9e9e4",
   "metadata": {},
   "outputs": [],
   "source": [
    "X_scaled"
   ]
  },
  {
   "cell_type": "code",
   "execution_count": null,
   "id": "89f8353b",
   "metadata": {},
   "outputs": [],
   "source": [
    "y_scaled=Bankdata_new_scaled['Target_new']"
   ]
  },
  {
   "cell_type": "code",
   "execution_count": null,
   "id": "211eff8a",
   "metadata": {},
   "outputs": [],
   "source": [
    "X_scaled.shape"
   ]
  },
  {
   "cell_type": "code",
   "execution_count": null,
   "id": "671e80b9",
   "metadata": {},
   "outputs": [],
   "source": [
    "y_scaled.shape"
   ]
  },
  {
   "cell_type": "code",
   "execution_count": null,
   "id": "795fbe73",
   "metadata": {},
   "outputs": [],
   "source": [
    "y_scaled.value_counts(normalize=True)"
   ]
  },
  {
   "cell_type": "code",
   "execution_count": null,
   "id": "5a88702c",
   "metadata": {},
   "outputs": [],
   "source": [
    "X_train, X_test, y_train, y_test = train_test_split(X_scaled, y_scaled, test_size = 0.3, stratify = y )"
   ]
  },
  {
   "cell_type": "code",
   "execution_count": null,
   "id": "044fbee7",
   "metadata": {},
   "outputs": [],
   "source": [
    "X_train.shape"
   ]
  },
  {
   "cell_type": "code",
   "execution_count": null,
   "id": "873ab441",
   "metadata": {},
   "outputs": [],
   "source": [
    "X_train"
   ]
  },
  {
   "cell_type": "code",
   "execution_count": null,
   "id": "e1dc7693",
   "metadata": {},
   "outputs": [],
   "source": [
    "X_test.shape"
   ]
  },
  {
   "cell_type": "code",
   "execution_count": null,
   "id": "f4ad5cab",
   "metadata": {},
   "outputs": [],
   "source": [
    "y_train.shape"
   ]
  },
  {
   "cell_type": "code",
   "execution_count": null,
   "id": "cd29214b",
   "metadata": {},
   "outputs": [],
   "source": [
    "y_test.shape"
   ]
  },
  {
   "cell_type": "code",
   "execution_count": null,
   "id": "13b9b0ce",
   "metadata": {},
   "outputs": [],
   "source": [
    "y_test.value_counts()"
   ]
  },
  {
   "cell_type": "code",
   "execution_count": null,
   "id": "df78597e",
   "metadata": {},
   "outputs": [],
   "source": [
    "y_train.value_counts()"
   ]
  },
  {
   "cell_type": "code",
   "execution_count": null,
   "id": "ec0acf26",
   "metadata": {},
   "outputs": [],
   "source": [
    "Bankdata_new_scaled1.columns"
   ]
  },
  {
   "cell_type": "markdown",
   "id": "63604bfe",
   "metadata": {},
   "source": [
    "# Logistic Regression"
   ]
  },
  {
   "cell_type": "code",
   "execution_count": null,
   "id": "e8e2d4d8",
   "metadata": {},
   "outputs": [],
   "source": [
    "# LR model --KNN , SVM , DT , Random forest , xgboost , adaboost , lightgbm, catboost"
   ]
  },
  {
   "cell_type": "code",
   "execution_count": null,
   "id": "24cb911f",
   "metadata": {},
   "outputs": [],
   "source": [
    "from sklearn.linear_model import LogisticRegression\n",
    "from sklearn.metrics import precision_score, recall_score, confusion_matrix, classification_report, accuracy_score, f1_score"
   ]
  },
  {
   "cell_type": "code",
   "execution_count": null,
   "id": "509e81c4",
   "metadata": {},
   "outputs": [],
   "source": [
    "lreg = LogisticRegression()\n",
    "lreg.fit(X_train, y_train)"
   ]
  },
  {
   "cell_type": "code",
   "execution_count": null,
   "id": "55fc5f81",
   "metadata": {},
   "outputs": [],
   "source": [
    "y_pred = lreg.predict(X_test)"
   ]
  },
  {
   "cell_type": "code",
   "execution_count": null,
   "id": "ffcb3fda",
   "metadata": {},
   "outputs": [],
   "source": [
    "print ('Accuracy: ', accuracy_score(y_test, y_pred))\n",
    "print ('F1 score: ', f1_score(y_test, y_pred))\n",
    "print ('Recall: ', recall_score(y_test, y_pred))\n",
    "print ('Precision: ', precision_score(y_test, y_pred))\n",
    "print ('\\n clasification report:\\n', classification_report(y_test,y_pred))\n",
    "print ('\\n confussion matrix:\\n',confusion_matrix(y_test, y_pred))\n",
    "print('Roc Auc Score: ', roc_auc_score(y_test, y_pred))"
   ]
  },
  {
   "cell_type": "code",
   "execution_count": null,
   "id": "f8e7bce2",
   "metadata": {},
   "outputs": [],
   "source": [
    "y_pred"
   ]
  },
  {
   "cell_type": "code",
   "execution_count": null,
   "id": "2190d416",
   "metadata": {},
   "outputs": [],
   "source": [
    "df = pd.DataFrame(y_pred)"
   ]
  },
  {
   "cell_type": "code",
   "execution_count": null,
   "id": "d322c53d",
   "metadata": {
    "scrolled": true
   },
   "outputs": [],
   "source": [
    "df.value_counts()"
   ]
  },
  {
   "cell_type": "markdown",
   "id": "503ca91d",
   "metadata": {},
   "source": [
    "# KNN "
   ]
  },
  {
   "cell_type": "code",
   "execution_count": null,
   "id": "b0933fdd",
   "metadata": {},
   "outputs": [],
   "source": [
    "from sklearn.neighbors import KNeighborsClassifier\n",
    "#from sklearn.metrics  import confusion_matrix, classification_report, accuracy_score, f1_score, roc_auc_score, roc_curve"
   ]
  },
  {
   "cell_type": "code",
   "execution_count": null,
   "id": "b3c6d98b",
   "metadata": {},
   "outputs": [],
   "source": [
    "#knn\n",
    "knn = KNeighborsClassifier()\n",
    "scores = cross_val_score(knn, X_train, y_train, cv = 10)\n",
    "scores"
   ]
  },
  {
   "cell_type": "code",
   "execution_count": null,
   "id": "bf1685d5",
   "metadata": {},
   "outputs": [],
   "source": [
    "knn1 = knn.fit(X_train, y_train)"
   ]
  },
  {
   "cell_type": "code",
   "execution_count": null,
   "id": "b04e14c1",
   "metadata": {},
   "outputs": [],
   "source": [
    "y_pred_knn1 = knn1.predict(X_test.values)\n",
    "print('Roc Auc Score: ', roc_auc_score(y_test, y_pred_knn1))\n",
    "\n",
    "print('Confusion Matrix: ')\n",
    "print(confusion_matrix(y_test, y_pred_knn1))\n",
    "\n",
    "print('Classification Report: ')\n",
    "print(classification_report(y_test, y_pred_knn1))\n",
    "\n",
    "print('Accuracy: ', accuracy_score(y_test, y_pred_knn1))"
   ]
  },
  {
   "cell_type": "code",
   "execution_count": null,
   "id": "5d82396c",
   "metadata": {},
   "outputs": [],
   "source": [
    "confusion=confusion_matrix(y_test, y_pred_knn1)"
   ]
  },
  {
   "cell_type": "code",
   "execution_count": null,
   "id": "e4a841a3",
   "metadata": {},
   "outputs": [],
   "source": [
    "TP = confusion[1,1] # true positive \n",
    "TN = confusion[0,0] # true negatives\n",
    "FP = confusion[0,1] # false positives\n",
    "FN = confusion[1,0] # false negatives"
   ]
  },
  {
   "cell_type": "code",
   "execution_count": null,
   "id": "d96ca13b",
   "metadata": {},
   "outputs": [],
   "source": [
    "TP / float(TP+FN)"
   ]
  },
  {
   "cell_type": "code",
   "execution_count": null,
   "id": "e9dd1e3e",
   "metadata": {},
   "outputs": [],
   "source": [
    "TN / float(TN+FP)"
   ]
  },
  {
   "cell_type": "code",
   "execution_count": null,
   "id": "bdc85754",
   "metadata": {},
   "outputs": [],
   "source": [
    "print(FP/ float(TN+FP))"
   ]
  },
  {
   "cell_type": "code",
   "execution_count": null,
   "id": "90ae4bde",
   "metadata": {},
   "outputs": [],
   "source": [
    "print (TP / float(TP+FP))"
   ]
  },
  {
   "cell_type": "code",
   "execution_count": null,
   "id": "28aa7d67",
   "metadata": {},
   "outputs": [],
   "source": [
    "print (TN / float(TN+ FN))"
   ]
  },
  {
   "cell_type": "markdown",
   "id": "77a8a216",
   "metadata": {},
   "source": [
    "# Decision Tree "
   ]
  },
  {
   "cell_type": "code",
   "execution_count": null,
   "id": "4b7c7f91",
   "metadata": {},
   "outputs": [],
   "source": [
    "from sklearn.tree import DecisionTreeClassifier"
   ]
  },
  {
   "cell_type": "code",
   "execution_count": null,
   "id": "bfb68b6b",
   "metadata": {},
   "outputs": [],
   "source": [
    "#from sklearn.metrics  import confusion_matrix, classification_report, accuracy_score, f1_score, roc_auc_score, roc_curve"
   ]
  },
  {
   "cell_type": "code",
   "execution_count": null,
   "id": "c8efda1a",
   "metadata": {},
   "outputs": [],
   "source": [
    "#from sklearn import tree\n",
    "#from sklearn.tree import DecisionTreeClassifier"
   ]
  },
  {
   "cell_type": "code",
   "execution_count": null,
   "id": "bf292e39",
   "metadata": {},
   "outputs": [],
   "source": [
    "dt = DecisionTreeClassifier()\n",
    "scores = cross_val_score(dt, X_train, y_train, cv = 10)\n",
    "scores"
   ]
  },
  {
   "cell_type": "code",
   "execution_count": null,
   "id": "e01949f7",
   "metadata": {},
   "outputs": [],
   "source": [
    "dt1 = dt.fit(X_train,  y_train)"
   ]
  },
  {
   "cell_type": "code",
   "execution_count": null,
   "id": "e2591e2b",
   "metadata": {},
   "outputs": [],
   "source": [
    "y_pred_dt1 = dt1.predict(X_test)\n",
    "print('Roc Auc Score: ', roc_auc_score(y_test, y_pred_dt1))\n",
    "\n",
    "print('Confusion Matrix: ')\n",
    "print(confusion_matrix(y_test, y_pred_dt1))\n",
    "\n",
    "print('Classification Report: ')\n",
    "print(classification_report(y_test, y_pred_dt1))\n",
    "\n",
    "print('Accuracy: ', accuracy_score(y_test, y_pred_dt1))"
   ]
  },
  {
   "cell_type": "code",
   "execution_count": null,
   "id": "43c4310d",
   "metadata": {},
   "outputs": [],
   "source": [
    "print ('F1 score: ', f1_score(y_test, y_pred_dt1))\n",
    "print ('Recall: ', recall_score(y_test, y_pred_dt1))\n",
    "print ('Precision: ', precision_score(y_test, y_pred_dt1))"
   ]
  },
  {
   "cell_type": "markdown",
   "id": "dca2f50c",
   "metadata": {},
   "source": [
    "# CART"
   ]
  },
  {
   "cell_type": "code",
   "execution_count": null,
   "id": "9099d1da",
   "metadata": {},
   "outputs": [],
   "source": [
    "#cart"
   ]
  },
  {
   "cell_type": "code",
   "execution_count": null,
   "id": "31a1e6b0",
   "metadata": {},
   "outputs": [],
   "source": [
    "cart_model = DecisionTreeClassifier(random_state=17).fit(X_train, y_train)"
   ]
  },
  {
   "cell_type": "code",
   "execution_count": null,
   "id": "d6e073db",
   "metadata": {},
   "outputs": [],
   "source": [
    "y_pred = cart_model.predict(X_test)\n",
    "y_prob = cart_model.predict_proba(X_test)[:, 1]\n",
    "print(classification_report(y_test, y_pred))"
   ]
  },
  {
   "cell_type": "code",
   "execution_count": null,
   "id": "1381592f",
   "metadata": {},
   "outputs": [],
   "source": [
    "cv_results = cross_validate(cart_model,\n",
    "                            X_train, y_train,\n",
    "                            cv=10,\n",
    "                            scoring=[\"accuracy\", \"f1\", \"roc_auc\"])"
   ]
  },
  {
   "cell_type": "code",
   "execution_count": null,
   "id": "c5817dec",
   "metadata": {},
   "outputs": [],
   "source": [
    "cv_results['test_accuracy'].mean()\n"
   ]
  },
  {
   "cell_type": "code",
   "execution_count": null,
   "id": "ad87fef1",
   "metadata": {},
   "outputs": [],
   "source": [
    "cv_results['test_roc_auc'].mean()"
   ]
  },
  {
   "cell_type": "code",
   "execution_count": null,
   "id": "18523969",
   "metadata": {},
   "outputs": [],
   "source": [
    "cv_results['test_f1'].mean()\n"
   ]
  },
  {
   "cell_type": "markdown",
   "id": "eda88125",
   "metadata": {},
   "source": [
    "# Randon Forest"
   ]
  },
  {
   "cell_type": "code",
   "execution_count": null,
   "id": "3e60186f",
   "metadata": {},
   "outputs": [],
   "source": [
    "#random forest "
   ]
  },
  {
   "cell_type": "code",
   "execution_count": null,
   "id": "df1229e5",
   "metadata": {},
   "outputs": [],
   "source": [
    "from sklearn.ensemble import RandomForestClassifier, GradientBoostingClassifier"
   ]
  },
  {
   "cell_type": "code",
   "execution_count": null,
   "id": "eb18eb1b",
   "metadata": {},
   "outputs": [],
   "source": [
    "rf = RandomForestClassifier()\n",
    "scores = cross_val_score(rf, X_train, y_train, cv = 10)\n",
    "scores"
   ]
  },
  {
   "cell_type": "code",
   "execution_count": null,
   "id": "ca1dd52f",
   "metadata": {},
   "outputs": [],
   "source": [
    "rf.fit(X_train, y_train)"
   ]
  },
  {
   "cell_type": "code",
   "execution_count": null,
   "id": "c64bbb50",
   "metadata": {},
   "outputs": [],
   "source": [
    "y_pred_rf0 = rf.predict(X_test)\n",
    "\n",
    "print('Roc Auc Score: ', roc_auc_score(y_test, y_pred_rf0))\n",
    "\n",
    "print('Confusion Matrix: ')\n",
    "print(confusion_matrix(y_test, y_pred_rf0))\n",
    "\n",
    "print('Classification Report: ')\n",
    "print(classification_report(y_test, y_pred_rf0))\n",
    "\n",
    "print('Accuracy: ', accuracy_score(y_test, y_pred_rf0))\n",
    "\n",
    "print ('F1 score: ', f1_score(y_test, y_pred_rf0))\n",
    "print ('Recall: ', recall_score(y_test, y_pred_rf0))\n",
    "print ('Precision: ', precision_score(y_test, y_pred_rf0))"
   ]
  },
  {
   "cell_type": "code",
   "execution_count": null,
   "id": "8653bde1",
   "metadata": {},
   "outputs": [],
   "source": [
    "print ('F1 score: ', f1_score(y_test, y_pred_rf0))\n",
    "print ('Recall: ', recall_score(y_test, y_pred_rf0))\n",
    "print ('Precision: ', precision_score(y_test, y_pred_rf0))"
   ]
  },
  {
   "cell_type": "code",
   "execution_count": null,
   "id": "74015758",
   "metadata": {},
   "outputs": [],
   "source": [
    "rf.get_params()"
   ]
  },
  {
   "cell_type": "code",
   "execution_count": null,
   "id": "79475706",
   "metadata": {},
   "outputs": [],
   "source": [
    "imp_df = pd.DataFrame({\n",
    "    \"Varname\": X_train.columns,\n",
    "    \"Imp\": rf.feature_importances_\n",
    "})"
   ]
  },
  {
   "cell_type": "code",
   "execution_count": null,
   "id": "22d8eca8",
   "metadata": {
    "scrolled": true
   },
   "outputs": [],
   "source": [
    "imp_df.sort_values(by=\"Imp\", ascending=False)"
   ]
  },
  {
   "cell_type": "markdown",
   "id": "fc4262da",
   "metadata": {},
   "source": [
    "# GbBoost"
   ]
  },
  {
   "cell_type": "code",
   "execution_count": null,
   "id": "2f1d277f",
   "metadata": {},
   "outputs": [],
   "source": [
    "#gradient boosting"
   ]
  },
  {
   "cell_type": "code",
   "execution_count": null,
   "id": "75fb8d60",
   "metadata": {},
   "outputs": [],
   "source": [
    "gbc = GradientBoostingClassifier()\n",
    "scores = cross_val_score(gbc, X_train, y_train, cv = 10)\n",
    "scores "
   ]
  },
  {
   "cell_type": "code",
   "execution_count": null,
   "id": "01e8c9e2",
   "metadata": {},
   "outputs": [],
   "source": [
    "gbc0 = gbc.fit(X_train, np.ravel(y_train))"
   ]
  },
  {
   "cell_type": "code",
   "execution_count": null,
   "id": "6a3ac38f",
   "metadata": {},
   "outputs": [],
   "source": [
    "y_pred_gbc0 = gbc0.predict(X_test)\n",
    "\n",
    "print('Roc Auc Score: ', roc_auc_score(y_test, y_pred_gbc0))\n",
    "\n",
    "print('Confusion Matrix: ')\n",
    "print(confusion_matrix(y_test, y_pred_gbc0))\n",
    "\n",
    "print('Classification Report: ')\n",
    "print(classification_report(y_test, y_pred_gbc0))\n",
    "\n",
    "print('Accuracy: ', accuracy_score(y_test, y_pred_gbc0))"
   ]
  },
  {
   "cell_type": "code",
   "execution_count": null,
   "id": "0c4109cc",
   "metadata": {},
   "outputs": [],
   "source": [
    "print ('F1 score: ', f1_score(y_test, y_pred_gbc0))\n",
    "print ('Recall: ', recall_score(y_test, y_pred_gbc0))\n",
    "print ('Precision: ', precision_score(y_test, y_pred_gbc0))"
   ]
  },
  {
   "cell_type": "markdown",
   "id": "e415405b",
   "metadata": {},
   "source": [
    "# Adaboost"
   ]
  },
  {
   "cell_type": "code",
   "execution_count": null,
   "id": "c9eeba6a",
   "metadata": {},
   "outputs": [],
   "source": [
    "#Catboost , adaboost,lightgbm"
   ]
  },
  {
   "cell_type": "code",
   "execution_count": null,
   "id": "1fb38e29",
   "metadata": {},
   "outputs": [],
   "source": [
    "from sklearn.ensemble import AdaBoostClassifier\n",
    "from sklearn import datasets"
   ]
  },
  {
   "cell_type": "code",
   "execution_count": null,
   "id": "faad1201",
   "metadata": {},
   "outputs": [],
   "source": []
  },
  {
   "cell_type": "code",
   "execution_count": null,
   "id": "f7e27693",
   "metadata": {},
   "outputs": [],
   "source": [
    "# Create adaboost classifer object\n",
    "abc = AdaBoostClassifier(n_estimators=50,\n",
    "                         learning_rate=1)\n",
    "# Train Adaboost Classifer\n",
    "model = abc.fit(X_train, y_train)\n",
    "\n",
    "#Predict the response for test dataset\n",
    "y_pred = model.predict(X_test)"
   ]
  },
  {
   "cell_type": "code",
   "execution_count": null,
   "id": "50b685d0",
   "metadata": {},
   "outputs": [],
   "source": [
    "print(\"Accuracy:\",accuracy_score(y_test, y_pred))"
   ]
  },
  {
   "cell_type": "markdown",
   "id": "2c195f71",
   "metadata": {},
   "source": [
    "# Light GBM "
   ]
  },
  {
   "cell_type": "code",
   "execution_count": null,
   "id": "386082d8",
   "metadata": {},
   "outputs": [],
   "source": [
    "#lightgbm"
   ]
  },
  {
   "cell_type": "code",
   "execution_count": null,
   "id": "2a601d0c",
   "metadata": {},
   "outputs": [],
   "source": [
    "clf = lgb.LGBMClassifier()\n",
    "clf.fit(X_train, y_train)"
   ]
  },
  {
   "cell_type": "code",
   "execution_count": null,
   "id": "c2e5fa0a",
   "metadata": {},
   "outputs": [],
   "source": [
    "y_pred=clf.predict(X_test)"
   ]
  },
  {
   "cell_type": "code",
   "execution_count": null,
   "id": "c79d4f12",
   "metadata": {},
   "outputs": [],
   "source": [
    "accuracy=accuracy_score(y_pred, y_test)\n",
    "print('LightGBM Model accuracy score: {0:0.4f}'.format(accuracy_score(y_test, y_pred)))"
   ]
  },
  {
   "cell_type": "code",
   "execution_count": null,
   "id": "e16220c4",
   "metadata": {},
   "outputs": [],
   "source": [
    "y_pred_train = clf.predict(X_train)"
   ]
  },
  {
   "cell_type": "code",
   "execution_count": null,
   "id": "7ba4ac9c",
   "metadata": {},
   "outputs": [],
   "source": [
    "print('Training-set accuracy score: {0:0.4f}'. format(accuracy_score(y_train, y_pred_train)))"
   ]
  },
  {
   "cell_type": "code",
   "execution_count": null,
   "id": "0ef229ea",
   "metadata": {},
   "outputs": [],
   "source": [
    "cm = confusion_matrix(y_test, y_pred)\n",
    "print('Confusion matrix\\n\\n', cm)\n",
    "print('\\nTrue Positives(TP) = ', cm[0,0])\n",
    "print('\\nTrue Negatives(TN) = ', cm[1,1])\n",
    "print('\\nFalse Positives(FP) = ', cm[0,1])\n",
    "print('\\nFalse Negatives(FN) = ', cm[1,0])"
   ]
  },
  {
   "cell_type": "code",
   "execution_count": null,
   "id": "74c7322c",
   "metadata": {},
   "outputs": [],
   "source": [
    "print(classification_report(y_test, y_pred))"
   ]
  },
  {
   "cell_type": "markdown",
   "id": "c8a7bbe1",
   "metadata": {},
   "source": [
    "# catboost"
   ]
  },
  {
   "cell_type": "code",
   "execution_count": null,
   "id": "2081803b",
   "metadata": {},
   "outputs": [],
   "source": [
    "from catboost import CatBoostClassifier"
   ]
  },
  {
   "cell_type": "code",
   "execution_count": null,
   "id": "39812a8b",
   "metadata": {},
   "outputs": [],
   "source": [
    "model = CatBoostClassifier(iterations=50, depth=3, learning_rate=0.1, loss_function='Logloss')"
   ]
  },
  {
   "cell_type": "code",
   "execution_count": null,
   "id": "9a4dc2d8",
   "metadata": {},
   "outputs": [],
   "source": [
    "model.fit(X_train, y_train)"
   ]
  },
  {
   "cell_type": "code",
   "execution_count": null,
   "id": "b4e8781b",
   "metadata": {},
   "outputs": [],
   "source": [
    "predictions = model.predict(X_test)"
   ]
  },
  {
   "cell_type": "code",
   "execution_count": null,
   "id": "6e526d34",
   "metadata": {},
   "outputs": [],
   "source": [
    "feature_importance = model.feature_importances_\n",
    "print(\"Feature Importance:\", feature_importance)"
   ]
  },
  {
   "cell_type": "code",
   "execution_count": null,
   "id": "d789332c",
   "metadata": {},
   "outputs": [],
   "source": [
    "print('Roc Auc Score: ', roc_auc_score(y_test, predictions))\n",
    "\n",
    "print('Confusion Matrix: ')\n",
    "print(confusion_matrix(y_test, predictions))\n",
    "\n",
    "print('Classification Report: ')\n",
    "print(classification_report(y_test, predictions))\n",
    "\n",
    "print('Accuracy: ', accuracy_score(y_test, predictions))"
   ]
  },
  {
   "cell_type": "markdown",
   "id": "02e92805",
   "metadata": {},
   "source": [
    "# Ann"
   ]
  },
  {
   "cell_type": "code",
   "execution_count": null,
   "id": "431a2e7b",
   "metadata": {},
   "outputs": [],
   "source": [
    "#ANN"
   ]
  },
  {
   "cell_type": "code",
   "execution_count": null,
   "id": "da2be8a0",
   "metadata": {},
   "outputs": [],
   "source": [
    "import tensorflow as tf"
   ]
  },
  {
   "cell_type": "code",
   "execution_count": null,
   "id": "adf993d0",
   "metadata": {},
   "outputs": [],
   "source": [
    "from tensorflow import keras"
   ]
  },
  {
   "cell_type": "code",
   "execution_count": null,
   "id": "d90c715f",
   "metadata": {},
   "outputs": [],
   "source": [
    "ann = tf.keras.models.Sequential()"
   ]
  },
  {
   "cell_type": "code",
   "execution_count": null,
   "id": "4e6d81d0",
   "metadata": {},
   "outputs": [],
   "source": [
    "ann.add(tf.keras.layers.Dense(units=6, activation='relu'))"
   ]
  },
  {
   "cell_type": "code",
   "execution_count": null,
   "id": "0cc492d8",
   "metadata": {},
   "outputs": [],
   "source": [
    "ann.add(tf.keras.layers.Dense(units=6, activation='relu'))"
   ]
  },
  {
   "cell_type": "code",
   "execution_count": null,
   "id": "67a93c4c",
   "metadata": {},
   "outputs": [],
   "source": [
    "ann.add(tf.keras.layers.Dense(units=1, activation='sigmoid'))"
   ]
  },
  {
   "cell_type": "code",
   "execution_count": null,
   "id": "3f554c83",
   "metadata": {},
   "outputs": [],
   "source": [
    "ann.compile(optimizer = 'adam', loss = 'binary_crossentropy', metrics = ['accuracy'])"
   ]
  },
  {
   "cell_type": "code",
   "execution_count": null,
   "id": "46e4f413",
   "metadata": {},
   "outputs": [],
   "source": [
    "ann.fit(X_train, y_train, batch_size = 256, epochs = 100)"
   ]
  },
  {
   "cell_type": "code",
   "execution_count": null,
   "id": "236b4d26",
   "metadata": {},
   "outputs": [],
   "source": [
    "y_pred_n = ann.predict(X_test)\n",
    "y_pred_n = (y_pred > 0.5)\n",
    "#print(np.concatenate((y_pred.reshape(len(y_pred),1), y_test.reshape(len(y_test),1)),1))"
   ]
  },
  {
   "cell_type": "code",
   "execution_count": null,
   "id": "7c917017",
   "metadata": {},
   "outputs": [],
   "source": [
    "print('Roc Auc Score: ', roc_auc_score(y_test, y_pred_n))\n",
    "\n",
    "print('Confusion Matrix: ')\n",
    "print(confusion_matrix(y_test, y_pred_n))\n",
    "\n",
    "print('Classification Report: ')\n",
    "print(classification_report(y_test, y_pred_n))\n",
    "\n",
    "print('Accuracy: ', accuracy_score(y_test, y_pred_n))"
   ]
  },
  {
   "cell_type": "code",
   "execution_count": null,
   "id": "d3b6d7ff",
   "metadata": {},
   "outputs": [],
   "source": [
    "print ('F1 score: ', f1_score(y_test, y_pred_n))\n",
    "print ('Recall: ', recall_score(y_test, y_pred_n))\n",
    "print ('Precision: ', precision_score(y_test, y_pred_n))"
   ]
  },
  {
   "cell_type": "code",
   "execution_count": null,
   "id": "350754b3",
   "metadata": {},
   "outputs": [],
   "source": [
    "#chaid\\"
   ]
  },
  {
   "cell_type": "code",
   "execution_count": null,
   "id": "7d4b7e7e",
   "metadata": {},
   "outputs": [],
   "source": [
    "#tree = Chaid.fit(Bank_new_scaled, config)"
   ]
  },
  {
   "cell_type": "markdown",
   "id": "bb79da2d",
   "metadata": {},
   "source": [
    "# Reduced dataset"
   ]
  },
  {
   "cell_type": "code",
   "execution_count": null,
   "id": "1fe6214f",
   "metadata": {
    "scrolled": false
   },
   "outputs": [],
   "source": [
    "Bankdata_new_scaled_reduced1.columns"
   ]
  },
  {
   "cell_type": "code",
   "execution_count": null,
   "id": "5dbe76f8",
   "metadata": {},
   "outputs": [],
   "source": [
    "Bankdata_new_scaled_reduced1.shape"
   ]
  },
  {
   "cell_type": "code",
   "execution_count": null,
   "id": "466ba668",
   "metadata": {},
   "outputs": [],
   "source": [
    "Bankdata_new_scaled_reduced1.head()"
   ]
  },
  {
   "cell_type": "code",
   "execution_count": null,
   "id": "8a0b7b7c",
   "metadata": {},
   "outputs": [],
   "source": [
    "X_rd=Bankdata_new_scaled_reduced1.drop(columns=['Target'])"
   ]
  },
  {
   "cell_type": "code",
   "execution_count": null,
   "id": "ecaded0b",
   "metadata": {},
   "outputs": [],
   "source": [
    "y_rd=Bankdata_new_scaled_reduced1['Target']"
   ]
  },
  {
   "cell_type": "code",
   "execution_count": null,
   "id": "d000cf50",
   "metadata": {},
   "outputs": [],
   "source": [
    "X_train_rd,X_test_rd , y_train_rd, y_test_rd = train_test_split(X_rd, y_rd, test_size = 0.3, random_state = 1, stratify =y )\n"
   ]
  },
  {
   "cell_type": "code",
   "execution_count": null,
   "id": "4039bbeb",
   "metadata": {},
   "outputs": [],
   "source": [
    "X_train_rd.shape, X_test_rd.shape, y_test_rd.shape, y_test.shape"
   ]
  },
  {
   "cell_type": "code",
   "execution_count": null,
   "id": "ca64065e",
   "metadata": {},
   "outputs": [],
   "source": [
    "model_comparison={}"
   ]
  },
  {
   "cell_type": "markdown",
   "id": "95f13efd",
   "metadata": {},
   "source": [
    "# reduced logistic"
   ]
  },
  {
   "cell_type": "code",
   "execution_count": null,
   "id": "cbba69ad",
   "metadata": {},
   "outputs": [],
   "source": [
    "lreg_rd = LogisticRegression()\n",
    "lreg_rd.fit(X_train_rd, y_train_rd)"
   ]
  },
  {
   "cell_type": "code",
   "execution_count": null,
   "id": "65f89f0f",
   "metadata": {},
   "outputs": [],
   "source": [
    "y_pred_rd = lreg_rd.predict(X_test_rd)"
   ]
  },
  {
   "cell_type": "code",
   "execution_count": null,
   "id": "396003a3",
   "metadata": {
    "scrolled": true
   },
   "outputs": [],
   "source": [
    "print ('Accuracy: ', accuracy_score(y_test_rd, y_pred_rd))\n",
    "print ('F1 score: ', f1_score(y_test_rd, y_pred_rd))\n",
    "print ('Recall: ', recall_score(y_test_rd, y_pred_rd))\n",
    "print ('Precision: ', precision_score(y_test_rd, y_pred_rd))\n",
    "print ('\\n clasification report:\\n', classification_report(y_test_rd,y_pred_rd))\n",
    "print ('\\n confussion matrix:\\n',confusion_matrix(y_test_rd, y_pred_rd))\n",
    "print('Roc Auc Score: ', roc_auc_score(y_test_rd, y_pred_rd))"
   ]
  },
  {
   "cell_type": "code",
   "execution_count": null,
   "id": "eff568bf",
   "metadata": {},
   "outputs": [],
   "source": [
    "fpr1, tpr1, thresholds1 = roc_curve(y_test_rd, y_pred_rd)\n",
    "roc_auc1 = auc(fpr1, tpr1)"
   ]
  },
  {
   "cell_type": "code",
   "execution_count": null,
   "id": "ac468c26",
   "metadata": {},
   "outputs": [],
   "source": [
    "model_comparison['Logistic Regression']=[roc_auc_score(y_test_rd,y_pred_rd),accuracy_score(y_test_rd,y_pred_rd),f1_score(y_test_rd,y_pred_rd)]"
   ]
  },
  {
   "cell_type": "markdown",
   "id": "5df432c8",
   "metadata": {},
   "source": [
    "# KNN reduced"
   ]
  },
  {
   "cell_type": "code",
   "execution_count": null,
   "id": "d1a5a989",
   "metadata": {},
   "outputs": [],
   "source": [
    "#knn\n",
    "knn_rd = KNeighborsClassifier()\n",
    "scores_rd = cross_val_score(knn, X_train_rd, y_train_rd, cv = 10)\n",
    "scores_rd"
   ]
  },
  {
   "cell_type": "code",
   "execution_count": null,
   "id": "943e2943",
   "metadata": {},
   "outputs": [],
   "source": [
    "y_pred_rd_knn1 = knn_rd.fit(X_train_rd, y_train_rd)"
   ]
  },
  {
   "cell_type": "code",
   "execution_count": null,
   "id": "1fcdf039",
   "metadata": {
    "scrolled": true
   },
   "outputs": [],
   "source": [
    "y_pred_knn1 = y_pred_rd_knn1.predict(X_test_rd)\n",
    "print('Roc Auc Score: ', roc_auc_score(y_test_rd, y_pred_knn1))\n",
    "\n",
    "print('Confusion Matrix: ')\n",
    "print(confusion_matrix(y_test_rd, y_pred_knn1))\n",
    "\n",
    "print('Classification Report: ')\n",
    "print(classification_report(y_test_rd, y_pred_knn1))\n",
    "\n",
    "print('Accuracy: ', accuracy_score(y_test_rd, y_pred_knn1))\n",
    "\n",
    "print ('F1 score: ', f1_score(y_test_rd, y_pred_knn1))\n",
    "print ('Recall: ', recall_score(y_test_rd, y_pred_knn1))\n",
    "print ('Precision: ', precision_score(y_test_rd, y_pred_knn1))\n"
   ]
  },
  {
   "cell_type": "code",
   "execution_count": null,
   "id": "a468c1cf",
   "metadata": {
    "scrolled": true
   },
   "outputs": [],
   "source": [
    "fpr2, tpr2, thresholds2 = roc_curve(y_test_rd, y_pred_knn1)\n",
    "roc_auc2 = auc(fpr2, tpr2)\n"
   ]
  },
  {
   "cell_type": "code",
   "execution_count": null,
   "id": "80a8260d",
   "metadata": {},
   "outputs": [],
   "source": [
    "model_comparison['KNN']=[roc_auc_score(y_test_rd,y_pred_knn1),accuracy_score(y_test_rd,y_pred_knn1),f1_score(y_test_rd,y_pred_knn1,)]"
   ]
  },
  {
   "cell_type": "markdown",
   "id": "c9639936",
   "metadata": {},
   "source": [
    "#  Reduced Decision Tree"
   ]
  },
  {
   "cell_type": "code",
   "execution_count": null,
   "id": "975eb687",
   "metadata": {},
   "outputs": [],
   "source": [
    "dt_rd = DecisionTreeClassifier()\n",
    "scores_rd = cross_val_score(dt_rd, X_train_rd, y_train_rd, cv = 10)\n",
    "scores_rd"
   ]
  },
  {
   "cell_type": "code",
   "execution_count": null,
   "id": "96606d8d",
   "metadata": {},
   "outputs": [],
   "source": [
    "dt_rd1 = dt_rd.fit(X_train_rd,  y_train_rd)"
   ]
  },
  {
   "cell_type": "code",
   "execution_count": null,
   "id": "a1c8001f",
   "metadata": {},
   "outputs": [],
   "source": [
    "y_pred_dt_rd = dt_rd1.predict(X_test_rd)\n",
    "\n",
    "print('Confusion Matrix: ')\n",
    "print(confusion_matrix(y_test_rd, y_pred_dt_rd))\n",
    "\n",
    "print('Classification Report: ')\n",
    "print(classification_report(y_test_rd, y_pred_dt_rd))\n",
    "\n",
    "print('Accuracy: ', accuracy_score(y_test_rd, y_pred_dt_rd))\n",
    "\n",
    "print ('F1 score: ', f1_score(y_test_rd, y_pred_dt_rd))\n",
    "print('Roc Auc Score: ', roc_auc_score(y_test_rd, y_pred_dt_rd))"
   ]
  },
  {
   "cell_type": "code",
   "execution_count": null,
   "id": "c5c0708b",
   "metadata": {},
   "outputs": [],
   "source": [
    "\n",
    "model_comparison['Decision Tree']=[roc_auc_score(y_test_rd,y_pred_dt_rd),accuracy_score(y_test_rd,y_pred_dt_rd),f1_score(y_test_rd,y_pred_dt_rd)]\n"
   ]
  },
  {
   "cell_type": "code",
   "execution_count": null,
   "id": "70b3ff0e",
   "metadata": {},
   "outputs": [],
   "source": [
    "fpr3, tpr3, thresholds3 = roc_curve(y_test_rd, y_pred_dt_rd)\n",
    "roc_auc3 = auc(fpr3, tpr3)\n"
   ]
  },
  {
   "cell_type": "markdown",
   "id": "498a7c8c",
   "metadata": {},
   "source": [
    "# Random Forest reduced"
   ]
  },
  {
   "cell_type": "code",
   "execution_count": null,
   "id": "cdbe5409",
   "metadata": {},
   "outputs": [],
   "source": [
    "#Random Forest"
   ]
  },
  {
   "cell_type": "code",
   "execution_count": null,
   "id": "436b91e3",
   "metadata": {},
   "outputs": [],
   "source": [
    "rf_rd = RandomForestClassifier()\n",
    "scores = cross_val_score(rf_rd, X_train_rd, y_train_rd, cv = 10)\n",
    "scores"
   ]
  },
  {
   "cell_type": "code",
   "execution_count": null,
   "id": "08af2ced",
   "metadata": {},
   "outputs": [],
   "source": [
    "rf_rd1=rf_rd.fit(X_train_rd, y_train_rd)"
   ]
  },
  {
   "cell_type": "code",
   "execution_count": null,
   "id": "a45b459b",
   "metadata": {},
   "outputs": [],
   "source": [
    "y_pred_rf_rd = rf_rd1.predict(X_test_rd)\n",
    "\n",
    "print('Confusion Matrix: ')\n",
    "print(confusion_matrix(y_test_rd, y_pred_rf_rd))\n",
    "\n",
    "print('Classification Report: ')\n",
    "print(classification_report(y_test_rd, y_pred_rf_rd))\n",
    "\n",
    "print('Accuracy: ', accuracy_score(y_test_rd, y_pred_rf_rd))\n",
    "\n",
    "print('Roc Auc Score: ', roc_auc_score(y_test_rd, y_pred_rf_rd))\n",
    "\n",
    "print ('F1 score: ', f1_score(y_test_rd, y_pred_rf_rd))\n",
    "print ('Recall: ', recall_score(y_test_rd, y_pred_rf_rd))\n",
    "print ('Precision: ', precision_score(y_test_rd, y_pred_rf_rd))"
   ]
  },
  {
   "cell_type": "code",
   "execution_count": null,
   "id": "d3b66909",
   "metadata": {
    "scrolled": false
   },
   "outputs": [],
   "source": [
    "rf_rd.get_params()"
   ]
  },
  {
   "cell_type": "code",
   "execution_count": null,
   "id": "c34e3212",
   "metadata": {},
   "outputs": [],
   "source": [
    "imp_df = pd.DataFrame({\n",
    "    \"Varname\": X_train_rd.columns,\n",
    "    \"Imp\": rf_rd.feature_importances_\n",
    "})"
   ]
  },
  {
   "cell_type": "code",
   "execution_count": null,
   "id": "7b0774f1",
   "metadata": {
    "scrolled": true
   },
   "outputs": [],
   "source": [
    "imp_df.sort_values(by=\"Imp\", ascending=False)"
   ]
  },
  {
   "cell_type": "code",
   "execution_count": null,
   "id": "fc25f1ea",
   "metadata": {},
   "outputs": [],
   "source": [
    "\n",
    "\n",
    "model_comparison['Random Forest']=[roc_auc_score(y_test_rd,y_pred_rf_rd),accuracy_score(y_test_rd,y_pred_rf_rd),f1_score(y_test_rd,y_pred_rf_rd)]\n",
    "\n"
   ]
  },
  {
   "cell_type": "code",
   "execution_count": null,
   "id": "6b8c4d9a",
   "metadata": {},
   "outputs": [],
   "source": [
    "fpr4, tpr4, thresholds4 = roc_curve(y_test_rd, y_pred_rf_rd)\n",
    "roc_auc4 = auc(fpr4, tpr4)"
   ]
  },
  {
   "cell_type": "markdown",
   "id": "d7256e80",
   "metadata": {},
   "source": [
    "# reduced GBBOOST"
   ]
  },
  {
   "cell_type": "code",
   "execution_count": null,
   "id": "31416fc3",
   "metadata": {},
   "outputs": [],
   "source": [
    "gbc_rd = GradientBoostingClassifier()\n",
    "scores_rd_gb = cross_val_score(gbc_rd, X_train_rd, y_train_rd, cv = 10)\n",
    "scores_rd_gb "
   ]
  },
  {
   "cell_type": "code",
   "execution_count": null,
   "id": "992d9134",
   "metadata": {},
   "outputs": [],
   "source": [
    "gbc_rd1 = gbc_rd.fit(X_train_rd, np.ravel(y_train_rd))"
   ]
  },
  {
   "cell_type": "code",
   "execution_count": null,
   "id": "6a97cc9b",
   "metadata": {
    "scrolled": true
   },
   "outputs": [],
   "source": [
    "y_pred_gbc_rd1 = gbc_rd1.predict(X_test_rd)\n",
    "\n",
    "print('Roc Auc Score: ', roc_auc_score(y_test_rd, y_pred_gbc_rd1))\n",
    "\n",
    "print('Confusion Matrix: ')\n",
    "print(confusion_matrix(y_test_rd, y_pred_gbc_rd1))\n",
    "\n",
    "print('Classification Report: ')\n",
    "print(classification_report(y_test_rd, y_pred_gbc_rd1))\n",
    "\n",
    "print('Accuracy: ', accuracy_score(y_test_rd, y_pred_gbc_rd1))\n",
    "\n",
    "print ('F1 score: ', f1_score(y_test_rd, y_pred_gbc_rd1))\n",
    "print ('Recall: ', recall_score(y_test_rd, y_pred_gbc_rd1))\n",
    "print ('Precision: ', precision_score(y_test_rd, y_pred_gbc_rd1))"
   ]
  },
  {
   "cell_type": "code",
   "execution_count": null,
   "id": "58324981",
   "metadata": {},
   "outputs": [],
   "source": [
    "\n",
    "model_comparison['Gradient Boosting']=[roc_auc_score(y_test_rd,y_pred_gbc_rd1),accuracy_score(y_test_rd,y_pred_gbc_rd1),f1_score(y_test_rd,y_pred_gbc_rd1)]\n"
   ]
  },
  {
   "cell_type": "code",
   "execution_count": null,
   "id": "d919441a",
   "metadata": {},
   "outputs": [],
   "source": [
    "fpr5, tpr5, thresholds5 = roc_curve(y_test_rd, y_pred_gbc_rd1)\n",
    "roc_auc5 = auc(fpr5, tpr5)"
   ]
  },
  {
   "cell_type": "markdown",
   "id": "0a21eb63",
   "metadata": {},
   "source": [
    "# ANN  reduced"
   ]
  },
  {
   "cell_type": "code",
   "execution_count": null,
   "id": "d76d3f16",
   "metadata": {},
   "outputs": [],
   "source": []
  },
  {
   "cell_type": "code",
   "execution_count": null,
   "id": "96df0f12",
   "metadata": {},
   "outputs": [],
   "source": [
    "ann_rd = tf.keras.models.Sequential()"
   ]
  },
  {
   "cell_type": "code",
   "execution_count": null,
   "id": "8f52ee18",
   "metadata": {},
   "outputs": [],
   "source": [
    "ann_rd.add(tf.keras.layers.Dense(units=11, activation='relu',input_dim=X_train_rd.shape[1]))"
   ]
  },
  {
   "cell_type": "code",
   "execution_count": null,
   "id": "11ecb4db",
   "metadata": {},
   "outputs": [],
   "source": [
    "ann_rd.add(tf.keras.layers.Dense(units=11, activation='relu'))"
   ]
  },
  {
   "cell_type": "code",
   "execution_count": null,
   "id": "9be68543",
   "metadata": {},
   "outputs": [],
   "source": [
    "ann_rd.add(tf.keras.layers.Dense(units=11, activation='relu'))"
   ]
  },
  {
   "cell_type": "code",
   "execution_count": null,
   "id": "177fcecc",
   "metadata": {},
   "outputs": [],
   "source": [
    "ann_rd.add(tf.keras.layers.Dense(units=11, activation='relu'))"
   ]
  },
  {
   "cell_type": "code",
   "execution_count": null,
   "id": "aef3d3ca",
   "metadata": {},
   "outputs": [],
   "source": [
    "ann_rd.add(tf.keras.layers.Dense(units=1, activation='sigmoid'))"
   ]
  },
  {
   "cell_type": "code",
   "execution_count": null,
   "id": "02f9010c",
   "metadata": {},
   "outputs": [],
   "source": [
    "ann_rd.compile(optimizer = 'adam', loss = 'binary_crossentropy', metrics = ['accuracy'])"
   ]
  },
  {
   "cell_type": "code",
   "execution_count": null,
   "id": "10047d6b",
   "metadata": {},
   "outputs": [],
   "source": [
    "ann_rd1=ann_rd.fit(X_train_rd, y_train_rd, batch_size = 256, epochs = 100)"
   ]
  },
  {
   "cell_type": "code",
   "execution_count": null,
   "id": "66f48c8a",
   "metadata": {},
   "outputs": [],
   "source": [
    "y_pred_n_rd = ann_rd.predict(X_test_rd)\n",
    "y_pred_n_rd = (y_pred_n > 0.5)\n",
    "#print(np.concatenate((y_pred.reshape(len(y_pred),1), y_test.reshape(len(y_test),1)),1))"
   ]
  },
  {
   "cell_type": "code",
   "execution_count": null,
   "id": "cc01d33e",
   "metadata": {
    "scrolled": true
   },
   "outputs": [],
   "source": [
    "print('Confusion Matrix: ')\n",
    "print(confusion_matrix(y_test_rd, y_pred_n_rd))\n",
    "\n",
    "print('Classification Report: ')\n",
    "print(classification_report(y_test_rd, y_pred_n_rd))\n",
    "\n",
    "print('Accuracy: ', accuracy_score(y_test_rd, y_pred_n_rd))\n",
    "\n",
    "print ('F1 score: ', f1_score(y_test_rd, y_pred_n_rd))\n",
    "\n",
    "print('Roc Auc Score: ', roc_auc_score(y_test_rd, y_pred_n_rd))\n",
    "\n",
    "print ('Recall: ', recall_score(y_test_rd, y_pred_n_rd))\n",
    "print ('Precision: ', precision_score(y_test_rd, y_pred_n_rd))"
   ]
  },
  {
   "cell_type": "code",
   "execution_count": null,
   "id": "6c8df253",
   "metadata": {},
   "outputs": [],
   "source": [
    "\n",
    "model_comparison['ANN']=[roc_auc_score(y_test_rd,y_pred_n_rd),accuracy_score(y_test_rd,y_pred_n_rd),f1_score(y_test_rd,y_pred_n_rd)]\n",
    "\n"
   ]
  },
  {
   "cell_type": "code",
   "execution_count": null,
   "id": "f5d1f1ba",
   "metadata": {},
   "outputs": [],
   "source": [
    "fpr6, tpr6, thresholds6 = roc_curve(y_test_rd, y_pred_n_rd)\n",
    "roc_auc6 = auc(fpr6, tpr6)"
   ]
  },
  {
   "cell_type": "code",
   "execution_count": null,
   "id": "1de72388",
   "metadata": {},
   "outputs": [],
   "source": []
  },
  {
   "cell_type": "markdown",
   "id": "50c3feae",
   "metadata": {},
   "source": [
    "# adaboost reduced"
   ]
  },
  {
   "cell_type": "code",
   "execution_count": null,
   "id": "783dff8f",
   "metadata": {},
   "outputs": [],
   "source": [
    "#Catboost , adaboost,lightgbm"
   ]
  },
  {
   "cell_type": "code",
   "execution_count": null,
   "id": "0b0de9e8",
   "metadata": {},
   "outputs": [],
   "source": [
    "# Create adaboost classifer object\n",
    "adaboost_rd = AdaBoostClassifier(n_estimators=50,\n",
    "                         learning_rate=1)\n",
    "# Train Adaboost Classifer\n",
    "model_rd = adaboost_rd.fit(X_train_rd, y_train_rd)\n",
    "\n",
    "#Predict the response for test dataset\n",
    "y_pred_rd_ada = model_rd.predict(X_test_rd)"
   ]
  },
  {
   "cell_type": "code",
   "execution_count": null,
   "id": "95cedb97",
   "metadata": {},
   "outputs": [],
   "source": [
    "print('Confusion Matrix: ')\n",
    "print(confusion_matrix(y_test_rd, y_pred_rd_ada))\n",
    "\n",
    "print('Classification Report: ')\n",
    "print(classification_report(y_test_rd, y_pred_rd_ada))\n",
    "\n",
    "print('Accuracy: ', accuracy_score(y_test_rd, y_pred_rd_ada))\n",
    "\n",
    "print ('F1 score: ', f1_score(y_test_rd, y_pred_rd_ada))\n",
    "\n",
    "print('Roc Auc Score: ', roc_auc_score(y_test_rd, y_pred_rd_ada))\n",
    "\n",
    "print ('Recall: ', recall_score(y_test_rd, y_pred_rd_ada))\n",
    "print ('Precision: ', precision_score(y_test_rd, y_pred_rd_ada))"
   ]
  },
  {
   "cell_type": "code",
   "execution_count": null,
   "id": "fba5ae45",
   "metadata": {},
   "outputs": [],
   "source": [
    "\n",
    "model_comparison['ADA Boost']=[roc_auc_score(y_test_rd,y_pred_rd_ada),accuracy_score(y_test_rd,y_pred_rd_ada),f1_score(y_test_rd,y_pred_rd_ada)]\n",
    "\n"
   ]
  },
  {
   "cell_type": "code",
   "execution_count": null,
   "id": "e0e7573f",
   "metadata": {},
   "outputs": [],
   "source": [
    "fpr7, tpr7, thresholds7 = roc_curve(y_test_rd, y_pred_rd_ada)\n",
    "roc_auc7 = auc(fpr7, tpr7)"
   ]
  },
  {
   "cell_type": "code",
   "execution_count": null,
   "id": "fc1b51e0",
   "metadata": {
    "scrolled": true
   },
   "outputs": [],
   "source": [
    "roc_auc7"
   ]
  },
  {
   "cell_type": "markdown",
   "id": "0abc7887",
   "metadata": {},
   "source": [
    "# Light GBM reduced"
   ]
  },
  {
   "cell_type": "code",
   "execution_count": null,
   "id": "396d4b64",
   "metadata": {},
   "outputs": [],
   "source": [
    "#lightgbm"
   ]
  },
  {
   "cell_type": "code",
   "execution_count": null,
   "id": "432c6387",
   "metadata": {},
   "outputs": [],
   "source": [
    "lgbm_rd = lgb.LGBMClassifier()\n",
    "lgbm_rd.fit(X_train_rd, y_train_rd)"
   ]
  },
  {
   "cell_type": "code",
   "execution_count": null,
   "id": "4caa0630",
   "metadata": {},
   "outputs": [],
   "source": [
    "y_pred_rd_lgb=lgbm_rd.predict(X_test_rd)"
   ]
  },
  {
   "cell_type": "code",
   "execution_count": null,
   "id": "1b630dfd",
   "metadata": {},
   "outputs": [],
   "source": [
    "accuracy=accuracy_score(y_pred_rd_lgb, y_test_rd)\n",
    "print('LightGBM Model accuracy score: {0:0.4f}'.format(accuracy_score(y_test_rd, y_pred_rd_lgb)))"
   ]
  },
  {
   "cell_type": "code",
   "execution_count": null,
   "id": "ff0f86bb",
   "metadata": {},
   "outputs": [],
   "source": [
    "y_pred_train_rd = lgbm_rd.predict(X_train_rd)"
   ]
  },
  {
   "cell_type": "code",
   "execution_count": null,
   "id": "1082414e",
   "metadata": {},
   "outputs": [],
   "source": [
    "print('Training-set accuracy score: {0:0.4f}'. format(accuracy_score(y_train_rd, y_pred_train_rd)))"
   ]
  },
  {
   "cell_type": "code",
   "execution_count": null,
   "id": "9a9050de",
   "metadata": {},
   "outputs": [],
   "source": [
    "\n",
    "cm_rd = confusion_matrix(y_test_rd, y_pred_rd_lgb)\n",
    "print('Confusion matrix\\n\\n', cm_rd)\n",
    "print('\\nTrue Positives(TP) = ', cm_rd[0,0])\n",
    "print('\\nTrue Negatives(TN) = ', cm_rd[1,1])\n",
    "print('\\nFalse Positives(FP) = ', cm_rd[0,1])\n",
    "print('\\nFalse Negatives(FN) = ', cm_rd[1,0])"
   ]
  },
  {
   "cell_type": "code",
   "execution_count": null,
   "id": "627b9367",
   "metadata": {
    "scrolled": true
   },
   "outputs": [],
   "source": [
    "print('Confusion Matrix: ')\n",
    "print(confusion_matrix(y_test_rd, y_pred_rd_lgb))\n",
    "\n",
    "print('Classification Report: ')\n",
    "print(classification_report(y_test_rd, y_pred_rd_lgb))\n",
    "\n",
    "print('Accuracy: ', accuracy_score(y_test_rd, y_pred_rd_lgb))\n",
    "\n",
    "print ('F1 score: ', f1_score(y_test_rd, y_pred_rd_lgb))\n",
    "\n",
    "print('Roc Auc Score: ', roc_auc_score(y_test_rd, y_pred_rd_lgb))\n",
    "\n",
    "print ('Recall: ', recall_score(y_test_rd, y_pred_rd_lgb))\n",
    "print ('Precision: ', precision_score(y_test_rd, y_pred_rd_lgb))"
   ]
  },
  {
   "cell_type": "code",
   "execution_count": null,
   "id": "3d291bde",
   "metadata": {},
   "outputs": [],
   "source": [
    "fpr8, tpr8, thresholds8 = roc_curve(y_test_rd, y_pred_rd_lgb)\n",
    "roc_auc8 = auc(fpr8, tpr8)"
   ]
  },
  {
   "cell_type": "code",
   "execution_count": null,
   "id": "097dd9fb",
   "metadata": {},
   "outputs": [],
   "source": [
    "\n",
    "model_comparison['Light GBM']=[roc_auc_score(y_test_rd,y_pred_rd_lgb),accuracy_score(y_test_rd,y_pred_rd_lgb),f1_score(y_test_rd,y_pred_rd_lgb)]\n"
   ]
  },
  {
   "cell_type": "code",
   "execution_count": null,
   "id": "11d0c717",
   "metadata": {},
   "outputs": [],
   "source": [
    "model_comparison['Light GBM']"
   ]
  },
  {
   "cell_type": "code",
   "execution_count": null,
   "id": "35186490",
   "metadata": {
    "scrolled": false
   },
   "outputs": [],
   "source": [
    "lgbm_rd.get_params()"
   ]
  },
  {
   "cell_type": "code",
   "execution_count": null,
   "id": "313c2cfc",
   "metadata": {},
   "outputs": [],
   "source": [
    "imp_df = pd.DataFrame({\n",
    "    \"Varname\": X_train_rd.columns,\n",
    "    \"Imp\": lgbm_rd.feature_importances_\n",
    "})"
   ]
  },
  {
   "cell_type": "code",
   "execution_count": null,
   "id": "38f44c77",
   "metadata": {
    "scrolled": true
   },
   "outputs": [],
   "source": [
    "imp_df.sort_values(by=\"Imp\", ascending=False)"
   ]
  },
  {
   "cell_type": "markdown",
   "id": "00388cb7",
   "metadata": {},
   "source": [
    "# catboost  reduced"
   ]
  },
  {
   "cell_type": "code",
   "execution_count": null,
   "id": "c5ee666a",
   "metadata": {},
   "outputs": [],
   "source": [
    "model_rd = CatBoostClassifier(iterations=50, depth=12, learning_rate=0.1, loss_function='Logloss')"
   ]
  },
  {
   "cell_type": "code",
   "execution_count": null,
   "id": "aacf4809",
   "metadata": {},
   "outputs": [],
   "source": [
    "model_rd.fit(X_train_rd, y_train_rd)"
   ]
  },
  {
   "cell_type": "code",
   "execution_count": null,
   "id": "3909af2c",
   "metadata": {},
   "outputs": [],
   "source": [
    "predictions_rd = model_rd.predict(X_test_rd)"
   ]
  },
  {
   "cell_type": "code",
   "execution_count": null,
   "id": "860472c6",
   "metadata": {},
   "outputs": [],
   "source": [
    "feature_importance_rd = model_rd.feature_importances_\n",
    "print(\"Feature Importance:\", feature_importance_rd)"
   ]
  },
  {
   "cell_type": "code",
   "execution_count": null,
   "id": "2ebaf797",
   "metadata": {},
   "outputs": [],
   "source": [
    "print('Confusion Matrix: ')\n",
    "print(confusion_matrix(y_test_rd, predictions_rd))\n",
    "\n",
    "print('Classification Report: ')\n",
    "print(classification_report(y_test_rd, predictions_rd))\n",
    "\n",
    "print('Accuracy: ', accuracy_score(y_test_rd, predictions_rd))\n",
    "print ('F1 score: ', f1_score(y_test_rd, predictions_rd))\n",
    "print('Roc Auc Score: ', roc_auc_score(y_test_rd, predictions_rd))\n",
    "\n"
   ]
  },
  {
   "cell_type": "code",
   "execution_count": null,
   "id": "d0376333",
   "metadata": {},
   "outputs": [],
   "source": [
    "\n",
    "\n",
    "model_comparison['Cat Boost']=[roc_auc_score(y_test_rd,predictions_rd),accuracy_score(y_test_rd,predictions_rd),f1_score(y_test_rd,predictions_rd)]\n",
    "\n"
   ]
  },
  {
   "cell_type": "code",
   "execution_count": null,
   "id": "6aa261c9",
   "metadata": {},
   "outputs": [],
   "source": [
    "fpr9, tpr9, thresholds9 = roc_curve(y_test_rd, predictions_rd)\n",
    "roc_auc9 = auc(fpr9, tpr9)"
   ]
  },
  {
   "cell_type": "markdown",
   "id": "1c970b70",
   "metadata": {},
   "source": [
    "# Cart reducedd"
   ]
  },
  {
   "cell_type": "code",
   "execution_count": null,
   "id": "e4226240",
   "metadata": {},
   "outputs": [],
   "source": [
    "cart_model_rd = DecisionTreeClassifier(random_state=10).fit(X_train_rd, y_train_rd)"
   ]
  },
  {
   "cell_type": "code",
   "execution_count": null,
   "id": "015cf53e",
   "metadata": {},
   "outputs": [],
   "source": [
    "y_pred_rd_ct = cart_model_rd.predict(X_test_rd)\n"
   ]
  },
  {
   "cell_type": "code",
   "execution_count": null,
   "id": "4ac0c9a6",
   "metadata": {},
   "outputs": [],
   "source": [
    "print('Confusion Matrix: ')\n",
    "print(confusion_matrix(y_test_rd, y_pred_rd_ct))\n",
    "\n",
    "print('Classification Report: ')\n",
    "print(classification_report(y_test_rd, y_pred_rd_ct))\n",
    "\n",
    "print('Accuracy: ', accuracy_score(y_test_rd, y_pred_rd_ct))\n",
    "\n",
    "print ('F1 score: ', f1_score(y_test_rd, y_pred_rd_ct))\n",
    "\n",
    "print('Roc Auc Score: ', roc_auc_score(y_test_rd, y_pred_rd_ct))\n",
    "\n",
    "print ('Recall: ', recall_score(y_test_rd, y_pred_rd_ct))\n",
    "print ('Precision: ', precision_score(y_test_rd, y_pred_rd_ct))"
   ]
  },
  {
   "cell_type": "code",
   "execution_count": null,
   "id": "ac9d167a",
   "metadata": {},
   "outputs": [],
   "source": [
    "y_prob_rd_ct = cart_model_rd.predict_proba(X_test_rd)[:, 1]"
   ]
  },
  {
   "cell_type": "code",
   "execution_count": null,
   "id": "1ea25b26",
   "metadata": {},
   "outputs": [],
   "source": [
    "\n",
    "model_comparison['CART']=[roc_auc_score(y_test_rd,y_pred_rd_ct),accuracy_score(y_test_rd,y_pred_rd_ct),f1_score(y_test_rd,y_pred_rd_ct)]\n"
   ]
  },
  {
   "cell_type": "code",
   "execution_count": null,
   "id": "404bd15e",
   "metadata": {},
   "outputs": [],
   "source": [
    "fpr10, tpr10, thresholds10 = roc_curve(y_test_rd, y_pred_rd_ct)\n",
    "roc_auc10 = auc(fpr10, tpr10)"
   ]
  },
  {
   "cell_type": "code",
   "execution_count": null,
   "id": "32a5a0ea",
   "metadata": {},
   "outputs": [],
   "source": [
    "#COmparing Models"
   ]
  },
  {
   "cell_type": "code",
   "execution_count": null,
   "id": "511eae25",
   "metadata": {},
   "outputs": [],
   "source": [
    "plt.plot(fpr1, tpr1, color='darkorange', lw=2, label=f'AUC1 = {roc_auc1:.2f}')\n",
    "plt.plot(fpr2, tpr2, color='red', lw=2, label=f'AUC2 = {roc_auc2:.2f}')\n",
    "plt.plot(fpr3, tpr3, color='blue', lw=2, label=f'AUC3 = {roc_auc3:.2f}')\n",
    "plt.plot(fpr4, tpr4, color='green', lw=2, label=f'AUC4 = {roc_auc4:.2f}')\n",
    "plt.plot(fpr5, tpr5, color='brown', lw=2, label=f'AUC5= {roc_auc5:.2f}')\n",
    "plt.plot(fpr6, tpr6, color='yellow', lw=2, label=f'AUC6 = {roc_auc6:.2f}')\n",
    "plt.plot(fpr7, tpr7, color='cyan', lw=2, label=f'AUC7 = {roc_auc7:.2f}')\n",
    "plt.plot(fpr8, tpr8, color='magenta', lw=2, label=f'AUC8 = {roc_auc8:.2f}')\n",
    "plt.plot(fpr9, tpr9, color='black', lw=2, label=f'AUC9 = {roc_auc9:.2f}')\n",
    "plt.plot(fpr10, tpr10, color='pink', lw=2, label=f'AUC10 = {roc_auc10:.2f}')\n",
    "\n",
    "plt.legend()\n"
   ]
  },
  {
   "cell_type": "code",
   "execution_count": null,
   "id": "ab4e474e",
   "metadata": {},
   "outputs": [],
   "source": [
    "figsize=(12, 5)\n",
    "f1_model1 = f1_score(y_test_rd, y_pred_rd)\n",
    "f1_model2 = f1_score(y_test_rd, y_pred_knn1)\n",
    "f1_model3 = f1_score(y_test_rd, y_pred_dt_rd)\n",
    "f1_model4 = f1_score(y_test_rd, y_pred_rd_ct)\n",
    "f1_model5 = f1_score(y_test_rd, y_pred_rf_rd)\n",
    "f1_model6 = f1_score(y_test_rd, y_pred_gbc_rd1)\n",
    "f1_model7 = f1_score(y_test_rd, y_pred_rd_ada)\n",
    "f1_model8 = f1_score(y_test_rd, y_pred_rd_lgb)\n",
    "f1_model9 = f1_score(y_test_rd, predictions_rd)\n",
    "f1_model10 = f1_score(y_test_rd, y_pred_n_rd)\n",
    "\n",
    "# Plot F1 scores\n",
    "models = ['LR', 'KNN','DT','CART','RF','GB','ADA','Light','Cat','ANN']  # Replace with actual model names\n",
    "f1_scores = [f1_model1, f1_model2,f1_model3,f1_model4,f1_model5,f1_model6,f1_model7,f1_model8,f1_model9,f1_model10]\n",
    "\n",
    "def addlabels(x,y):\n",
    "    for i in range(len(models)):\n",
    "        plt.text(i,f1_scores[i], \"{:.2f}\".format(f1_scores[i]))\n",
    "        \n",
    "plt.bar(models, f1_scores, color='skyblue')\n",
    "plt.xlabel('Model')\n",
    "plt.ylabel('F1 Score')\n",
    "addlabels(models, f1_scores)\n",
    "plt.title('F1 Scores for Different Models')\n",
    "plt.ylim(0, 1)  # Set appropriate y-axis limits\n",
    "plt.show()"
   ]
  },
  {
   "cell_type": "code",
   "execution_count": null,
   "id": "a71e6f68",
   "metadata": {},
   "outputs": [],
   "source": [
    "Model_com_df=pd.DataFrame(model_comparison).T\n",
    "Model_com_df.columns=['Model ROC-AUC Score','Model Accuracy','Model F1-Score']\n",
    "Model_com_df=Model_com_df.sort_values(by='Model F1-Score',ascending=False)\n",
    "Model_com_df.style.format(\"{:.2%}\").background_gradient(cmap='Blues')"
   ]
  },
  {
   "cell_type": "markdown",
   "id": "e96c69d8",
   "metadata": {},
   "source": [
    "# smote reduced dataset"
   ]
  },
  {
   "cell_type": "code",
   "execution_count": null,
   "id": "9c75d250",
   "metadata": {},
   "outputs": [],
   "source": [
    "#smotes reduced"
   ]
  },
  {
   "cell_type": "code",
   "execution_count": null,
   "id": "69b0ce1f",
   "metadata": {},
   "outputs": [],
   "source": [
    "Bankdataset_SMT_3_sm.columns"
   ]
  },
  {
   "cell_type": "code",
   "execution_count": null,
   "id": "b5ff06f0",
   "metadata": {},
   "outputs": [],
   "source": [
    "Bankdataset_SMT_3_sm.shape"
   ]
  },
  {
   "cell_type": "code",
   "execution_count": null,
   "id": "7a528088",
   "metadata": {},
   "outputs": [],
   "source": [
    "sm_rd_x_train, sm_rd_x_test, sm_rd_y_train, sm_rd_y_test = train_test_split(Bankdataset_SMT_3_sm, y2_sm, test_size = 0.3, random_state = 1, shuffle = True)"
   ]
  },
  {
   "cell_type": "code",
   "execution_count": null,
   "id": "02de3e7f",
   "metadata": {},
   "outputs": [],
   "source": [
    "sm_rd_x_train.shape, sm_rd_x_test.shape, sm_rd_y_train.shape, sm_rd_y_test.shape"
   ]
  },
  {
   "cell_type": "code",
   "execution_count": null,
   "id": "5ad255e9",
   "metadata": {},
   "outputs": [],
   "source": [
    "#logistoc"
   ]
  },
  {
   "cell_type": "code",
   "execution_count": null,
   "id": "1b62fc24",
   "metadata": {},
   "outputs": [],
   "source": [
    "lreg_sm_rd = LogisticRegression()\n",
    "lreg_sm_rd.fit(sm_rd_x_train, sm_rd_y_train)"
   ]
  },
  {
   "cell_type": "code",
   "execution_count": null,
   "id": "4f3f3ed6",
   "metadata": {},
   "outputs": [],
   "source": [
    "sm_rd_y_pred1 = lreg_sm_rd.predict(sm_rd_x_test)"
   ]
  },
  {
   "cell_type": "code",
   "execution_count": null,
   "id": "1fc6e09e",
   "metadata": {},
   "outputs": [],
   "source": [
    "print ('Accuracy: ', accuracy_score(sm_rd_y_test, sm_rd_y_pred1))\n",
    "print ('F1 score: ', f1_score(sm_rd_y_test, sm_rd_y_pred1))\n",
    "print('Roc Auc Score: ', roc_auc_score(sm_rd_y_test, sm_rd_y_pred1))\n",
    "\n",
    "print ('Recall: ', recall_score(sm_rd_y_test, sm_rd_y_pred1))\n",
    "print ('Precision: ', precision_score(sm_rd_y_test, sm_rd_y_pred1))\n",
    "\n",
    "print ('\\n clasification report:\\n', classification_report(sm_rd_y_test,sm_rd_y_pred1))\n",
    "print ('\\n confussion matrix:\\n',confusion_matrix(sm_rd_y_test, sm_rd_y_pred1))\n"
   ]
  },
  {
   "cell_type": "code",
   "execution_count": null,
   "id": "0c01fc7c",
   "metadata": {},
   "outputs": [],
   "source": [
    "##KNN ,  "
   ]
  },
  {
   "cell_type": "code",
   "execution_count": null,
   "id": "3c2396d0",
   "metadata": {},
   "outputs": [],
   "source": [
    "#knn\n",
    "knn_sm_rd = KNeighborsClassifier()\n",
    "scores_sm_rd = cross_val_score(knn_sm_rd, sm_rd_x_train, sm_rd_y_train, cv = 10)\n",
    "scores_sm_rd"
   ]
  },
  {
   "cell_type": "code",
   "execution_count": null,
   "id": "088528ad",
   "metadata": {},
   "outputs": [],
   "source": [
    "scores_sm_rd_model = knn_sm_rd.fit(sm_rd_x_train, sm_rd_y_train)"
   ]
  },
  {
   "cell_type": "code",
   "execution_count": null,
   "id": "493f7ea0",
   "metadata": {},
   "outputs": [],
   "source": [
    "y_pred_knn_sm_rd = scores_sm_rd_model.predict(sm_rd_x_test)\n",
    "print('Roc Auc Score: ', roc_auc_score(sm_rd_y_test, y_pred_knn_sm_rd))\n",
    "\n",
    "print ('F1 score: ', f1_score(sm_rd_y_test, y_pred_knn_sm_rd))\n",
    "\n",
    "print('Accuracy: ', accuracy_score(sm_rd_y_test, y_pred_knn_sm_rd))\n",
    "\n",
    "print('Confusion Matrix: ')\n",
    "print(confusion_matrix(sm_rd_y_test, y_pred_knn_sm_rd))\n",
    "\n",
    "print('Classification Report: ')\n",
    "print(classification_report(sm_rd_y_test, y_pred_knn_sm_rd))\n",
    "\n",
    "print ('Recall: ', recall_score(sm_rd_y_test, sm_rd_y_pred1))\n",
    "print ('Precision: ', precision_score(sm_rd_y_test, sm_rd_y_pred1))\n"
   ]
  },
  {
   "cell_type": "code",
   "execution_count": null,
   "id": "a362917b",
   "metadata": {},
   "outputs": [],
   "source": []
  },
  {
   "cell_type": "code",
   "execution_count": null,
   "id": "dfac514d",
   "metadata": {},
   "outputs": [],
   "source": [
    "# Decision trees "
   ]
  },
  {
   "cell_type": "code",
   "execution_count": null,
   "id": "464a461b",
   "metadata": {},
   "outputs": [],
   "source": [
    "dt_sm_rd = DecisionTreeClassifier()\n",
    "scores_sm_rd = cross_val_score(dt, sm_rd_x_train, sm_rd_y_train, cv = 5)\n",
    "scores_sm_rd"
   ]
  },
  {
   "cell_type": "code",
   "execution_count": null,
   "id": "82c212d7",
   "metadata": {},
   "outputs": [],
   "source": [
    "dt_sm_rd1 = dt_sm_rd.fit(sm_rd_x_train,  sm_rd_y_train)"
   ]
  },
  {
   "cell_type": "code",
   "execution_count": null,
   "id": "7da5f767",
   "metadata": {},
   "outputs": [],
   "source": [
    "y_pred_dt1_sm_rd = dt_sm_rd1.predict(sm_rd_x_test)\n",
    "print('Roc Auc Score: ', roc_auc_score(sm_rd_y_test, y_pred_dt1_sm_rd))\n",
    "print('Accuracy: ', accuracy_score(sm_rd_y_test, y_pred_dt1_sm_rd))\n",
    "print ('F1 score: ', f1_score(sm_rd_y_test, y_pred_dt1_sm_rd))\n",
    "\n",
    "\n",
    "print('Confusion Matrix: ')\n",
    "print(confusion_matrix(sm_rd_y_test, y_pred_dt1_sm_rd))\n",
    "\n",
    "print('Classification Report: ')\n",
    "print(classification_report(sm_rd_y_test, y_pred_dt1_sm_rd))\n",
    "\n",
    "print ('Recall: ', recall_score(sm_rd_y_test, y_pred_dt1_sm_rd))\n",
    "print ('Precision: ', precision_score(sm_rd_y_test, y_pred_dt1_sm_rd))"
   ]
  },
  {
   "cell_type": "code",
   "execution_count": null,
   "id": "b3c5ea3c",
   "metadata": {},
   "outputs": [],
   "source": []
  },
  {
   "cell_type": "code",
   "execution_count": null,
   "id": "306cfe59",
   "metadata": {},
   "outputs": [],
   "source": [
    "# random forest"
   ]
  },
  {
   "cell_type": "code",
   "execution_count": null,
   "id": "51129ea3",
   "metadata": {},
   "outputs": [],
   "source": [
    "rf_rd_sm = RandomForestClassifier()\n",
    "scores_rd_rf_sm = cross_val_score(rf_rd_sm, sm_rd_x_train, sm_rd_y_train, cv = 10)\n",
    "scores_rd_rf_sm"
   ]
  },
  {
   "cell_type": "code",
   "execution_count": null,
   "id": "e5444fb4",
   "metadata": {},
   "outputs": [],
   "source": [
    "rf_rd_sm_model=rf_rd_sm.fit(sm_rd_x_train, sm_rd_y_train)"
   ]
  },
  {
   "cell_type": "code",
   "execution_count": null,
   "id": "8a51ed87",
   "metadata": {},
   "outputs": [],
   "source": [
    "sm_rd_rf_pred = rf_rd_sm_model.predict(sm_rd_x_test)\n",
    "\n",
    "print('Confusion Matrix: ')\n",
    "print(confusion_matrix(sm_rd_y_test, sm_rd_rf_pred))\n",
    "\n",
    "print('Classification Report: ')\n",
    "print(classification_report(sm_rd_y_test, sm_rd_rf_pred))\n",
    "\n",
    "print('Accuracy: ', accuracy_score(sm_rd_y_test, sm_rd_rf_pred))\n",
    "\n",
    "print('Roc Auc Score: ', roc_auc_score(sm_rd_y_test, sm_rd_rf_pred))\n",
    "\n",
    "\n",
    "print ('F1 score: ', f1_score(sm_rd_y_test, sm_rd_rf_pred))\n",
    "print ('Recall: ', recall_score(sm_rd_y_test, sm_rd_rf_pred))\n",
    "print ('Precision: ', precision_score(sm_rd_y_test, sm_rd_rf_pred))"
   ]
  },
  {
   "cell_type": "code",
   "execution_count": null,
   "id": "31616ef9",
   "metadata": {},
   "outputs": [],
   "source": [
    "rf_rd_sm.get_params()"
   ]
  },
  {
   "cell_type": "code",
   "execution_count": null,
   "id": "2e5fc481",
   "metadata": {},
   "outputs": [],
   "source": [
    "imp_df = pd.DataFrame({\n",
    "    \"Varname\": sm_rd_x_train.columns,\n",
    "    \"Imp\": rf_rd_sm.feature_importances_\n",
    "})"
   ]
  },
  {
   "cell_type": "code",
   "execution_count": null,
   "id": "9f69f33a",
   "metadata": {},
   "outputs": [],
   "source": [
    "imp_df.sort_values(by=\"Imp\", ascending=False)"
   ]
  },
  {
   "cell_type": "code",
   "execution_count": null,
   "id": "68d2d301",
   "metadata": {},
   "outputs": [],
   "source": []
  },
  {
   "cell_type": "code",
   "execution_count": null,
   "id": "818425d5",
   "metadata": {},
   "outputs": [],
   "source": [
    "#SMote sm model Gradient boost"
   ]
  },
  {
   "cell_type": "code",
   "execution_count": null,
   "id": "b486a04e",
   "metadata": {},
   "outputs": [],
   "source": [
    "gbc_sm_rd = GradientBoostingClassifier()\n",
    "scores_sm_rd = cross_val_score(gbc_sm_rd, sm_rd_x_train, sm_rd_y_train, cv = 10)\n",
    "scores_sm_rd"
   ]
  },
  {
   "cell_type": "code",
   "execution_count": null,
   "id": "12f82b75",
   "metadata": {},
   "outputs": [],
   "source": [
    "gbc_sm_rd_model = gbc_sm_rd.fit(sm_rd_x_train, np.ravel(sm_rd_y_train))"
   ]
  },
  {
   "cell_type": "code",
   "execution_count": null,
   "id": "dcad9129",
   "metadata": {
    "scrolled": true
   },
   "outputs": [],
   "source": [
    "y_pred_gbc_sm_rd = gbc_sm_rd_model.predict(sm_rd_x_test)\n",
    "\n",
    "print('Confusion Matrix: ')\n",
    "print(confusion_matrix(sm_rd_y_test, y_pred_gbc_sm_rd))\n",
    "\n",
    "print('Classification Report: ')\n",
    "print(classification_report(sm_rd_y_test, y_pred_gbc_sm_rd))\n",
    "\n",
    "print('Accuracy: ', accuracy_score(sm_rd_y_test, y_pred_gbc_sm_rd))\n",
    "print ('F1 score: ', f1_score(sm_rd_y_test, y_pred_gbc_sm_rd))\n",
    "print('Roc Auc Score: ', roc_auc_score(sm_rd_y_test, y_pred_gbc_sm_rd))\n",
    "\n",
    "print ('Recall: ', recall_score(sm_rd_y_test, y_pred_gbc_sm_rd))\n",
    "print ('Precision: ', precision_score(sm_rd_y_test, y_pred_gbc_sm_rd))"
   ]
  },
  {
   "cell_type": "markdown",
   "id": "1cf773c0",
   "metadata": {},
   "source": [
    "# Ann smote redcued"
   ]
  },
  {
   "cell_type": "code",
   "execution_count": null,
   "id": "bd6c6f2b",
   "metadata": {},
   "outputs": [],
   "source": [
    "#ANN"
   ]
  },
  {
   "cell_type": "code",
   "execution_count": null,
   "id": "689b4d6d",
   "metadata": {},
   "outputs": [],
   "source": [
    "ann_rd_sm = tf.keras.models.Sequential()"
   ]
  },
  {
   "cell_type": "code",
   "execution_count": null,
   "id": "687ac85d",
   "metadata": {},
   "outputs": [],
   "source": [
    "ann_rd_sm.add(tf.keras.layers.Dense(units=11, activation='relu'))"
   ]
  },
  {
   "cell_type": "code",
   "execution_count": null,
   "id": "71cdbb51",
   "metadata": {},
   "outputs": [],
   "source": [
    "ann_rd_sm.add(tf.keras.layers.Dense(units=11, activation='relu'))"
   ]
  },
  {
   "cell_type": "code",
   "execution_count": null,
   "id": "c05bc9fb",
   "metadata": {},
   "outputs": [],
   "source": [
    "ann_rd_sm.add(tf.keras.layers.Dense(units=11, activation='relu'))"
   ]
  },
  {
   "cell_type": "code",
   "execution_count": null,
   "id": "cc1b1e6d",
   "metadata": {},
   "outputs": [],
   "source": [
    "ann_rd_sm.add(tf.keras.layers.Dense(units=11, activation='relu'))"
   ]
  },
  {
   "cell_type": "code",
   "execution_count": null,
   "id": "87ac90fb",
   "metadata": {},
   "outputs": [],
   "source": [
    "ann_rd_sm.add(tf.keras.layers.Dense(units=1, activation='sigmoid'))"
   ]
  },
  {
   "cell_type": "code",
   "execution_count": null,
   "id": "63d5d027",
   "metadata": {},
   "outputs": [],
   "source": [
    "ann_rd_sm.compile(optimizer = 'adam', loss = 'binary_crossentropy', metrics = ['accuracy'])"
   ]
  },
  {
   "cell_type": "code",
   "execution_count": null,
   "id": "dbe31779",
   "metadata": {},
   "outputs": [],
   "source": [
    "ann_rd_sm.fit(sm_rd_x_train, sm_rd_y_train, batch_size = 64, epochs = 100)"
   ]
  },
  {
   "cell_type": "code",
   "execution_count": null,
   "id": "3246f478",
   "metadata": {},
   "outputs": [],
   "source": [
    "y_pred_sm_rd = ann_rd_sm.predict(sm_rd_x_test)\n",
    "y_pred_sm_rd = (y_pred_sm_rd > 0.5)\n",
    "#print(np.concatenate((y_pred.reshape(len(y_pred),1), y_test.reshape(len(y_test),1)),1))"
   ]
  },
  {
   "cell_type": "code",
   "execution_count": null,
   "id": "fa925cb4",
   "metadata": {
    "scrolled": true
   },
   "outputs": [],
   "source": [
    "print('Roc Auc Score: ', roc_auc_score(sm_rd_y_test, y_pred_sm_rd))\n",
    "\n",
    "print('Confusion Matrix: ')\n",
    "print(confusion_matrix(sm_rd_y_test, y_pred_sm_rd))\n",
    "\n",
    "print('Classification Report: ')\n",
    "print(classification_report(sm_rd_y_test, y_pred_sm_rd))\n",
    "\n",
    "print('Accuracy: ', accuracy_score(sm_rd_y_test, y_pred_sm_rd))\n",
    "\n",
    "print ('F1 score: ', f1_score(sm_rd_y_test, y_pred_sm_rd))\n",
    "print ('Recall: ', recall_score(sm_rd_y_test, y_pred_sm_rd))\n",
    "print ('Precision: ', precision_score(sm_rd_y_test, y_pred_sm_rd))"
   ]
  },
  {
   "cell_type": "markdown",
   "id": "4ee09ee4",
   "metadata": {},
   "source": [
    "# adaboost smote reduced"
   ]
  },
  {
   "cell_type": "code",
   "execution_count": null,
   "id": "18500176",
   "metadata": {},
   "outputs": [],
   "source": [
    "#Catboost , adaboost,lightgbm"
   ]
  },
  {
   "cell_type": "code",
   "execution_count": null,
   "id": "c4934509",
   "metadata": {},
   "outputs": [],
   "source": [
    "# Create adaboost classifer object\n",
    "adaboost_rd_sm = AdaBoostClassifier(n_estimators=50,\n",
    "                         learning_rate=1)\n",
    "# Train Adaboost Classifer\n",
    "model_rd_sm = adaboost_rd_sm.fit(sm_rd_x_train, sm_rd_y_train)\n",
    "\n",
    "#Predict the response for test dataset\n",
    "y_pred_rd_sm_ada = model_rd_sm.predict(sm_rd_x_test)"
   ]
  },
  {
   "cell_type": "code",
   "execution_count": null,
   "id": "83769b8a",
   "metadata": {},
   "outputs": [],
   "source": [
    "print('Confusion Matrix: ')\n",
    "print(confusion_matrix(sm_rd_y_test, y_pred_rd_sm_ada))\n",
    "\n",
    "print('Classification Report: ')\n",
    "print(classification_report(sm_rd_y_test, y_pred_rd_sm_ada))\n",
    "\n",
    "print('Accuracy: ', accuracy_score(sm_rd_y_test, y_pred_rd_sm_ada))\n",
    "\n",
    "print ('F1 score: ', f1_score(sm_rd_y_test, y_pred_rd_sm_ada))\n",
    "\n",
    "print('Roc Auc Score: ', roc_auc_score(sm_rd_y_test, y_pred_rd_sm_ada))\n",
    "\n",
    "print ('Recall: ', recall_score(sm_rd_y_test, y_pred_rd_sm_ada))\n",
    "print ('Precision: ', precision_score(sm_rd_y_test, y_pred_rd_sm_ada))"
   ]
  },
  {
   "cell_type": "markdown",
   "id": "3ceee5b4",
   "metadata": {},
   "source": [
    "# Light GBM smote reduced"
   ]
  },
  {
   "cell_type": "code",
   "execution_count": null,
   "id": "6648c673",
   "metadata": {},
   "outputs": [],
   "source": [
    "#lightgbm"
   ]
  },
  {
   "cell_type": "code",
   "execution_count": null,
   "id": "e21d14e0",
   "metadata": {},
   "outputs": [],
   "source": [
    "lgbm_rd_sm = lgb.LGBMClassifier()\n",
    "lgbm_rd_sm.fit(sm_rd_x_train, sm_rd_y_train)"
   ]
  },
  {
   "cell_type": "code",
   "execution_count": null,
   "id": "b336c84b",
   "metadata": {},
   "outputs": [],
   "source": [
    "y_pred_rd_lgb_sm=lgbm_rd_sm.predict(sm_rd_x_test)"
   ]
  },
  {
   "cell_type": "code",
   "execution_count": null,
   "id": "cec16fdb",
   "metadata": {},
   "outputs": [],
   "source": [
    "accuracy=accuracy_score(y_pred_rd_lgb_sm, sm_rd_y_test)\n",
    "print('LightGBM Model accuracy score: {0:0.4f}'.format(accuracy_score(sm_rd_y_test, y_pred_rd_lgb_sm)))"
   ]
  },
  {
   "cell_type": "code",
   "execution_count": null,
   "id": "ff447744",
   "metadata": {},
   "outputs": [],
   "source": [
    "y_pred_train_rd_sm = lgbm_rd.predict(sm_rd_x_test)"
   ]
  },
  {
   "cell_type": "code",
   "execution_count": null,
   "id": "55f94942",
   "metadata": {},
   "outputs": [],
   "source": [
    "#print('Training-set accuracy score: {0:0.4f}'. format(accuracy_score(sm_rd_y_train, y_pred_train_rd_sm)))"
   ]
  },
  {
   "cell_type": "code",
   "execution_count": null,
   "id": "23cba900",
   "metadata": {},
   "outputs": [],
   "source": [
    "cm_rd_sm = confusion_matrix(sm_rd_y_test, y_pred_rd_lgb_sm)\n",
    "print('Confusion matrix\\n\\n', cm_rd_sm)\n",
    "print('\\nTrue Positives(TP) = ', cm_rd_sm[0,0])\n",
    "print('\\nTrue Negatives(TN) = ', cm_rd_sm[1,1])\n",
    "print('\\nFalse Positives(FP) = ', cm_rd_sm[0,1])\n",
    "print('\\nFalse Negatives(FN) = ', cm_rd_sm[1,0])"
   ]
  },
  {
   "cell_type": "code",
   "execution_count": null,
   "id": "9881567c",
   "metadata": {},
   "outputs": [],
   "source": [
    "print('Confusion Matrix: ')\n",
    "print(confusion_matrix(sm_rd_y_test, y_pred_rd_lgb_sm))\n",
    "\n",
    "print('Classification Report: ')\n",
    "print(classification_report(sm_rd_y_test, y_pred_rd_lgb_sm))\n",
    "\n",
    "print('Accuracy: ', accuracy_score(sm_rd_y_test, y_pred_rd_lgb_sm))\n",
    "\n",
    "print ('F1 score: ', f1_score(sm_rd_y_test, y_pred_rd_lgb_sm))\n",
    "\n",
    "print('Roc Auc Score: ', roc_auc_score(sm_rd_y_test, y_pred_rd_lgb_sm))\n",
    "\n",
    "print ('Recall: ', recall_score(sm_rd_y_test, y_pred_rd_lgb_sm))\n",
    "print ('Precision: ', precision_score(sm_rd_y_test, y_pred_rd_lgb_sm))"
   ]
  },
  {
   "cell_type": "markdown",
   "id": "af80ba32",
   "metadata": {},
   "source": [
    "# catboost smote reduced"
   ]
  },
  {
   "cell_type": "code",
   "execution_count": null,
   "id": "07a1e07d",
   "metadata": {},
   "outputs": [],
   "source": [
    "model_rd_sm = CatBoostClassifier(iterations=50, depth=3, learning_rate=0.1, loss_function='Logloss')"
   ]
  },
  {
   "cell_type": "code",
   "execution_count": null,
   "id": "5ea13a6a",
   "metadata": {},
   "outputs": [],
   "source": [
    "model_rd_sm.fit(sm_rd_x_train, sm_rd_y_train)"
   ]
  },
  {
   "cell_type": "code",
   "execution_count": null,
   "id": "0a511302",
   "metadata": {},
   "outputs": [],
   "source": [
    "predictions_sm_rd = model_rd_sm.predict(sm_rd_x_test)"
   ]
  },
  {
   "cell_type": "code",
   "execution_count": null,
   "id": "6bb7313a",
   "metadata": {},
   "outputs": [],
   "source": [
    "feature_importance_rd_sm = model_rd_sm.feature_importances_\n",
    "print(\"Feature Importance:\", feature_importance_rd_sm)"
   ]
  },
  {
   "cell_type": "code",
   "execution_count": null,
   "id": "af62a81f",
   "metadata": {},
   "outputs": [],
   "source": [
    "print('Confusion Matrix: ')\n",
    "print(confusion_matrix(sm_rd_y_test, predictions_sm_rd))\n",
    "\n",
    "print('Classification Report: ')\n",
    "print(classification_report(sm_rd_y_test, predictions_sm_rd))\n",
    "\n",
    "print('Accuracy: ', accuracy_score(sm_rd_y_test, predictions_sm_rd))\n",
    "print ('F1 score: ', f1_score(sm_rd_y_test, predictions_sm_rd))\n",
    "print('Roc Auc Score: ', roc_auc_score(sm_rd_y_test, predictions_sm_rd))\n",
    "\n",
    "\n",
    "print ('Recall: ', recall_score(sm_rd_y_test, predictions_sm_rd))\n",
    "print ('Precision: ', precision_score(sm_rd_y_test, predictions_sm_rd))"
   ]
  },
  {
   "cell_type": "markdown",
   "id": "30e90fb2",
   "metadata": {},
   "source": [
    "# Cart smote reducedd"
   ]
  },
  {
   "cell_type": "code",
   "execution_count": null,
   "id": "8a2a3380",
   "metadata": {},
   "outputs": [],
   "source": []
  },
  {
   "cell_type": "code",
   "execution_count": null,
   "id": "50551ea8",
   "metadata": {},
   "outputs": [],
   "source": [
    "cart_model_rd_sm = DecisionTreeClassifier(random_state=10).fit(sm_rd_x_train, sm_rd_y_train)"
   ]
  },
  {
   "cell_type": "code",
   "execution_count": null,
   "id": "e00181c7",
   "metadata": {},
   "outputs": [],
   "source": [
    "y_pred_smrd_ct = cart_model_rd_sm.predict(sm_rd_x_test)\n"
   ]
  },
  {
   "cell_type": "code",
   "execution_count": null,
   "id": "0eac67e6",
   "metadata": {},
   "outputs": [],
   "source": [
    "print('Confusion Matrix: ')\n",
    "print(confusion_matrix(sm_rd_y_test, y_pred_smrd_ct))\n",
    "\n",
    "print('Classification Report: ')\n",
    "print(classification_report(sm_rd_y_test, y_pred_smrd_ct))\n",
    "\n",
    "print('Accuracy: ', accuracy_score(sm_rd_y_test, y_pred_smrd_ct))\n",
    "\n",
    "print ('F1 score: ', f1_score(sm_rd_y_test, y_pred_smrd_ct))\n",
    "\n",
    "print('Roc Auc Score: ', roc_auc_score(sm_rd_y_test, y_pred_smrd_ct))\n",
    "\n",
    "print ('Recall: ', recall_score(sm_rd_y_test, y_pred_smrd_ct))\n",
    "print ('Precision: ', precision_score(sm_rd_y_test, y_pred_smrd_ct))"
   ]
  },
  {
   "cell_type": "code",
   "execution_count": null,
   "id": "ad52d1f7",
   "metadata": {},
   "outputs": [],
   "source": [
    "#Model comaprisons"
   ]
  },
  {
   "cell_type": "code",
   "execution_count": null,
   "id": "abaa10a4",
   "metadata": {},
   "outputs": [],
   "source": [
    "model_comparison_sm={}"
   ]
  },
  {
   "cell_type": "code",
   "execution_count": null,
   "id": "7950232f",
   "metadata": {},
   "outputs": [],
   "source": [
    "\n",
    "model_comparison_sm['CART']=[roc_auc_score(sm_rd_y_test,y_pred_smrd_ct),accuracy_score(sm_rd_y_test,y_pred_smrd_ct),f1_score(sm_rd_y_test,y_pred_smrd_ct)]\n"
   ]
  },
  {
   "cell_type": "code",
   "execution_count": null,
   "id": "88b50301",
   "metadata": {},
   "outputs": [],
   "source": [
    "model_comparison_sm['Logistic Regression']=[roc_auc_score(sm_rd_y_test,sm_rd_y_pred1),accuracy_score(sm_rd_y_test,sm_rd_y_pred1),f1_score(sm_rd_y_test,sm_rd_y_pred1)]\n",
    "\n"
   ]
  },
  {
   "cell_type": "code",
   "execution_count": null,
   "id": "db6f4d96",
   "metadata": {},
   "outputs": [],
   "source": [
    "model_comparison_sm['KNN']=[roc_auc_score(sm_rd_y_test, y_pred_knn_sm_rd),accuracy_score(sm_rd_y_test, y_pred_knn_sm_rd),f1_score(sm_rd_y_test, y_pred_knn_sm_rd)]\n",
    "\n"
   ]
  },
  {
   "cell_type": "code",
   "execution_count": null,
   "id": "0f68161e",
   "metadata": {},
   "outputs": [],
   "source": [
    "\n",
    "\n",
    "model_comparison_sm['Decision Tree']=[roc_auc_score(sm_rd_y_test,y_pred_dt1_sm_rd),accuracy_score(sm_rd_y_test,y_pred_dt1_sm_rd),f1_score(sm_rd_y_test,y_pred_dt1_sm_rd)]\n",
    "\n"
   ]
  },
  {
   "cell_type": "code",
   "execution_count": null,
   "id": "923839bb",
   "metadata": {},
   "outputs": [],
   "source": [
    "\n",
    "model_comparison_sm['Random Forest']=[roc_auc_score(sm_rd_y_test,sm_rd_rf_pred),accuracy_score(sm_rd_y_test,sm_rd_rf_pred),f1_score(sm_rd_y_test,sm_rd_rf_pred)]\n",
    "\n"
   ]
  },
  {
   "cell_type": "code",
   "execution_count": null,
   "id": "71712ce9",
   "metadata": {},
   "outputs": [],
   "source": [
    "\n",
    "model_comparison_sm['Light GBM']=[roc_auc_score(sm_rd_y_test,y_pred_rd_lgb_sm),accuracy_score(sm_rd_y_test,y_pred_rd_lgb_sm),f1_score(sm_rd_y_test,y_pred_rd_lgb_sm)]\n"
   ]
  },
  {
   "cell_type": "code",
   "execution_count": null,
   "id": "325d67ec",
   "metadata": {},
   "outputs": [],
   "source": [
    "model_comparison_sm['CART']=[roc_auc_score(sm_rd_y_test,y_pred_smrd_ct),accuracy_score(sm_rd_y_test,y_pred_smrd_ct),f1_score(sm_rd_y_test,y_pred_smrd_ct)]\n"
   ]
  },
  {
   "cell_type": "code",
   "execution_count": null,
   "id": "e8aca8ee",
   "metadata": {},
   "outputs": [],
   "source": [
    "\n",
    "model_comparison_sm['Ada Boost']=[roc_auc_score(sm_rd_y_test,y_pred_rd_sm_ada),accuracy_score(sm_rd_y_test,y_pred_rd_sm_ada),f1_score(sm_rd_y_test,y_pred_rd_sm_ada)]\n",
    "                                  "
   ]
  },
  {
   "cell_type": "code",
   "execution_count": null,
   "id": "b81df17b",
   "metadata": {},
   "outputs": [],
   "source": [
    "\n",
    "model_comparison_sm['Gradiant Boosting']=[roc_auc_score(sm_rd_y_test,y_pred_gbc_sm_rd),accuracy_score(sm_rd_y_test,y_pred_gbc_sm_rd),f1_score(sm_rd_y_test,y_pred_gbc_sm_rd),]\n"
   ]
  },
  {
   "cell_type": "code",
   "execution_count": null,
   "id": "489973a8",
   "metadata": {},
   "outputs": [],
   "source": [
    "model_comparison_sm['ANN']=[roc_auc_score(sm_rd_y_test,y_pred_sm_rd),accuracy_score(sm_rd_y_test,y_pred_sm_rd),f1_score(sm_rd_y_test,y_pred_sm_rd)]\n"
   ]
  },
  {
   "cell_type": "code",
   "execution_count": null,
   "id": "aad84d0e",
   "metadata": {},
   "outputs": [],
   "source": [
    "\n",
    "model_comparison_sm['Cat Boost']=[roc_auc_score(sm_rd_y_test,predictions_sm_rd),accuracy_score(sm_rd_y_test,predictions_sm_rd),f1_score(sm_rd_y_test,predictions_sm_rd)]\n"
   ]
  },
  {
   "cell_type": "code",
   "execution_count": null,
   "id": "21a191ba",
   "metadata": {},
   "outputs": [],
   "source": [
    "Model_com_sm=pd.DataFrame(model_comparison_sm).T\n",
    "Model_com_sm.columns=['Model ROC-AUC Score','Model Accuracy','Model F1-Score',]\n",
    "Model_com_sm=Model_com_sm.sort_values(by='Model F1-Score',ascending=False)\n",
    "Model_com_sm.style.format(\"{:.2%}\").background_gradient(cmap='Blues')"
   ]
  },
  {
   "cell_type": "code",
   "execution_count": null,
   "id": "29f03163",
   "metadata": {
    "scrolled": true
   },
   "outputs": [],
   "source": [
    "Model_com_df.style.format(\"{:.2%}\").background_gradient(cmap='Blues')"
   ]
  },
  {
   "cell_type": "code",
   "execution_count": null,
   "id": "ce8e8563",
   "metadata": {},
   "outputs": [],
   "source": [
    "roc_auc1"
   ]
  },
  {
   "cell_type": "code",
   "execution_count": null,
   "id": "32a2c6b6",
   "metadata": {},
   "outputs": [],
   "source": [
    "fpr1, tpr1, thresholds1 = roc_curve(sm_rd_y_test, sm_rd_y_pred1)\n",
    "roc_auc1 = auc(fpr1, tpr1)\n",
    "\n",
    "\n",
    "fpr2, tpr2, thresholds2 = roc_curve(sm_rd_y_test, y_pred_knn_sm_rd)\n",
    "roc_auc2 = auc(fpr2, tpr2)\n",
    "\n",
    "fpr3, tpr3, thresholds3 = roc_curve(sm_rd_y_test, y_pred_dt1_sm_rd)\n",
    "roc_auc3 = auc(fpr3, tpr3)\n",
    "\n",
    "fpr4, tpr4, thresholds4 = roc_curve(sm_rd_y_test, sm_rd_rf_pred)\n",
    "roc_auc4 = auc(fpr4, tpr4)\n",
    "\n",
    "fpr5, tpr5, thresholds5 = roc_curve(sm_rd_y_test, y_pred_gbc_sm_rd)\n",
    "roc_auc5 = auc(fpr5, tpr5)\n",
    "\n",
    "fpr6, tpr6, thresholds6 = roc_curve(sm_rd_y_test, y_pred_sm_rd )\n",
    "roc_auc6 = auc(fpr6, tpr6)\n",
    "\n",
    "\n",
    "fpr7, tpr7, thresholds7 = roc_curve(sm_rd_y_test, y_pred_rd_sm_ada)\n",
    "roc_auc6 = auc(fpr6, tpr6)\n",
    "\n",
    "\n",
    "fpr8, tpr8, thresholds8 = roc_curve(sm_rd_y_test, y_pred_rd_lgb_sm)\n",
    "roc_auc8 = auc(fpr8, tpr8)\n",
    "\n",
    "\n",
    "fpr9, tpr9, thresholds9 = roc_curve(sm_rd_y_test,predictions_sm_rd )\n",
    "roc_auc9 = auc(fpr9, tpr9)\n",
    "\n",
    "fpr10, tpr10, thresholds1 = roc_curve(sm_rd_y_test,y_pred_smrd_ct )\n",
    "roc_auc1 = auc(fpr10, tpr10)\n",
    "\n",
    "\n"
   ]
  },
  {
   "cell_type": "code",
   "execution_count": null,
   "id": "6e0ff7d5",
   "metadata": {},
   "outputs": [],
   "source": [
    "plt.plot(fpr1, tpr1, color='darkorange', lw=2, label=f'AUC1 = {roc_auc1:.2f}')\n",
    "plt.plot(fpr2, tpr2, color='red', lw=2, label=f'AUC2 = {roc_auc2:.2f}')\n",
    "plt.plot(fpr3, tpr3, color='blue', lw=2, label=f'AUC3 = {roc_auc3:.2f}')\n",
    "plt.plot(fpr4, tpr4, color='green', lw=2, label=f'AUC4 = {roc_auc4:.2f}')\n",
    "plt.plot(fpr5, tpr5, color='brown', lw=2, label=f'AUC5 = {roc_auc5:.2f}')\n",
    "plt.plot(fpr6, tpr6, color='yellow', lw=2, label=f'AUC6 = {roc_auc6:.2f}')\n",
    "plt.plot(fpr7, tpr7, color='cyan', lw=2, label=f'AUC7 = {roc_auc7:.2f}')\n",
    "plt.plot(fpr8, tpr8, color='magenta', lw=2, label=f'AUC8 = {roc_auc8:.2f}')\n",
    "plt.plot(fpr9, tpr9, color='black', lw=2, label=f'AUC9 = {roc_auc9:.2f}')\n",
    "plt.plot(fpr10, tpr10, color='pink', lw=2, label=f'AUC10 = {roc_auc10:.2f}')\n",
    "\n",
    "plt.legend()\n"
   ]
  },
  {
   "cell_type": "code",
   "execution_count": null,
   "id": "e384d0da",
   "metadata": {},
   "outputs": [],
   "source": [
    "y_prob_rd_ct_s = cart_model_rd_sm.predict_proba(sm_rd_x_test)[:, 1]"
   ]
  },
  {
   "cell_type": "code",
   "execution_count": null,
   "id": "a955c33e",
   "metadata": {},
   "outputs": [],
   "source": [
    "figsize=(12, 5)\n",
    "f1_model1 = f1_score(sm_rd_y_test, sm_rd_y_pred1)\n",
    "f1_model2 = f1_score(sm_rd_y_test, y_pred_knn_sm_rd)\n",
    "f1_model3 = f1_score(sm_rd_y_test, y_pred_dt1_sm_rd)\n",
    "f1_model4 = f1_score(sm_rd_y_test, y_pred_smrd_ct)\n",
    "f1_model5 = f1_score(sm_rd_y_test, sm_rd_rf_pred)\n",
    "f1_model6 = f1_score(sm_rd_y_test, y_pred_gbc_sm_rd)\n",
    "f1_model7 = f1_score(sm_rd_y_test, y_pred_rd_sm_ada)\n",
    "f1_model8 = f1_score(sm_rd_y_test, y_pred_rd_lgb_sm)\n",
    "f1_model9 = f1_score(sm_rd_y_test, predictions_sm_rd)\n",
    "f1_model10 = f1_score(sm_rd_y_test, y_pred_sm_rd)\n",
    "\n",
    "# Plot F1 scores\n",
    "models = ['LR', 'KNN','DT','CART','RF','GB','ADA','Light','Cat','ANN']  # Replace with actual model names\n",
    "f1_scores = [f1_model1, f1_model2,f1_model3,f1_model4,f1_model5,f1_model6,f1_model7,f1_model8,f1_model9,f1_model10]\n",
    "\n",
    "def addlabels(x,y):\n",
    "    for i in range(len(models)):\n",
    "        plt.text(i,f1_scores[i], \"{:.2f}\".format(f1_scores[i]))\n",
    "        \n",
    "plt.bar(models, f1_scores, color='skyblue')\n",
    "plt.xlabel('Model')\n",
    "plt.ylabel('F1 Score')\n",
    "addlabels(models, f1_scores)\n",
    "plt.title('F1 Scores for Different Models with SMOTE')\n",
    "plt.ylim(0, 1)  # Set appropriate y-axis limits\n",
    "plt.show()"
   ]
  },
  {
   "cell_type": "code",
   "execution_count": null,
   "id": "b848d423",
   "metadata": {},
   "outputs": [],
   "source": [
    "# Model comparisions for best results "
   ]
  },
  {
   "cell_type": "code",
   "execution_count": null,
   "id": "c0a6c847",
   "metadata": {},
   "outputs": [],
   "source": [
    "import scipy.stats as stats"
   ]
  },
  {
   "cell_type": "code",
   "execution_count": null,
   "id": "1b02b8ac",
   "metadata": {},
   "outputs": [],
   "source": [
    "#adaboost and gradient boosting"
   ]
  },
  {
   "cell_type": "code",
   "execution_count": null,
   "id": "d49d2ae1",
   "metadata": {},
   "outputs": [],
   "source": [
    "model_ada = y_pred_rd_ada"
   ]
  },
  {
   "cell_type": "code",
   "execution_count": null,
   "id": "035b7f3d",
   "metadata": {},
   "outputs": [],
   "source": [
    "model_gb =y_pred_gbc_rd1"
   ]
  },
  {
   "cell_type": "code",
   "execution_count": null,
   "id": "e663cd92",
   "metadata": {},
   "outputs": [],
   "source": [
    "print(np.var(model_ada),np.var(model_gb))"
   ]
  },
  {
   "cell_type": "code",
   "execution_count": null,
   "id": "6a1de46f",
   "metadata": {},
   "outputs": [],
   "source": [
    "0.10866457885808499/0.11014516668848458"
   ]
  },
  {
   "cell_type": "code",
   "execution_count": null,
   "id": "21ca6b34",
   "metadata": {},
   "outputs": [],
   "source": [
    "t_statistic, p_value = stats.ttest_ind(model_ada, model_gb)"
   ]
  },
  {
   "cell_type": "code",
   "execution_count": null,
   "id": "ac217c88",
   "metadata": {},
   "outputs": [],
   "source": [
    "t_statistic"
   ]
  },
  {
   "cell_type": "code",
   "execution_count": null,
   "id": "93eb0542",
   "metadata": {},
   "outputs": [],
   "source": [
    "p_value"
   ]
  },
  {
   "cell_type": "code",
   "execution_count": null,
   "id": "5e9a2503",
   "metadata": {},
   "outputs": [],
   "source": [
    "alpha = 0.05"
   ]
  },
  {
   "cell_type": "code",
   "execution_count": null,
   "id": "92c9a86e",
   "metadata": {},
   "outputs": [],
   "source": [
    "if p_value < alpha:\n",
    "    print(\"Reject the null hypothesis: There is a significant difference in F1 scores between the two models.\")\n",
    "else:\n",
    "    print(\"Fail to reject the null hypothesis: No significant difference in F1 scores between the two models.\")"
   ]
  },
  {
   "cell_type": "code",
   "execution_count": null,
   "id": "b1c588d3",
   "metadata": {},
   "outputs": [],
   "source": [
    "# ada boost and random forest "
   ]
  },
  {
   "cell_type": "code",
   "execution_count": null,
   "id": "d5254810",
   "metadata": {},
   "outputs": [],
   "source": [
    "model_ada = y_pred_rd_ada\n",
    "\n",
    "model_rf = y_pred_rf_rd"
   ]
  },
  {
   "cell_type": "code",
   "execution_count": null,
   "id": "1b5a706e",
   "metadata": {},
   "outputs": [],
   "source": [
    "print(np.var(model_ada),np.var(model_rf))"
   ]
  },
  {
   "cell_type": "code",
   "execution_count": null,
   "id": "85baa44d",
   "metadata": {},
   "outputs": [],
   "source": [
    "#0.10866457885808499/0.11014516668848458\n",
    "\n",
    "t_statistic, p_value = stats.ttest_ind(model_ada, model_rf)\n",
    "\n",
    "t_statistic"
   ]
  },
  {
   "cell_type": "code",
   "execution_count": null,
   "id": "d3417d80",
   "metadata": {},
   "outputs": [],
   "source": [
    "p_value\n",
    "\n",
    "alpha = 0.05\n",
    "\n",
    "if p_value < alpha:\n",
    "    print(\"Reject the null hypothesis: There is a significant difference in F1 scores between the two models.\")\n",
    "else:\n",
    "    print(\"Fail to reject the null hypothesis: No significant difference in F1 scores between the two models.\")"
   ]
  },
  {
   "cell_type": "code",
   "execution_count": null,
   "id": "01a8cb7c",
   "metadata": {},
   "outputs": [],
   "source": [
    "#adaboost and lgbm"
   ]
  },
  {
   "cell_type": "code",
   "execution_count": null,
   "id": "b0633cc6",
   "metadata": {},
   "outputs": [],
   "source": [
    "model_ada = y_pred_rd_ada\n",
    "\n",
    "model_lgbm = y_pred_rd_lgb"
   ]
  },
  {
   "cell_type": "code",
   "execution_count": null,
   "id": "e8bb59a4",
   "metadata": {},
   "outputs": [],
   "source": [
    "print(np.var(model_ada),np.var(model_lgbm))\n"
   ]
  },
  {
   "cell_type": "code",
   "execution_count": null,
   "id": "51b7258f",
   "metadata": {},
   "outputs": [],
   "source": [
    "t_statistic, p_value = stats.ttest_ind(model_ada, model_lgbm,equal_var=True)\n",
    "\n",
    "t_statistic"
   ]
  },
  {
   "cell_type": "code",
   "execution_count": null,
   "id": "c015a485",
   "metadata": {
    "scrolled": true
   },
   "outputs": [],
   "source": [
    "t_statistic"
   ]
  },
  {
   "cell_type": "code",
   "execution_count": null,
   "id": "3a628dcf",
   "metadata": {},
   "outputs": [],
   "source": [
    "p_value"
   ]
  },
  {
   "cell_type": "code",
   "execution_count": null,
   "id": "051ea2ad",
   "metadata": {},
   "outputs": [],
   "source": [
    "p_value\n",
    "\n",
    "alpha = 0.05\n",
    "\n",
    "if p_value < alpha:\n",
    "    print(\"Reject the null hypothesis: There is a significant difference in F1 scores between the two models.\")\n",
    "else:\n",
    "    print(\"Fail to reject the null hypothesis: No significant difference in F1 scores between the two models.\")"
   ]
  },
  {
   "cell_type": "code",
   "execution_count": null,
   "id": "cf526f3d",
   "metadata": {},
   "outputs": [],
   "source": [
    "#light gbm and random forest "
   ]
  },
  {
   "cell_type": "code",
   "execution_count": null,
   "id": "16d2d63e",
   "metadata": {},
   "outputs": [],
   "source": [
    "\n",
    "model_lgbm = y_pred_rd_lgb\n",
    "\n",
    "model_rf = y_pred_rf_rd"
   ]
  },
  {
   "cell_type": "code",
   "execution_count": null,
   "id": "dcd23495",
   "metadata": {},
   "outputs": [],
   "source": [
    "print(np.var(model_lgbm),np.var(model_rf))\n"
   ]
  },
  {
   "cell_type": "code",
   "execution_count": null,
   "id": "a72af61a",
   "metadata": {},
   "outputs": [],
   "source": [
    "t_statistic, p_value = stats.ttest_ind(model_lgbm, model_rf,equal_var=True)\n",
    "\n",
    "t_statistic"
   ]
  },
  {
   "cell_type": "code",
   "execution_count": null,
   "id": "5e698aff",
   "metadata": {
    "scrolled": true
   },
   "outputs": [],
   "source": [
    "t_statistic"
   ]
  },
  {
   "cell_type": "code",
   "execution_count": null,
   "id": "4222b523",
   "metadata": {},
   "outputs": [],
   "source": [
    "p_value"
   ]
  },
  {
   "cell_type": "code",
   "execution_count": null,
   "id": "173daa46",
   "metadata": {},
   "outputs": [],
   "source": [
    "p_value\n",
    "\n",
    "alpha = 0.05\n",
    "\n",
    "if p_value < alpha:\n",
    "    print(\"Reject the null hypothesis: There is a significant difference in F1 scores between the two models.\")\n",
    "else:\n",
    "    print(\"Fail to reject the null hypothesis: No significant difference in F1 scores between the two models.\")"
   ]
  },
  {
   "cell_type": "code",
   "execution_count": null,
   "id": "8f1071a4",
   "metadata": {},
   "outputs": [],
   "source": []
  },
  {
   "cell_type": "code",
   "execution_count": null,
   "id": "bfabebf2",
   "metadata": {},
   "outputs": [],
   "source": [
    "#light gbm and gradient boosting"
   ]
  },
  {
   "cell_type": "code",
   "execution_count": null,
   "id": "59aa0d8b",
   "metadata": {},
   "outputs": [],
   "source": [
    "\n",
    "model_lgbm = y_pred_rd_lgb\n",
    "\n",
    "model_gb =y_pred_gbc_rd1"
   ]
  },
  {
   "cell_type": "code",
   "execution_count": null,
   "id": "7afb0af4",
   "metadata": {},
   "outputs": [],
   "source": [
    "print(np.var(model_lgbm),np.var(model_gb))\n"
   ]
  },
  {
   "cell_type": "code",
   "execution_count": null,
   "id": "a5d70ecb",
   "metadata": {},
   "outputs": [],
   "source": [
    "t_statistic, p_value = stats.ttest_ind(model_lgbm, model_gb,equal_var=True)\n",
    "\n",
    "t_statistic"
   ]
  },
  {
   "cell_type": "code",
   "execution_count": null,
   "id": "be2b250c",
   "metadata": {},
   "outputs": [],
   "source": [
    "t_statistic"
   ]
  },
  {
   "cell_type": "code",
   "execution_count": null,
   "id": "9eb55b4d",
   "metadata": {},
   "outputs": [],
   "source": [
    "p_value"
   ]
  },
  {
   "cell_type": "code",
   "execution_count": null,
   "id": "9c2bfe23",
   "metadata": {},
   "outputs": [],
   "source": [
    "p_value\n",
    "\n",
    "alpha = 0.05\n",
    "\n",
    "if p_value < alpha:\n",
    "    print(\"Reject the null hypothesis: There is a significant difference in F1 scores between the two models.\")\n",
    "else:\n",
    "    print(\"Fail to reject the null hypothesis: No significant difference in F1 scores between the two models.\")"
   ]
  },
  {
   "cell_type": "code",
   "execution_count": null,
   "id": "b0ad7286",
   "metadata": {},
   "outputs": [],
   "source": []
  },
  {
   "cell_type": "code",
   "execution_count": null,
   "id": "c186fd2d",
   "metadata": {},
   "outputs": [],
   "source": [
    "#random forest and gradient boosting "
   ]
  },
  {
   "cell_type": "code",
   "execution_count": null,
   "id": "a575eac5",
   "metadata": {},
   "outputs": [],
   "source": [
    "\n",
    "model_rf = y_pred_rf_rd\n",
    "\n",
    "model_gb =y_pred_gbc_rd1"
   ]
  },
  {
   "cell_type": "code",
   "execution_count": null,
   "id": "967c40e5",
   "metadata": {},
   "outputs": [],
   "source": [
    "print(np.var(model_rf),np.var(model_gb))"
   ]
  },
  {
   "cell_type": "code",
   "execution_count": null,
   "id": "99132030",
   "metadata": {},
   "outputs": [],
   "source": [
    "t_statistic, p_value = stats.ttest_ind(model_rf, model_gb,equal_var=True)\n",
    "\n",
    "t_statistic"
   ]
  },
  {
   "cell_type": "code",
   "execution_count": null,
   "id": "dc7557e5",
   "metadata": {},
   "outputs": [],
   "source": [
    "t_statistic"
   ]
  },
  {
   "cell_type": "code",
   "execution_count": null,
   "id": "d38a2825",
   "metadata": {},
   "outputs": [],
   "source": [
    "p_value"
   ]
  },
  {
   "cell_type": "code",
   "execution_count": null,
   "id": "b47751d4",
   "metadata": {},
   "outputs": [],
   "source": [
    "model_gb"
   ]
  },
  {
   "cell_type": "code",
   "execution_count": null,
   "id": "1428bd3a",
   "metadata": {},
   "outputs": [],
   "source": [
    "alpha = 0.05\n",
    "\n",
    "if p_value < alpha:\n",
    "    print(\"Reject the null hypothesis: There is a significant difference in F1 scores between the two models.\")\n",
    "else:\n",
    "    print(\"Fail to reject the null hypothesis: No significant difference in F1 scores between the two models.\")"
   ]
  },
  {
   "cell_type": "code",
   "execution_count": null,
   "id": "081dd037",
   "metadata": {},
   "outputs": [],
   "source": [
    "#SMOTE treated "
   ]
  },
  {
   "cell_type": "code",
   "execution_count": null,
   "id": "7058270d",
   "metadata": {},
   "outputs": [],
   "source": [
    "model_lgb = y_pred_rd_lgb_sm\n",
    "\n",
    "model_rf =sm_rd_rf_pred\n"
   ]
  },
  {
   "cell_type": "code",
   "execution_count": null,
   "id": "ef6ef0c5",
   "metadata": {},
   "outputs": [],
   "source": [
    "print(np.var(model_lgb),np.var(model_rf))\n"
   ]
  },
  {
   "cell_type": "code",
   "execution_count": null,
   "id": "d964bd30",
   "metadata": {},
   "outputs": [],
   "source": [
    "t_statistic, p_value = stats.ttest_ind(model_lgb, model_rf,equal_var=True)\n"
   ]
  },
  {
   "cell_type": "code",
   "execution_count": null,
   "id": "92c60cf4",
   "metadata": {},
   "outputs": [],
   "source": [
    "t_statistic\n",
    "\n"
   ]
  },
  {
   "cell_type": "code",
   "execution_count": null,
   "id": "d2adbab9",
   "metadata": {},
   "outputs": [],
   "source": [
    "p_value\n"
   ]
  },
  {
   "cell_type": "code",
   "execution_count": null,
   "id": "f987927c",
   "metadata": {},
   "outputs": [],
   "source": [
    "\n",
    "alpha = 0.05\n",
    "\n",
    "if p_value < alpha:\n",
    "    print(\"Reject the null hypothesis: There is a significant difference in F1 scores between the two models.\")\n",
    "else:\n",
    "    print(\"Fail to reject the null hypothesis: No significant difference in F1 scores between the two models.\")"
   ]
  },
  {
   "cell_type": "markdown",
   "id": "4100e6d6",
   "metadata": {},
   "source": [
    "# Below code can be igniored\n",
    "## Full SMote dataset"
   ]
  },
  {
   "cell_type": "code",
   "execution_count": null,
   "id": "366b3183",
   "metadata": {},
   "outputs": [],
   "source": [
    "#full smote datasete "
   ]
  },
  {
   "cell_type": "code",
   "execution_count": null,
   "id": "0d076efd",
   "metadata": {},
   "outputs": [],
   "source": [
    "#Smote"
   ]
  },
  {
   "cell_type": "code",
   "execution_count": null,
   "id": "665aed6a",
   "metadata": {},
   "outputs": [],
   "source": [
    "Bankdataset_SMT_1_sm.columns"
   ]
  },
  {
   "cell_type": "code",
   "execution_count": null,
   "id": "cb5594ce",
   "metadata": {},
   "outputs": [],
   "source": [
    "Bankdataset_SMT_1_sm.shape"
   ]
  },
  {
   "cell_type": "code",
   "execution_count": null,
   "id": "b8fd9a63",
   "metadata": {},
   "outputs": [],
   "source": [
    "sm_x_train, sm_x_test, sm_y_train, sm_y_test = train_test_split(Bankdataset_SMT_1_sm, y_sm, test_size = 0.3, random_state = 1, shuffle = True)"
   ]
  },
  {
   "cell_type": "code",
   "execution_count": null,
   "id": "dc1b8303",
   "metadata": {},
   "outputs": [],
   "source": [
    "sm_x_train.shape, sm_x_test.shape, sm_y_train.shape, sm_y_test.shape"
   ]
  },
  {
   "cell_type": "code",
   "execution_count": null,
   "id": "406a6db1",
   "metadata": {},
   "outputs": [],
   "source": [
    "#smote Logistic full data"
   ]
  },
  {
   "cell_type": "code",
   "execution_count": null,
   "id": "948ff1a2",
   "metadata": {},
   "outputs": [],
   "source": [
    "lreg_sm = LogisticRegression()\n",
    "lreg_sm.fit(sm_x_train, sm_y_train)"
   ]
  },
  {
   "cell_type": "code",
   "execution_count": null,
   "id": "61b1054e",
   "metadata": {},
   "outputs": [],
   "source": [
    "y_pred_sm = lreg_sm.predict(sm_x_test)"
   ]
  },
  {
   "cell_type": "code",
   "execution_count": null,
   "id": "ff075d3f",
   "metadata": {},
   "outputs": [],
   "source": [
    "print ('Accuracy: ', accuracy_score(sm_y_test, y_pred_sm))\n",
    "print ('F1 score: ', f1_score(sm_y_test, y_pred_sm))\n",
    "print ('Recall: ', recall_score(sm_y_test, y_pred_sm))\n",
    "print ('Precision: ', precision_score(sm_y_test, y_pred_sm))\n",
    "print ('\\n clasification report:\\n', classification_report(sm_y_test,y_pred_sm))\n",
    "print ('\\n confussion matrix:\\n',confusion_matrix(sm_y_test, y_pred_sm))\n",
    "print('Roc Auc Score: ', roc_auc_score(sm_y_test, y_pred_sm))"
   ]
  },
  {
   "cell_type": "code",
   "execution_count": null,
   "id": "f3123686",
   "metadata": {},
   "outputs": [],
   "source": [
    "#knn\n",
    "knn_sm = KNeighborsClassifier()\n",
    "scores_sm = cross_val_score(knn_sm, sm_x_train, sm_y_train, cv = 10)\n",
    "scores_sm"
   ]
  },
  {
   "cell_type": "code",
   "execution_count": null,
   "id": "b5fe5529",
   "metadata": {},
   "outputs": [],
   "source": [
    "knn_modl_sm = knn_sm.fit(sm_x_train, sm_y_train)"
   ]
  },
  {
   "cell_type": "code",
   "execution_count": null,
   "id": "e5da9dfe",
   "metadata": {},
   "outputs": [],
   "source": [
    "y_pred_knn_sm = knn_sm.predict(sm_x_test.values)\n",
    "\n",
    "print('Confusion Matrix: ')\n",
    "print(confusion_matrix(sm_y_test, y_pred_knn_sm))\n",
    "\n",
    "print('Classification Report: ')\n",
    "print(classification_report(sm_y_test, y_pred_knn_sm))\n",
    "\n",
    "print('Accuracy: ', accuracy_score(sm_y_test, y_pred_knn_sm))\n",
    "print('Roc Auc Score: ', roc_auc_score(sm_y_test, y_pred_knn_sm))\n",
    "\n",
    "print ('F1 score: ', f1_score(sm_y_test, y_pred_knn_sm))\n",
    "print ('Recall: ', recall_score(sm_y_test, y_pred_knn_sm))\n",
    "print ('Precision: ', precision_score(sm_y_test, y_pred_knn_sm))\n"
   ]
  },
  {
   "cell_type": "code",
   "execution_count": null,
   "id": "7b7cdced",
   "metadata": {},
   "outputs": [],
   "source": [
    "dt_sm = DecisionTreeClassifier()\n",
    "scores_sm = cross_val_score(dt, sm_x_train, sm_y_train, cv = 5)\n",
    "scores_sm"
   ]
  },
  {
   "cell_type": "code",
   "execution_count": null,
   "id": "74b70a09",
   "metadata": {},
   "outputs": [],
   "source": [
    "dt_sm_md = dt_sm.fit(sm_x_train,  sm_y_train)"
   ]
  },
  {
   "cell_type": "code",
   "execution_count": null,
   "id": "7cf85f1e",
   "metadata": {},
   "outputs": [],
   "source": [
    "y_pred_dt1_sm = dt_sm_md.predict(sm_x_test)\n",
    "print('Roc Auc Score: ', roc_auc_score(sm_y_test, y_pred_dt1_sm))\n",
    "\n",
    "print('Confusion Matrix: ')\n",
    "print(confusion_matrix(sm_y_test, y_pred_dt1_sm))\n",
    "\n",
    "print('Classification Report: ')\n",
    "print(classification_report(sm_y_test, y_pred_dt1_sm))\n",
    "\n",
    "print('Accuracy: ', accuracy_score(sm_y_test, y_pred_dt1_sm))"
   ]
  },
  {
   "cell_type": "code",
   "execution_count": null,
   "id": "9fdbe790",
   "metadata": {},
   "outputs": [],
   "source": [
    "#random forest with smote"
   ]
  },
  {
   "cell_type": "code",
   "execution_count": null,
   "id": "44497ad9",
   "metadata": {},
   "outputs": [],
   "source": [
    "rf_sm = RandomForestClassifier()\n",
    "scores_sm = cross_val_score(rf_sm, sm_x_train, sm_y_train, cv = 10)\n",
    "scores_sm"
   ]
  },
  {
   "cell_type": "code",
   "execution_count": null,
   "id": "e7e0a6f1",
   "metadata": {},
   "outputs": [],
   "source": [
    "rf_sm.fit(sm_x_train, sm_y_train)"
   ]
  },
  {
   "cell_type": "code",
   "execution_count": null,
   "id": "c24be87e",
   "metadata": {},
   "outputs": [],
   "source": [
    "y_pred_rf_sm = rf_sm.predict(sm_x_test)\n",
    "\n",
    "print('Roc Auc Score: ', roc_auc_score(sm_y_test, y_pred_rf_sm))\n",
    "\n",
    "print('Confusion Matrix: ')\n",
    "print(confusion_matrix(sm_y_test, y_pred_rf_sm))\n",
    "\n",
    "print('Classification Report: ')\n",
    "print(classification_report(sm_y_test, y_pred_rf_sm))\n",
    "\n",
    "print('Accuracy: ', accuracy_score(sm_y_test, y_pred_rf_sm))"
   ]
  },
  {
   "cell_type": "code",
   "execution_count": null,
   "id": "86bcffae",
   "metadata": {},
   "outputs": [],
   "source": [
    "rf_sm.get_params()"
   ]
  },
  {
   "cell_type": "code",
   "execution_count": null,
   "id": "f0fda696",
   "metadata": {},
   "outputs": [],
   "source": [
    "imp_df = pd.DataFrame({\n",
    "    \"Varname\": sm_x_train.columns,\n",
    "    \"Imp\": rf_sm.feature_importances_\n",
    "})"
   ]
  },
  {
   "cell_type": "code",
   "execution_count": null,
   "id": "ea2b73ae",
   "metadata": {},
   "outputs": [],
   "source": [
    "imp_df.sort_values(by=\"Imp\", ascending=False)"
   ]
  },
  {
   "cell_type": "code",
   "execution_count": null,
   "id": "ec81ac44",
   "metadata": {},
   "outputs": [],
   "source": [
    "#Boosting with smote"
   ]
  },
  {
   "cell_type": "code",
   "execution_count": null,
   "id": "ef061ffc",
   "metadata": {},
   "outputs": [],
   "source": [
    "gbc_sm = GradientBoostingClassifier()\n",
    "scores_sm = cross_val_score(gbc_sm, sm_x_train, sm_y_train, cv = 10)\n",
    "scores_sm"
   ]
  },
  {
   "cell_type": "code",
   "execution_count": null,
   "id": "2122c44e",
   "metadata": {},
   "outputs": [],
   "source": [
    "gbc_sm_mdl = gbc_sm.fit(sm_x_train, np.ravel(sm_y_train))"
   ]
  },
  {
   "cell_type": "code",
   "execution_count": null,
   "id": "21ba531f",
   "metadata": {},
   "outputs": [],
   "source": [
    "y_pred_gbc_sm = gbc_sm_mdl.predict(sm_x_test)\n",
    "\n",
    "print('Roc Auc Score: ', roc_auc_score(sm_y_test, y_pred_gbc_sm))\n",
    "\n",
    "print('Confusion Matrix: ')\n",
    "print(confusion_matrix(sm_y_test, y_pred_gbc_sm))\n",
    "\n",
    "print('Classification Report: ')\n",
    "print(classification_report(sm_y_test, y_pred_gbc_sm))\n",
    "\n",
    "print('Accuracy: ', accuracy_score(sm_y_test, y_pred_gbc_sm))"
   ]
  },
  {
   "cell_type": "markdown",
   "id": "54bb22d3",
   "metadata": {},
   "source": [
    "# adaboost reduced"
   ]
  },
  {
   "cell_type": "code",
   "execution_count": null,
   "id": "9980233e",
   "metadata": {},
   "outputs": [],
   "source": [
    "#Catboost , adaboost,lightgbm"
   ]
  },
  {
   "cell_type": "code",
   "execution_count": null,
   "id": "a55c9314",
   "metadata": {},
   "outputs": [],
   "source": [
    "# Create adaboost classifer object\n",
    "adaboost_sm = AdaBoostClassifier(n_estimators=50,\n",
    "                         learning_rate=1)\n",
    "# Train Adaboost Classifer\n",
    "model_sm = adaboost_sm.fit(sm_x_train, sm_y_train)\n",
    "\n",
    "#Predict the response for test dataset\n",
    "y_pred_sm_ada = model_sm.predict(sm_x_test)"
   ]
  },
  {
   "cell_type": "code",
   "execution_count": null,
   "id": "ed9c517e",
   "metadata": {},
   "outputs": [],
   "source": [
    "print('Confusion Matrix: ')\n",
    "print(confusion_matrix(sm_y_test, y_pred_sm_ada))\n",
    "\n",
    "print('Classification Report: ')\n",
    "print(classification_report(sm_y_test, y_pred_sm_ada))\n",
    "\n",
    "print('Accuracy: ', accuracy_score(sm_y_test, y_pred_sm_ada))\n",
    "\n",
    "print ('F1 score: ', f1_score(sm_y_test, y_pred_sm_ada))\n",
    "\n",
    "print('Roc Auc Score: ', roc_auc_score(sm_y_test, y_pred_sm_ada))\n",
    "\n",
    "print ('Recall: ', recall_score(sm_y_test, y_pred_sm_ada))\n",
    "print ('Precision: ', precision_score(sm_y_test, y_pred_sm_ada))"
   ]
  },
  {
   "cell_type": "markdown",
   "id": "9df0d95c",
   "metadata": {},
   "source": [
    "# Light GBM reduced"
   ]
  },
  {
   "cell_type": "code",
   "execution_count": null,
   "id": "884f694e",
   "metadata": {},
   "outputs": [],
   "source": [
    "#lightgbm"
   ]
  },
  {
   "cell_type": "code",
   "execution_count": null,
   "id": "f044ccef",
   "metadata": {},
   "outputs": [],
   "source": [
    "lgbm_rd = lgb.LGBMClassifier()\n",
    "lgbm_rd.fit(X_train_rd, y_train_rd)"
   ]
  },
  {
   "cell_type": "code",
   "execution_count": null,
   "id": "cf5a56d5",
   "metadata": {},
   "outputs": [],
   "source": [
    "y_pred_rd_lgb=lgbm_rd.predict(X_test_rd)"
   ]
  },
  {
   "cell_type": "code",
   "execution_count": null,
   "id": "8a2a707f",
   "metadata": {},
   "outputs": [],
   "source": [
    "accuracy=accuracy_score(y_pred_rd_lgb, y_test_rd)\n",
    "print('LightGBM Model accuracy score: {0:0.4f}'.format(accuracy_score(y_test_rd, y_pred_rd_lgb)))"
   ]
  },
  {
   "cell_type": "code",
   "execution_count": null,
   "id": "b3c25e7a",
   "metadata": {},
   "outputs": [],
   "source": [
    "y_pred_train_rd = lgbm_rd.predict(X_train_rd)"
   ]
  },
  {
   "cell_type": "code",
   "execution_count": null,
   "id": "f81e2d26",
   "metadata": {},
   "outputs": [],
   "source": [
    "print('Training-set accuracy score: {0:0.4f}'. format(accuracy_score(y_train_rd, y_pred_train_rd)))"
   ]
  },
  {
   "cell_type": "code",
   "execution_count": null,
   "id": "bfdc60a7",
   "metadata": {},
   "outputs": [],
   "source": [
    "cm_rd = confusion_matrix(y_test_rd, y_pred_rd_lgb)\n",
    "print('Confusion matrix\\n\\n', cm_rd)\n",
    "print('\\nTrue Positives(TP) = ', cm_rd[0,0])\n",
    "print('\\nTrue Negatives(TN) = ', cm_rd[1,1])\n",
    "print('\\nFalse Positives(FP) = ', cm_rd[0,1])\n",
    "print('\\nFalse Negatives(FN) = ', cm_rd[1,0])"
   ]
  },
  {
   "cell_type": "code",
   "execution_count": null,
   "id": "38f4fc9a",
   "metadata": {},
   "outputs": [],
   "source": [
    "print('Confusion Matrix: ')\n",
    "print(confusion_matrix(y_test_rd, y_pred_rd_lgb))\n",
    "\n",
    "print('Classification Report: ')\n",
    "print(classification_report(y_test_rd, y_pred_rd_lgb))\n",
    "\n",
    "print('Accuracy: ', accuracy_score(y_test_rd, y_pred_rd_lgb))\n",
    "\n",
    "print ('F1 score: ', f1_score(y_test_rd, y_pred_rd_lgb))\n",
    "\n",
    "print('Roc Auc Score: ', roc_auc_score(y_test_rd, y_pred_rd_lgb))\n",
    "\n",
    "print ('Recall: ', recall_score(y_test_rd, y_pred_rd_lgb))\n",
    "print ('Precision: ', precision_score(y_test_rd, y_pred_rd_lgb))"
   ]
  },
  {
   "cell_type": "markdown",
   "id": "f9cc2b1a",
   "metadata": {},
   "source": [
    "# catboost reduced"
   ]
  },
  {
   "cell_type": "code",
   "execution_count": null,
   "id": "7c0935a1",
   "metadata": {},
   "outputs": [],
   "source": [
    "from catboost import CatBoostClassifier"
   ]
  },
  {
   "cell_type": "code",
   "execution_count": null,
   "id": "9c53e012",
   "metadata": {},
   "outputs": [],
   "source": [
    "model_rd = CatBoostClassifier(iterations=50, depth=3, learning_rate=0.1, loss_function='Logloss')"
   ]
  },
  {
   "cell_type": "code",
   "execution_count": null,
   "id": "ee2e6046",
   "metadata": {},
   "outputs": [],
   "source": [
    "model_rd.fit(X_train_rd, y_train_rd)"
   ]
  },
  {
   "cell_type": "code",
   "execution_count": null,
   "id": "91e6ab23",
   "metadata": {},
   "outputs": [],
   "source": [
    "predictions_rd = model_rd.predict(X_test_rd)"
   ]
  },
  {
   "cell_type": "code",
   "execution_count": null,
   "id": "4d83815f",
   "metadata": {},
   "outputs": [],
   "source": [
    "feature_importance_rd = model_rd.feature_importances_\n",
    "print(\"Feature Importance:\", feature_importance_rd)"
   ]
  },
  {
   "cell_type": "code",
   "execution_count": null,
   "id": "e9cb0624",
   "metadata": {},
   "outputs": [],
   "source": [
    "print('Confusion Matrix: ')\n",
    "print(confusion_matrix(y_test_rd, predictions_rd))\n",
    "\n",
    "print('Classification Report: ')\n",
    "print(classification_report(y_test_rd, predictions_rd))\n",
    "\n",
    "print('Accuracy: ', accuracy_score(y_test_rd, predictions_rd))\n",
    "print ('F1 score: ', f1_score(y_test_rd, predictions_rd))\n",
    "print('Roc Auc Score: ', roc_auc_score(y_test_rd, predictions_rd))\n",
    "\n"
   ]
  },
  {
   "cell_type": "code",
   "execution_count": null,
   "id": "8c45fb9c",
   "metadata": {},
   "outputs": [],
   "source": []
  },
  {
   "cell_type": "markdown",
   "id": "3c0caa8f",
   "metadata": {},
   "source": [
    "# Ann redcued"
   ]
  },
  {
   "cell_type": "code",
   "execution_count": null,
   "id": "ebf4e1ab",
   "metadata": {},
   "outputs": [],
   "source": [
    "#ANN"
   ]
  },
  {
   "cell_type": "code",
   "execution_count": null,
   "id": "b76c6d1f",
   "metadata": {},
   "outputs": [],
   "source": [
    "ann_rd = tf.keras.models.Sequential()"
   ]
  },
  {
   "cell_type": "code",
   "execution_count": null,
   "id": "d1b4fbd6",
   "metadata": {},
   "outputs": [],
   "source": [
    "ann_rd.add(tf.keras.layers.Dense(units=6, activation='relu'))"
   ]
  },
  {
   "cell_type": "code",
   "execution_count": null,
   "id": "d185b4ce",
   "metadata": {},
   "outputs": [],
   "source": [
    "ann_rd.add(tf.keras.layers.Dense(units=6, activation='relu'))"
   ]
  },
  {
   "cell_type": "code",
   "execution_count": null,
   "id": "43905823",
   "metadata": {},
   "outputs": [],
   "source": [
    "ann_rd.add(tf.keras.layers.Dense(units=6, activation='relu'))"
   ]
  },
  {
   "cell_type": "code",
   "execution_count": null,
   "id": "0d35d155",
   "metadata": {},
   "outputs": [],
   "source": [
    "ann_rd.add(tf.keras.layers.Dense(units=1, activation='sigmoid'))"
   ]
  },
  {
   "cell_type": "code",
   "execution_count": null,
   "id": "d6985634",
   "metadata": {},
   "outputs": [],
   "source": [
    "ann_rd.compile(optimizer = 'adam', loss = 'binary_crossentropy', metrics = ['accuracy'])"
   ]
  },
  {
   "cell_type": "code",
   "execution_count": null,
   "id": "1a767219",
   "metadata": {},
   "outputs": [],
   "source": [
    "ann_rd.fit(X_train_rd, y_train_rd, batch_size = 128, epochs = 100)"
   ]
  },
  {
   "cell_type": "code",
   "execution_count": null,
   "id": "3f3347c8",
   "metadata": {},
   "outputs": [],
   "source": [
    "y_pred_n_rd = ann_rd.predict(X_test_rd)\n",
    "y_pred_n_rd = (y_pred_n_rd > 0.5)\n",
    "#print(np.concatenate((y_pred.reshape(len(y_pred),1), y_test.reshape(len(y_test),1)),1))"
   ]
  },
  {
   "cell_type": "code",
   "execution_count": null,
   "id": "68f4e4c9",
   "metadata": {},
   "outputs": [],
   "source": [
    "print('Roc Auc Score: ', roc_auc_score(y_test_rd, y_pred_n_rd))\n",
    "\n",
    "print('Confusion Matrix: ')\n",
    "print(confusion_matrix(y_test_rd, y_pred_n_rd))\n",
    "\n",
    "print('Classification Report: ')\n",
    "print(classification_report(y_test_rd, y_pred_n_rd))\n",
    "\n",
    "print('Accuracy: ', accuracy_score(y_test_rd, y_pred_n_rd))\n",
    "\n",
    "print ('F1 score: ', f1_score(y_test_rd, y_pred_n_rd))\n",
    "print ('Recall: ', recall_score(y_test_rd, y_pred_n_rd))\n",
    "print ('Precision: ', precision_score(y_test_rd, y_pred_n_rd))"
   ]
  },
  {
   "cell_type": "code",
   "execution_count": null,
   "id": "ef2aa0b7",
   "metadata": {},
   "outputs": [],
   "source": [
    "# import matplotlib.pyplot as plt\n",
    "# fpr, tpr, thresholds = roc_curve(y_true, y_pred_proba)"
   ]
  },
  {
   "cell_type": "markdown",
   "id": "cf019388",
   "metadata": {},
   "source": [
    "# Cart reducedd"
   ]
  },
  {
   "cell_type": "code",
   "execution_count": null,
   "id": "3fa206ad",
   "metadata": {},
   "outputs": [],
   "source": [
    "# cart_model_rd = DecisionTreeClassifier(random_state=10).fit(X_train_rd, y_train_rd)"
   ]
  },
  {
   "cell_type": "code",
   "execution_count": null,
   "id": "c85fbf10",
   "metadata": {},
   "outputs": [],
   "source": [
    "# y_pred_rd_ct = cart_model_rd.predict(X_test_rd)\n"
   ]
  },
  {
   "cell_type": "code",
   "execution_count": null,
   "id": "da0512c2",
   "metadata": {},
   "outputs": [],
   "source": [
    "# print('Confusion Matrix: ')\n",
    "# print(confusion_matrix(y_test_rd, y_pred_rd_ct))\n",
    "\n",
    "# print('Classification Report: ')\n",
    "# print(classification_report(y_test_rd, y_pred_rd_ct))\n",
    "\n",
    "# print('Accuracy: ', accuracy_score(y_test_rd, y_pred_rd_ct))\n",
    "\n",
    "# print ('F1 score: ', f1_score(y_test_rd, y_pred_rd_ct))\n",
    "\n",
    "# print('Roc Auc Score: ', roc_auc_score(y_test_rd, y_pred_rd_ct))\n",
    "\n",
    "# print ('Recall: ', recall_score(y_test_rd, y_pred_rd_ct))\n",
    "# print ('Precision: ', precision_score(y_test_rd, y_pred_rd_ct))"
   ]
  },
  {
   "cell_type": "code",
   "execution_count": null,
   "id": "7085e53f",
   "metadata": {},
   "outputs": [],
   "source": [
    "# y_prob_rd_ct = cart_model_rd.predict_proba(X_test_rd)[:, 1]"
   ]
  },
  {
   "cell_type": "code",
   "execution_count": null,
   "id": "53721778",
   "metadata": {},
   "outputs": [],
   "source": [
    "# imp_df.sort_values(by = 'Imp', ascending = False)"
   ]
  },
  {
   "cell_type": "code",
   "execution_count": null,
   "id": "9fb9fd90",
   "metadata": {},
   "outputs": [],
   "source": []
  },
  {
   "cell_type": "code",
   "execution_count": null,
   "id": "bac3b4df",
   "metadata": {
    "scrolled": true
   },
   "outputs": [],
   "source": [
    "# print ('Accuracy: ', accuracy_score(y_test, y_pred_ada))\n",
    "# print ('F1 score: ', f1_score(y_test, y_pred_ada))\n",
    "# print ('Recall: ', recall_score(y_test, y_pred_ada))\n",
    "# print ('Precision: ', precision_score(y_test, y_pred_ada))\n",
    "# print ('\\n clasification report:\\n', classification_report(y_test,y_pred_ada))\n",
    "# print ('\\n confussion matrix:\\n',confusion_matrix(y_test, y_pred_ada))"
   ]
  },
  {
   "cell_type": "code",
   "execution_count": null,
   "id": "d9a548f7",
   "metadata": {},
   "outputs": [],
   "source": [
    "# classifier = XGBClassifier(objective= 'binary:logistic')\n",
    "# classifier.fit(X_train_rd,y_train_rd)\n",
    "# y_pred_rd_x=classifier.predict(X_test_rd)\n",
    "# print(f\"Model Accuracy : {accuracy_score(y_test_rd,y_pred_rd_x)*100:.2f}%\")\n",
    "# print(f\"Model F1-Score : {f1_score(y_test_rd,y_pred_rd_x,average='weighted')*100:.2f}%\")\n",
    "# print('Roc Auc Score: ', roc_auc_score(y_test_rd, y_pred_rd_x))\n"
   ]
  },
  {
   "cell_type": "code",
   "execution_count": null,
   "id": "28d1e1a8",
   "metadata": {},
   "outputs": [],
   "source": [
    "# from sklearn.ensemble import StackingClassifier"
   ]
  },
  {
   "cell_type": "code",
   "execution_count": null,
   "id": "23f2d35c",
   "metadata": {},
   "outputs": [],
   "source": [
    "# estimators=[('logistic regression',LogisticRegression()),\n",
    "# #             ('Decision Classifier',DecisionTreeClassifier(criterion = 'entropy', random_state = 0)),\n",
    "#             ('random forest',RandomForestClassifier(n_estimators = 10, criterion = 'entropy', random_state = 0)),\n",
    "#             ('Xgboost',XGBClassifier())]"
   ]
  },
  {
   "cell_type": "code",
   "execution_count": null,
   "id": "f139d868",
   "metadata": {},
   "outputs": [],
   "source": [
    "# model=StackingClassifier(estimators=estimators,final_estimator=LogisticRegression(),passthrough=True)\n",
    "# model.fit(X_train_rd, y_train_rd)\n",
    "# y_pred=classifier.predict(X_test_rd)\n",
    "# print(f\"Model Accuracy : {accuracy_score(y_pred,y_test_rd)*100:.2f}%\")\n",
    "# print(f\"Model F1-Score : {f1_score(y_pred,y_test_rd,average='weighted')*100:.2f}%\")\n",
    "# accuracies = cross_val_score(estimator = classifier, X = X_train_rd, y = y_train_rd, cv = 5)\n",
    "# print(\"Cross Val Accuracy: {:.2f} %\".format(accuracies.mean()*100))\n",
    "# print(\"Cross Val Standard Deviation: {:.2f} %\".format(accuracies.std()*100))\n",
    "# print(classification_report(y_pred,y_test,zero_division=1))\n",
    "# #model_comparison['Stacking Regressor']=[accuracy_score(y_pred,y_test_rd),f1_score(y_pred,y_test_rd,average='weighted'),(accuracies.mean()),(accuracies.std())]"
   ]
  },
  {
   "cell_type": "code",
   "execution_count": null,
   "id": "bbad5092",
   "metadata": {},
   "outputs": [],
   "source": [
    "# print('Roc Auc Score: ', roc_auc_score(y_pred, y_test_rd))"
   ]
  },
  {
   "cell_type": "code",
   "execution_count": null,
   "id": "4259ca37",
   "metadata": {},
   "outputs": [],
   "source": []
  },
  {
   "cell_type": "code",
   "execution_count": null,
   "id": "a918587a",
   "metadata": {},
   "outputs": [],
   "source": [
    "#------------"
   ]
  },
  {
   "cell_type": "code",
   "execution_count": null,
   "id": "7f78752d",
   "metadata": {},
   "outputs": [],
   "source": [
    "# acc_model1 = accuracy_score(sm_rd_y_test, sm_rd_y_pred1)\n",
    "# acc_model2 = accuracy_score(sm_rd_y_test, y_pred_knn_sm_rd)\n",
    "# acc_model3 = accuracy_score(sm_rd_y_test, y_pred_dt1_sm_rd)\n",
    "# acc_model4 = accuracy_score(sm_rd_y_test, y_pred_smrd_ct)\n",
    "# acc_model5 = accuracy_score(sm_rd_y_test, sm_rd_rf_pred)\n",
    "# acc_model6 = accuracy_score(sm_rd_y_test, y_pred_gbc_sm_rd)\n",
    "# acc_model7 = accuracy_score(sm_rd_y_test, y_pred_rd_sm)\n",
    "# acc_model8 = accuracy_score(sm_rd_y_test, y_pred_rd_lgb_sm)\n",
    "# acc_model9 = accuracy_score(sm_rd_y_test, predictions_sm_rd)\n",
    "# acc_model10 = accuracy_score(sm_rd_y_test, y_pred_sm_rd)\n",
    "\n",
    "# print(\"CATBOOST\",\"|ANN|\")\n",
    "# print('Accuracy: ', acc_model1,acc_model2,acc_model3,acc_model4,acc_model5,acc_model6,acc_model7)\n"
   ]
  },
  {
   "cell_type": "code",
   "execution_count": null,
   "id": "3c1ac856",
   "metadata": {
    "scrolled": true
   },
   "outputs": [],
   "source": [
    "# pip install xgboost"
   ]
  },
  {
   "cell_type": "code",
   "execution_count": null,
   "id": "bd765f18",
   "metadata": {},
   "outputs": [],
   "source": [
    "# import xgboost as xgb"
   ]
  },
  {
   "cell_type": "code",
   "execution_count": null,
   "id": "88d5aed3",
   "metadata": {},
   "outputs": [],
   "source": [
    "# xgb_train = xgb.DMatrix(X_train_rd, y_train_rd, enable_categorical=True)\n",
    "# xgb_test = xgb.DMatrix(X_test_rd, y_test_rd, enable_categorical=True)"
   ]
  },
  {
   "cell_type": "code",
   "execution_count": null,
   "id": "232fa931",
   "metadata": {},
   "outputs": [],
   "source": [
    "# n=100\n",
    "# params = {\n",
    "#     'objective': 'binary:logistic',\n",
    "#     'max_depth': 10,\n",
    "#     'learning_rate': 0.1,\n",
    "# }\n",
    " \n",
    "# model = xgb.train(params=params,dtrain=xgb_train,num_boost_round=n)\n"
   ]
  },
  {
   "cell_type": "code",
   "execution_count": null,
   "id": "62e951e4",
   "metadata": {},
   "outputs": [],
   "source": [
    "# preds = model.predict(xgb_test)\n",
    "# preds = preds.astype(int)\n",
    "# accuracy= accuracy_score(y_test_rd,preds)\n"
   ]
  },
  {
   "cell_type": "code",
   "execution_count": null,
   "id": "b853ebce",
   "metadata": {},
   "outputs": [],
   "source": [
    "# print('Confusion Matrix: ')\n",
    "# print(confusion_matrix(y_test_rd, preds))\n",
    "\n",
    "# print('Classification Report: ')\n",
    "# print(classification_report(y_test_rd, preds))\n",
    "\n",
    "# print('Accuracy: ', accuracy_score(y_test_rd, preds))\n",
    "# print ('F1 score: ', f1_score(y_test_rd, preds))\n",
    "# print('Roc Auc Score: ', roc_auc_score(y_test_rd, preds))\n",
    "\n",
    "# print ('Recall: ', recall_score(y_test_rd, preds))\n",
    "# print ('Precision: ', precision_score(y_test_rd, preds))"
   ]
  },
  {
   "cell_type": "code",
   "execution_count": null,
   "id": "6fa7d736",
   "metadata": {},
   "outputs": [],
   "source": [
    "#-------------#"
   ]
  },
  {
   "cell_type": "code",
   "execution_count": null,
   "id": "0a02a4ac",
   "metadata": {},
   "outputs": [],
   "source": []
  },
  {
   "cell_type": "code",
   "execution_count": null,
   "id": "0becee03",
   "metadata": {},
   "outputs": [],
   "source": [
    "# Test_Bankdata_new_scaled=Bankdata_new_scaled.drop(['3'],axis=1)"
   ]
  },
  {
   "cell_type": "code",
   "execution_count": null,
   "id": "b494fe86",
   "metadata": {},
   "outputs": [],
   "source": [
    "# corelation_n_all = Test_Bankdata_new_scaled.corr() \n",
    "\n",
    "# cor_n_a = corelation_n_all.where(np.triu(np.ones(corelation_n_all.shape), k=1).astype(bool))\n",
    "# cor_n_a = cor_n_a.unstack().reset_index()\n",
    "# cor_n_a.columns = ['Var1', 'Var2', 'Correlation']\n",
    "# cor_n_a.dropna(subset = ['Correlation'], inplace = True)\n",
    "# cor_n_a['Correlation'] = round(cor_n_a['Correlation'], 2)\n",
    "# cor_n_a['Correlation'] = abs(cor_n_a['Correlation'])\n",
    "# cor_n_a.sort_values(by = 'Correlation', ascending = False).head(30)"
   ]
  },
  {
   "cell_type": "code",
   "execution_count": null,
   "id": "937ff178",
   "metadata": {},
   "outputs": [],
   "source": [
    "# Test1_Bankdata_new_scaled=Test_Bankdata_new_scaled.drop(['1'],axis=1)"
   ]
  },
  {
   "cell_type": "code",
   "execution_count": null,
   "id": "43e5defc",
   "metadata": {},
   "outputs": [],
   "source": [
    "# corelation_n_all = Test1_Bankdata_new_scaled.corr() \n",
    "\n",
    "# cor_n_a = corelation_n_all.where(np.triu(np.ones(corelation_n_all.shape), k=1).astype(bool))\n",
    "# cor_n_a = cor_n_a.unstack().reset_index()\n",
    "# cor_n_a.columns = ['Var1', 'Var2', 'Correlation']\n",
    "# cor_n_a.dropna(subset = ['Correlation'], inplace = True)\n",
    "# cor_n_a['Correlation'] = round(cor_n_a['Correlation'], 2)\n",
    "# cor_n_a['Correlation'] = abs(cor_n_a['Correlation'])\n",
    "# cor_n_a.sort_values(by = 'Correlation', ascending = False).head(30)"
   ]
  },
  {
   "cell_type": "code",
   "execution_count": null,
   "id": "bd72758c",
   "metadata": {},
   "outputs": [],
   "source": [
    "# Test2_Bankdata_new_scaled=Test1_Bankdata_new_scaled.drop(['NBMI12Month2'],axis=1)"
   ]
  },
  {
   "cell_type": "code",
   "execution_count": null,
   "id": "fce7400d",
   "metadata": {},
   "outputs": [],
   "source": [
    "# corelation_n_all = Test2_Bankdata_new_scaled.corr() \n",
    "\n",
    "# cor_n_a = corelation_n_all.where(np.triu(np.ones(corelation_n_all.shape), k=1).astype(bool))\n",
    "# cor_n_a = cor_n_a.unstack().reset_index()\n",
    "# cor_n_a.columns = ['Var1', 'Var2', 'Correlation']\n",
    "# cor_n_a.dropna(subset = ['Correlation'], inplace = True)\n",
    "# cor_n_a['Correlation'] = round(cor_n_a['Correlation'], 2)\n",
    "# cor_n_a['Correlation'] = abs(cor_n_a['Correlation'])\n",
    "# cor_n_a.sort_values(by = 'Correlation', ascending = False).head(30)"
   ]
  },
  {
   "cell_type": "code",
   "execution_count": null,
   "id": "8b184223",
   "metadata": {},
   "outputs": [],
   "source": [
    "# Test3_Bankdata_new_scaled=Test2_Bankdata_new_scaled.drop(['NBMI12Month1'],axis=1)"
   ]
  },
  {
   "cell_type": "code",
   "execution_count": null,
   "id": "32bc9373",
   "metadata": {},
   "outputs": [],
   "source": [
    "# corelation_n_all = Test3_Bankdata_new_scaled.corr() \n",
    "\n",
    "# cor_n_a = corelation_n_all.where(np.triu(np.ones(corelation_n_all.shape), k=1).astype(bool))\n",
    "# cor_n_a = cor_n_a.unstack().reset_index()\n",
    "# # cor_n_a.columns = ['Var1', 'Var2', 'Correlation']\n",
    "# cor_n_a.dropna(subset = ['Correlation'], inplace = True)\n",
    "# cor_n_a['Correlation'] = round(cor_n_a['Correlation'], 2)\n",
    "# cor_n_a['Correlation'] = abs(cor_n_a['Correlation'])\n",
    "# cor_n_a.sort_values(by = 'Correlation', ascending = False).head(30)"
   ]
  },
  {
   "cell_type": "code",
   "execution_count": null,
   "id": "14ec557c",
   "metadata": {},
   "outputs": [],
   "source": [
    "# Test4_Bankdata_new_scaled=Test3_Bankdata_new_scaled.drop(['0'],axis=1)"
   ]
  },
  {
   "cell_type": "code",
   "execution_count": null,
   "id": "99fca863",
   "metadata": {},
   "outputs": [],
   "source": [
    "# corelation_n_all = Test4_Bankdata_new_scaled.corr() \n",
    "\n",
    "# cor_n_a = corelation_n_all.where(np.triu(np.ones(corelation_n_all.shape), k=1).astype(bool))\n",
    "# cor_n_a = cor_n_a.unstack().reset_index()\n",
    "# cor_n_a.columns = ['Var1', 'Var2', 'Correlation']\n",
    "# cor_n_a.dropna(subset = ['Correlation'], inplace = True)\n",
    "# cor_n_a['Correlation'] = round(cor_n_a['Correlation'], 2)\n",
    "# cor_n_a['Correlation'] = abs(cor_n_a['Correlation'])\n",
    "# cor_n_a.sort_values(by = 'Correlation', ascending = False).head(30)"
   ]
  },
  {
   "cell_type": "code",
   "execution_count": null,
   "id": "7be1ba32",
   "metadata": {},
   "outputs": [],
   "source": [
    "# Test5_Bankdata_new_scaled=Test4_Bankdata_new_scaled.drop(['2'],axis=1)"
   ]
  },
  {
   "cell_type": "code",
   "execution_count": null,
   "id": "a5af9005",
   "metadata": {},
   "outputs": [],
   "source": [
    "# corelation_n_all = Test5_Bankdata_new_scaled.corr() \n",
    "\n",
    "# cor_n_a = corelation_n_all.where(np.triu(np.ones(corelation_n_all.shape), k=1).astype(bool))\n",
    "# cor_n_a = cor_n_a.unstack().reset_index()\n",
    "# cor_n_a.columns = ['Var1', 'Var2', 'Correlation']\n",
    "# cor_n_a.dropna(subset = ['Correlation'], inplace = True)\n",
    "# cor_n_a['Correlation'] = round(cor_n_a['Correlation'], 2)\n",
    "# cor_n_a['Correlation'] = abs(cor_n_a['Correlation'])\n",
    "# cor_n_a.sort_values(by = 'Correlation', ascending = False).head(30)"
   ]
  },
  {
   "cell_type": "code",
   "execution_count": null,
   "id": "ad681ee1",
   "metadata": {},
   "outputs": [],
   "source": [
    "# Test6_Bankdata_new_scaled=Test5_Bankdata_new_scaled.drop(['OpenBuyAvg'],axis=1)"
   ]
  },
  {
   "cell_type": "code",
   "execution_count": null,
   "id": "6e3a8db8",
   "metadata": {},
   "outputs": [],
   "source": [
    "# corelation_n_all = Test6_Bankdata_new_scaled.corr() \n",
    "\n",
    "# cor_n_a = corelation_n_all.where(np.triu(np.ones(corelation_n_all.shape), k=1).astype(bool))\n",
    "# cor_n_a = cor_n_a.unstack().reset_index()\n",
    "# cor_n_a.columns = ['Var1', 'Var2', 'Correlation']\n",
    "# cor_n_a.dropna(subset = ['Correlation'], inplace = True)\n",
    "# cor_n_a['Correlation'] = round(cor_n_a['Correlation'], 2)\n",
    "# cor_n_a['Correlation'] = abs(cor_n_a['Correlation'])\n",
    "# cor_n_a.sort_values(by = 'Correlation', ascending = False).head(30)"
   ]
  },
  {
   "cell_type": "code",
   "execution_count": null,
   "id": "3dad0325",
   "metadata": {},
   "outputs": [],
   "source": [
    "# Test7_Bankdata_new_scaled=Test6_Bankdata_new_scaled.drop(['Age'],axis=1)"
   ]
  },
  {
   "cell_type": "code",
   "execution_count": null,
   "id": "9f21e72a",
   "metadata": {},
   "outputs": [],
   "source": [
    "# corelation_n_all = Test7_Bankdata_new_scaled.corr() \n",
    "\n",
    "# cor_n_a = corelation_n_all.where(np.triu(np.ones(corelation_n_all.shape), k=1).astype(bool))\n",
    "# cor_n_a = cor_n_a.unstack().reset_index()\n",
    "# cor_n_a.columns = ['Var1', 'Var2', 'Correlation']\n",
    "# cor_n_a.dropna(subset = ['Correlation'], inplace = True)\n",
    "# cor_n_a['Correlation'] = round(cor_n_a['Correlation'], 2)\n",
    "# cor_n_a['Correlation'] = abs(cor_n_a['Correlation'])\n",
    "# cor_n_a.sort_values(by = 'Correlation', ascending = False).head(30)"
   ]
  },
  {
   "cell_type": "code",
   "execution_count": null,
   "id": "19ee127e",
   "metadata": {},
   "outputs": [],
   "source": [
    "# Test8_Bankdata_new_scaled=Test7_Bankdata_new_scaled.drop(['Trnsactions'],axis=1)"
   ]
  },
  {
   "cell_type": "code",
   "execution_count": null,
   "id": "065f8d57",
   "metadata": {},
   "outputs": [],
   "source": [
    "# corelation_n_all = Test8_Bankdata_new_scaled.corr() \n",
    "\n",
    "# cor_n_a = corelation_n_all.where(np.triu(np.ones(corelation_n_all.shape), k=1).astype(bool))\n",
    "# cor_n_a = cor_n_a.unstack().reset_index()\n",
    "# cor_n_a.columns = ['Var1', 'Var2', 'Correlation']\n",
    "# cor_n_a.dropna(subset = ['Correlation'], inplace = True)\n",
    "# cor_n_a['Correlation'] = round(cor_n_a['Correlation'], 2)\n",
    "# cor_n_a['Correlation'] = abs(cor_n_a['Correlation'])\n",
    "# cor_n_a.sort_values(by = 'Correlation', ascending = False).head(30)"
   ]
  },
  {
   "cell_type": "code",
   "execution_count": null,
   "id": "04d9dcc5",
   "metadata": {},
   "outputs": [],
   "source": [
    "# Test9_Bankdata_new_scaled=Test8_Bankdata_new_scaled.drop(['MonthBook'],axis=1)"
   ]
  },
  {
   "cell_type": "code",
   "execution_count": null,
   "id": "584899ba",
   "metadata": {},
   "outputs": [],
   "source": [
    "# corelation_n_all = Test9_Bankdata_new_scaled.corr() \n",
    "\n",
    "# cor_n_a = corelation_n_all.where(np.triu(np.ones(corelation_n_all.shape), k=1).astype(bool))\n",
    "# cor_n_a = cor_n_a.unstack().reset_index()\n",
    "# cor_n_a.columns = ['Var1', 'Var2', 'Correlation']\n",
    "# cor_n_a.dropna(subset = ['Correlation'], inplace = True)\n",
    "# cor_n_a['Correlation'] = round(cor_n_a['Correlation'], 2)\n",
    "# cor_n_a['Correlation'] = abs(cor_n_a['Correlation'])\n",
    "# cor_n_a.sort_values(by = 'Correlation', ascending = False).head(30)"
   ]
  },
  {
   "cell_type": "code",
   "execution_count": null,
   "id": "33e9a5c6",
   "metadata": {},
   "outputs": [],
   "source": [
    "# Test10_Bankdata_new_scaled=Test9_Bankdata_new_scaled.drop(['Util'],axis=1)"
   ]
  },
  {
   "cell_type": "code",
   "execution_count": null,
   "id": "39e784f1",
   "metadata": {},
   "outputs": [],
   "source": [
    "# corelation_n_all = Test10_Bankdata_new_scaled.corr() \n",
    "\n",
    "# cor_n_a = corelation_n_all.where(np.triu(np.ones(corelation_n_all.shape), k=1).astype(bool))\n",
    "# cor_n_a = cor_n_a.unstack().reset_index()\n",
    "# cor_n_a.columns = ['Var1', 'Var2', 'Correlation']\n",
    "# cor_n_a.dropna(subset = ['Correlation'], inplace = True)\n",
    "# cor_n_a['Correlation'] = round(cor_n_a['Correlation'], 2)\n",
    "# cor_n_a['Correlation'] = abs(cor_n_a['Correlation'])\n",
    "# cor_n_a.sort_values(by = 'Correlation', ascending = False).head(30)"
   ]
  },
  {
   "cell_type": "code",
   "execution_count": null,
   "id": "37b88144",
   "metadata": {},
   "outputs": [],
   "source": [
    "# Test11_Bankdata_new_scaled=Test10_Bankdata_new_scaled.drop(['Income'],axis=1)"
   ]
  },
  {
   "cell_type": "code",
   "execution_count": null,
   "id": "f9a1374e",
   "metadata": {},
   "outputs": [],
   "source": [
    "# corelation_n_all = Test11_Bankdata_new_scaled.corr() \n",
    "\n",
    "# cor_n_a = corelation_n_all.where(np.triu(np.ones(corelation_n_all.shape), k=1).astype(bool))\n",
    "# cor_n_a = cor_n_a.unstack().reset_index()\n",
    "# cor_n_a.columns = ['Var1', 'Var2', 'Correlation']\n",
    "# cor_n_a.dropna(subset = ['Correlation'], inplace = True)\n",
    "# cor_n_a['Correlation'] = round(cor_n_a['Correlation'], 2)\n",
    "# cor_n_a['Correlation'] = abs(cor_n_a['Correlation'])\n",
    "# cor_n_a.sort_values(by = 'Correlation', ascending = False).head(30)"
   ]
  },
  {
   "cell_type": "code",
   "execution_count": null,
   "id": "8fc7bacb",
   "metadata": {},
   "outputs": [],
   "source": [
    "# Test12_Bankdata_new_scaled=Test11_Bankdata_new_scaled.drop(['CreditLimit'],axis=1)"
   ]
  },
  {
   "cell_type": "code",
   "execution_count": null,
   "id": "56fc5a3d",
   "metadata": {},
   "outputs": [],
   "source": [
    "# corelation_n_all = Test12_Bankdata_new_scaled.corr() \n",
    "\n",
    "# cor_n_a = corelation_n_all.where(np.triu(np.ones(corelation_n_all.shape), k=1).astype(bool))\n",
    "# cor_n_a = cor_n_a.unstack().reset_index()\n",
    "# cor_n_a.columns = ['Var1', 'Var2', 'Correlation']\n",
    "# cor_n_a.dropna(subset = ['Correlation'], inplace = True)\n",
    "# cor_n_a['Correlation'] = round(cor_n_a['Correlation'], 2)\n",
    "# cor_n_a['Correlation'] = abs(cor_n_a['Correlation'])\n",
    "# cor_n_a.sort_values(by = 'Correlation', ascending = False).head(30)"
   ]
  },
  {
   "cell_type": "code",
   "execution_count": null,
   "id": "713f252f",
   "metadata": {},
   "outputs": [],
   "source": [
    "# Test13_Bankdata_new_scaled=Test12_Bankdata_new_scaled.drop(['TotalCountQ4'],axis=1)"
   ]
  },
  {
   "cell_type": "code",
   "execution_count": null,
   "id": "2ee0b11b",
   "metadata": {},
   "outputs": [],
   "source": [
    "# corelation_n_all = Test13_Bankdata_new_scaled.corr() \n",
    "\n",
    "# cor_n_a = corelation_n_all.where(np.triu(np.ones(corelation_n_all.shape), k=1).astype(bool))\n",
    "# cor_n_a = cor_n_a.unstack().reset_index()\n",
    "# cor_n_a.columns = ['Var1', 'Var2', 'Correlation']\n",
    "# cor_n_a.dropna(subset = ['Correlation'], inplace = True)\n",
    "# cor_n_a['Correlation'] = round(cor_n_a['Correlation'], 2)\n",
    "# cor_n_a['Correlation'] = abs(cor_n_a['Correlation'])\n",
    "# cor_n_a.sort_values(by = 'Correlation', ascending = False).head(30)"
   ]
  },
  {
   "cell_type": "code",
   "execution_count": null,
   "id": "1b8710f1",
   "metadata": {},
   "outputs": [],
   "source": [
    "# Test14_Bankdata_new_scaled=Test13_Bankdata_new_scaled.drop(['RevolvingBal'],axis=1)"
   ]
  },
  {
   "cell_type": "code",
   "execution_count": null,
   "id": "41d3ac48",
   "metadata": {},
   "outputs": [],
   "source": [
    "# corelation_n_all = Test14_Bankdata_new_scaled.corr() \n",
    "\n",
    "# cor_n_a = corelation_n_all.where(np.triu(np.ones(corelation_n_all.shape), k=1).astype(bool))\n",
    "# cor_n_a = cor_n_a.unstack().reset_index()\n",
    "# cor_n_a.columns = ['Var1', 'Var2', 'Correlation']\n",
    "# cor_n_a.dropna(subset = ['Correlation'], inplace = True)\n",
    "# cor_n_a['Correlation'] = round(cor_n_a['Correlation'], 2)\n",
    "# cor_n_a['Correlation'] = abs(cor_n_a['Correlation'])\n",
    "# cor_n_a.sort_values(by = 'Correlation', ascending = False).head(30)"
   ]
  },
  {
   "cell_type": "code",
   "execution_count": null,
   "id": "6745036f",
   "metadata": {},
   "outputs": [],
   "source": [
    "# Test15_Bankdata_new_scaled=Test14_Bankdata_new_scaled.drop(['CountTransaction'],axis=1)"
   ]
  },
  {
   "cell_type": "code",
   "execution_count": null,
   "id": "3bdd1eb8",
   "metadata": {},
   "outputs": [],
   "source": [
    "# corelation_n_all = Test15_Bankdata_new_scaled.corr() \n",
    "\n",
    "# cor_n_a = corelation_n_all.where(np.triu(np.ones(corelation_n_all.shape), k=1).astype(bool))\n",
    "# cor_n_a = cor_n_a.unstack().reset_index()\n",
    "# cor_n_a.columns = ['Var1', 'Var2', 'Correlation']\n",
    "# cor_n_a.dropna(subset = ['Correlation'], inplace = True)\n",
    "# cor_n_a['Correlation'] = round(cor_n_a['Correlation'], 2)\n",
    "# cor_n_a['Correlation'] = abs(cor_n_a['Correlation'])\n",
    "# cor_n_a.sort_values(by = 'Correlation', ascending = False).head(30)"
   ]
  },
  {
   "cell_type": "code",
   "execution_count": null,
   "id": "82b98938",
   "metadata": {},
   "outputs": [],
   "source": [
    "# Test15_Bankdata_new_scaled.shape"
   ]
  },
  {
   "cell_type": "code",
   "execution_count": null,
   "id": "1d9e38fc",
   "metadata": {},
   "outputs": [],
   "source": [
    "# Test15_Bankdata_new_scaled.columns"
   ]
  },
  {
   "cell_type": "code",
   "execution_count": null,
   "id": "dd7f69fe",
   "metadata": {},
   "outputs": [],
   "source": [
    "# Bankdata_new_scaled_reduced.columns"
   ]
  },
  {
   "cell_type": "code",
   "execution_count": null,
   "id": "252c6b3f",
   "metadata": {},
   "outputs": [],
   "source": []
  },
  {
   "cell_type": "code",
   "execution_count": null,
   "id": "22eab364",
   "metadata": {},
   "outputs": [],
   "source": [
    "# # Test15_X_scaled=Test15_Bankdata_new_scaled.drop(columns=['Target_new'])\n",
    "# Test15_y_scaled=Test15_Bankdata_new_scaled['Target_new']\n",
    "\n",
    "\n",
    "# Test15_X_train, Test15_X_test, Test15_y_train, Test15_y_test = train_test_split(Test15_X_scaled, Test15_y_scaled, test_size = 0.3, stratify = y )\n",
    "\n"
   ]
  },
  {
   "cell_type": "code",
   "execution_count": null,
   "id": "e4c7a832",
   "metadata": {},
   "outputs": [],
   "source": [
    "# Test15_y_train.shape"
   ]
  },
  {
   "cell_type": "code",
   "execution_count": null,
   "id": "147cb16b",
   "metadata": {},
   "outputs": [],
   "source": [
    "# Test15_X_train.shape"
   ]
  },
  {
   "cell_type": "code",
   "execution_count": null,
   "id": "35b1d57a",
   "metadata": {},
   "outputs": [],
   "source": [
    "# Test15_X_test.shape"
   ]
  },
  {
   "cell_type": "code",
   "execution_count": null,
   "id": "459b5f22",
   "metadata": {},
   "outputs": [],
   "source": [
    "# Test15_y_test.shape"
   ]
  },
  {
   "cell_type": "code",
   "execution_count": null,
   "id": "eb515042",
   "metadata": {},
   "outputs": [],
   "source": [
    "# Test15_lgbm_rd = lgb.LGBMClassifier()\n",
    "# Test15_lgbm_rd.fit(Test15_X_train, Test15_y_train)"
   ]
  },
  {
   "cell_type": "code",
   "execution_count": null,
   "id": "e3a2db05",
   "metadata": {},
   "outputs": [],
   "source": [
    "# Test15_y_pred_rd_lgb=Test15_lgbm_rd.predict(Test15_X_test)\n",
    "# print('Confusion Matrix: ')\n",
    "# print(confusion_matrix(Test15_y_test, Test15_y_pred_rd_lgb))\n",
    "\n",
    "# print('Classification Report: ')\n",
    "# print(classification_report(Test15_y_test, Test15_y_pred_rd_lgb))\n",
    "\n",
    "# print('Accuracy: ', accuracy_score(Test15_y_test, Test15_y_pred_rd_lgb))\n",
    "\n",
    "# print ('F1 score: ', f1_score(Test15_y_test, Test15_y_pred_rd_lgb))\n",
    "\n",
    "# print('Roc Auc Score: ', roc_auc_score(Test15_y_test, Test15_y_pred_rd_lgb))\n",
    "\n",
    "# print ('Recall: ', recall_score(Test15_y_test, Test15_y_pred_rd_lgb))\n",
    "# print ('Precision: ', precision_score(Test15_y_test, Test15_y_pred_rd_lgb))"
   ]
  },
  {
   "cell_type": "code",
   "execution_count": null,
   "id": "4344c797",
   "metadata": {
    "scrolled": true
   },
   "outputs": [],
   "source": [
    "#!pip install CHAID"
   ]
  },
  {
   "cell_type": "code",
   "execution_count": null,
   "id": "0f1ddf63",
   "metadata": {},
   "outputs": [],
   "source": [
    "#conda install CHAID"
   ]
  },
  {
   "cell_type": "code",
   "execution_count": null,
   "id": "0fdc1316",
   "metadata": {},
   "outputs": [],
   "source": [
    "#config = {\"algorithm\": \"CHAID\"}#"
   ]
  },
  {
   "cell_type": "code",
   "execution_count": null,
   "id": "5aa21a30",
   "metadata": {},
   "outputs": [],
   "source": [
    "#model = keras.Sequential(\n",
    "#    [\n",
    " #       keras.layers.Dense(\n",
    "  #          2, activation=\"relu\", input_shape=(X.shape[-1],)\n",
    "   #     ),\n",
    "    #    keras.layers.Dense(1, activation=\"linear\")\n",
    "   # ]\n",
    "#)\n",
    "#model.summary()model.compile(\n",
    " #   optimizer=keras.optimizers.SGD(), loss=\"mean_squared_error\"\n",
    "#)"
   ]
  },
  {
   "cell_type": "code",
   "execution_count": null,
   "id": "b7b6d22d",
   "metadata": {},
   "outputs": [],
   "source": [
    "#model.fit(X,Y.values,epochs=10,batch_size=32)"
   ]
  },
  {
   "cell_type": "code",
   "execution_count": null,
   "id": "35ae3ad4",
   "metadata": {},
   "outputs": [],
   "source": [
    "#model.predict(X)[:,0]"
   ]
  },
  {
   "cell_type": "code",
   "execution_count": null,
   "id": "f9107d3d",
   "metadata": {},
   "outputs": [],
   "source": [
    "#x1, x2,x3,x4,x5,z6,x7,x8,x9 = X_train.iloc[0]"
   ]
  },
  {
   "cell_type": "code",
   "execution_count": null,
   "id": "9a88e5bc",
   "metadata": {},
   "outputs": [],
   "source": [
    "#x = tf.constant([[x1,x2]], dtype=tf.float32)\n",
    "#x"
   ]
  },
  {
   "cell_type": "code",
   "execution_count": null,
   "id": "c820983a",
   "metadata": {},
   "outputs": [],
   "source": [
    "#weights\n",
    "#w1 = tf.Variable([0.2], dtype=tf.float32)\n",
    "#w2 = tf.Variable([0.15], dtype=tf.float32)\n",
    "#bias\n",
    "#b = tf.Variable([0.1], dtype=tf.float32)"
   ]
  },
  {
   "cell_type": "code",
   "execution_count": null,
   "id": "fea0c2eb",
   "metadata": {},
   "outputs": [],
   "source": [
    "#Cumulative input\n",
    "#z = b + w1*x1 +w2*x2\n",
    "#h = tf.math.sigmoid(z)\n",
    "#print(\"The output from the first neuron is\",h)"
   ]
  },
  {
   "cell_type": "code",
   "execution_count": null,
   "id": "6888ed95",
   "metadata": {},
   "outputs": [],
   "source": [
    "## layer1 weights\n",
    "# neuron1\n",
    "#b1 = tf.Variable([0.1])\n",
    "#w11 = tf.Variable([0.2])\n",
    "#w12 = tf.Variable([0.15])\n",
    "#neuron2\n",
    "#b2 = tf.Variable([0.25])\n",
    "#w21 = tf.Variable([0.5])\n",
    "#w22 = tf.Variable([0.6])\n"
   ]
  },
  {
   "cell_type": "code",
   "execution_count": null,
   "id": "ab5ce159",
   "metadata": {},
   "outputs": [],
   "source": [
    "## forward pass\n",
    "# neuron 1\n",
    "#z1 = b1+w11*x1+w12*x2\n",
    "#h1 = tf.math.sigmoid(z1)\n",
    "#print(\"The output from the first neuron is\",h1)"
   ]
  },
  {
   "cell_type": "code",
   "execution_count": null,
   "id": "2cbda863",
   "metadata": {},
   "outputs": [],
   "source": []
  },
  {
   "cell_type": "code",
   "execution_count": null,
   "id": "4dfef911",
   "metadata": {},
   "outputs": [],
   "source": [
    "#--------------------------#"
   ]
  },
  {
   "cell_type": "code",
   "execution_count": null,
   "id": "0b5fabe7",
   "metadata": {},
   "outputs": [],
   "source": [
    "#ada"
   ]
  },
  {
   "cell_type": "code",
   "execution_count": null,
   "id": "396801ed",
   "metadata": {
    "scrolled": true
   },
   "outputs": [],
   "source": [
    "#lreg_ada = LogisticRegression()\n",
    "#lreg_ada.fit(X_resampled_ada, y_resampled_ada)\n",
    "\n",
    "#y_pred_ada = lreg_ada.predict(X_test)"
   ]
  },
  {
   "cell_type": "code",
   "execution_count": null,
   "id": "31208e86",
   "metadata": {},
   "outputs": [],
   "source": []
  },
  {
   "cell_type": "code",
   "execution_count": null,
   "id": "a82495c1",
   "metadata": {},
   "outputs": [],
   "source": [
    "# PCA\n",
    "\n",
    "#pca = PCA()\n",
    "\n",
    "# logistic regression - Class weight used to handle class imbalance - which adjusts the cost function\n",
    "\n",
    "#logistic = LogisticRegression(class_weight={0:0.1, 1: 0.9})\n",
    "\n",
    "# Creating pipeline\n",
    "\n",
    "#steps = [(\"scaler\", StandardScaler()), \n",
    " #        (\"pca\", pca),\n",
    "  #       (\"logistic\", logistic)]\n",
    "\n",
    "# Compiling pipeline\n",
    "\n",
    "#pca_logistic = Pipeline(steps)\n",
    "\n",
    "# Hyperparameter space\n",
    "\n",
    "#params = {'pca__n_components': [58, 77], 'logistic__C': [0.1, 0.5, 1, 2, 3, 4, 5, 10], 'logistic__penalty': ['l1', 'l2']}\n",
    "\n",
    "# Creating 5 folds\n",
    "\n",
    "#folds = StratifiedKFold(n_splits = 5, shuffle = True, random_state = 4)\n",
    "\n",
    "# GridsearchCV object creation\n",
    "\n",
    "#model = GridSearchCV(estimator=pca_logistic, cv=folds, param_grid=params, scoring='roc_auc', n_jobs=-1, verbose=1)"
   ]
  },
  {
   "cell_type": "code",
   "execution_count": null,
   "id": "ac4e71b4",
   "metadata": {},
   "outputs": [],
   "source": [
    "#logm1 = sm.GLM(y_train,(sm.add_constant(X_train)), family = sm.families.Binomial())\n",
    "#logm1.fit().summary()"
   ]
  },
  {
   "cell_type": "code",
   "execution_count": null,
   "id": "1f2d05ba",
   "metadata": {},
   "outputs": [],
   "source": [
    "#rom sklearn.linear_model import LogisticRegression\n",
    "#logreg = LogisticRegression()"
   ]
  },
  {
   "cell_type": "code",
   "execution_count": null,
   "id": "446ba325",
   "metadata": {},
   "outputs": [],
   "source": [
    "#from sklearn.feature_selection import RFE\n",
    "#rfe = RFE(logreg, 15)             # running RFE with 13 variables as output\n",
    "#rfe = rfe.fit(X_train, y_train)"
   ]
  },
  {
   "cell_type": "code",
   "execution_count": null,
   "id": "2a8829c7",
   "metadata": {},
   "outputs": [],
   "source": [
    "#applying models"
   ]
  },
  {
   "cell_type": "code",
   "execution_count": null,
   "id": "9649d82c",
   "metadata": {},
   "outputs": [],
   "source": [
    "# --Naivyes bays , "
   ]
  },
  {
   "cell_type": "code",
   "execution_count": null,
   "id": "659e0942",
   "metadata": {},
   "outputs": [],
   "source": [
    "# ADASYN\n",
    "#from imblearn.over_sampling import ADASYN\n",
    "#ada = ADASYN(random_state=45, n_neighbors=5)\n",
    "#X_resampled_ada, y_resampled_ada = ada.fit_resample(X_train, y_train)\n",
    "#len(X_resampled_ada)"
   ]
  },
  {
   "cell_type": "code",
   "execution_count": null,
   "id": "0e6944b0",
   "metadata": {},
   "outputs": [],
   "source": []
  },
  {
   "cell_type": "code",
   "execution_count": null,
   "id": "f6a41d37",
   "metadata": {},
   "outputs": [],
   "source": []
  },
  {
   "cell_type": "code",
   "execution_count": null,
   "id": "3d5d6c36",
   "metadata": {},
   "outputs": [],
   "source": [
    "#ABOD"
   ]
  },
  {
   "cell_type": "code",
   "execution_count": null,
   "id": "b8950dbe",
   "metadata": {},
   "outputs": [],
   "source": [
    "#abod on datset without smote modeling"
   ]
  },
  {
   "cell_type": "code",
   "execution_count": null,
   "id": "6d19ea22",
   "metadata": {},
   "outputs": [],
   "source": [
    "#from pyod.utils.data import generate_data\n",
    "\n",
    "#X_train, Y_train = generate_data(   \n",
    " #                                   n_train=10000, \n",
    "  #                                  n_features=9,\n",
    "   #                                 train_only=True,\n",
    "    #                                contamination=0.1,\n",
    "     #                               random_state=10\n",
    "      #                           )\n",
    "                                 \n",
    "#x1, x2 = X_train[:,0], X_train[:,1]"
   ]
  },
  {
   "cell_type": "code",
   "execution_count": null,
   "id": "a3ee4a18",
   "metadata": {
    "scrolled": true
   },
   "outputs": [],
   "source": [
    "#import matplotlib.pyplot as plt\n",
    "#%matplotlib inline\n",
    "\n",
    "#for idx, i in enumerate(Y_train):\n",
    " #   if i==0.0: \n",
    "  #      color='blue'\n",
    "   # else: \n",
    "    #    color='red'\n",
    "    #plt.scatter(x1[idx], x2[idx], c=color)"
   ]
  },
  {
   "cell_type": "code",
   "execution_count": null,
   "id": "bb360259",
   "metadata": {},
   "outputs": [],
   "source": [
    "#from pyod.models.abod import ABOD\n",
    "\n",
    "#abod_model = ABOD(contamination=0.1, method='fast', n_neighbors=10)\n",
    "#abod_model.fit(X_train)\n",
    "\n",
    "#pred = abod_model.predict(X_train)\n",
    "\n",
    "#error = (pred != Y_train).sum()\n",
    "#print (f'Error % = {(error/len(pred))*100}')"
   ]
  },
  {
   "cell_type": "code",
   "execution_count": null,
   "id": "f9a69f2c",
   "metadata": {},
   "outputs": [],
   "source": [
    "#import matplotlib.pyplot as plt\n",
    "#%matplotlib inline\n",
    "\n",
    "#for idx, i in enumerate(pred):\n",
    " #   if i==0.0: \n",
    "  #      color='purple'\n",
    "   # else: \n",
    "    #    color='orange'\n",
    "     #   plt.scatter(x1[idx], x2[idx], c=color)"
   ]
  },
  {
   "cell_type": "code",
   "execution_count": null,
   "id": "561224be",
   "metadata": {},
   "outputs": [],
   "source": [
    "#from sklearn.preprocessing import StandardScaler\n"
   ]
  },
  {
   "cell_type": "code",
   "execution_count": null,
   "id": "aaa3fd3a",
   "metadata": {},
   "outputs": [],
   "source": [
    "#sc = StandardScaler()\n",
    "#X_train = sc.fit_transform(X_train)\n",
    "#X_test = sc.transform(X_test)"
   ]
  },
  {
   "cell_type": "code",
   "execution_count": null,
   "id": "ab192d84",
   "metadata": {},
   "outputs": [],
   "source": [
    "#scaler = StandardScaler()\n",
    "#X = scaler.fit_transform(X_train)\n",
    "\n",
    "# perform log transformation of target variable\n",
    "#Y = np.log(y_train)"
   ]
  }
 ],
 "metadata": {
  "kernelspec": {
   "display_name": "Python (Colab)",
   "language": "python",
   "name": "colab"
  },
  "language_info": {
   "codemirror_mode": {
    "name": "ipython",
    "version": 3
   },
   "file_extension": ".py",
   "mimetype": "text/x-python",
   "name": "python",
   "nbconvert_exporter": "python",
   "pygments_lexer": "ipython3",
   "version": "3.10.0"
  }
 },
 "nbformat": 4,
 "nbformat_minor": 5
}
